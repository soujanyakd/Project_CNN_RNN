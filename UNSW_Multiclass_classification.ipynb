{
  "nbformat": 4,
  "nbformat_minor": 0,
  "metadata": {
    "colab": {
      "name": "UNSW_Multiclass_classification.ipynb",
      "provenance": [],
      "collapsed_sections": [],
      "authorship_tag": "ABX9TyOE8e+4PE1qSID7ZNz65txx",
      "include_colab_link": true
    },
    "kernelspec": {
      "name": "python3",
      "display_name": "Python 3"
    },
    "language_info": {
      "name": "python"
    }
  },
  "cells": [
    {
      "cell_type": "markdown",
      "metadata": {
        "id": "view-in-github",
        "colab_type": "text"
      },
      "source": [
        "<a href=\"https://colab.research.google.com/github/soujanyakd/Project_CNN_RNN/blob/main/UNSW_Multiclass_classification.ipynb\" target=\"_parent\"><img src=\"https://colab.research.google.com/assets/colab-badge.svg\" alt=\"Open In Colab\"/></a>"
      ]
    },
    {
      "cell_type": "code",
      "metadata": {
        "colab": {
          "base_uri": "https://localhost:8080/"
        },
        "id": "KVWcQBRnnL0s",
        "outputId": "99cb2314-32a2-4f32-f46a-32ab7895e320"
      },
      "source": [
        "from google.colab import drive\n",
        "drive. mount('/content/drive/')"
      ],
      "execution_count": 1,
      "outputs": [
        {
          "output_type": "stream",
          "text": [
            "Mounted at /content/drive/\n"
          ],
          "name": "stdout"
        }
      ]
    },
    {
      "cell_type": "code",
      "metadata": {
        "id": "v9jUaiJpnQvu"
      },
      "source": [
        "#pip install -q keras"
      ],
      "execution_count": null,
      "outputs": []
    },
    {
      "cell_type": "code",
      "metadata": {
        "id": "rwQdDoJHnjji"
      },
      "source": [
        "import matplotlib.pyplot as plt\n",
        "import os\n",
        "import re\n",
        "import shutil\n",
        "import string\n",
        "import tensorflow as tf\n",
        "import seaborn as sns\n",
        "from tensorflow.keras import regularizers\n",
        "\n",
        "from tensorflow.keras import layers\n",
        "from tensorflow.keras import losses\n",
        "\n",
        "from collections import Counter\n",
        "\n",
        "\n",
        "import pandas as pd\n",
        "import numpy as np\n",
        "\n",
        "from sklearn.preprocessing import LabelEncoder\n",
        "from sklearn.model_selection import train_test_split\n",
        "from sklearn.metrics import classification_report\n",
        "\n",
        "from tensorflow.keras import preprocessing\n",
        "from tensorflow.keras.preprocessing.text import Tokenizer\n",
        "from tensorflow.keras.preprocessing.sequence import pad_sequences\n",
        "from keras.datasets import imdb\n",
        "from tensorflow.keras.preprocessing.text import Tokenizer\n",
        "\n",
        "\n",
        "import pydot"
      ],
      "execution_count": 2,
      "outputs": []
    },
    {
      "cell_type": "code",
      "metadata": {
        "colab": {
          "base_uri": "https://localhost:8080/",
          "height": 669
        },
        "id": "f6nzlXNANkiR",
        "outputId": "43fbe8d3-80a8-4faf-d927-9a926353f320"
      },
      "source": [
        "#uploading training dataset\n",
        "data= pd.read_csv(\"/content/drive/MyDrive/UNSW_NB15_testing-set.csv\")\n",
        "print('-------Data--------')\n",
        "print(data['attack_cat'].value_counts())\n",
        "print(len(data))\n",
        "print('-------------------------')\n",
        "data"
      ],
      "execution_count": 72,
      "outputs": [
        {
          "output_type": "stream",
          "text": [
            "-------Data--------\n",
            "Normal            56000\n",
            "Generic           40000\n",
            "Exploits          33393\n",
            "Fuzzers           18184\n",
            "DoS               12264\n",
            "Reconnaissance    10491\n",
            "Analysis           2000\n",
            "Backdoor           1746\n",
            "Shellcode          1133\n",
            "Worms               130\n",
            "Name: attack_cat, dtype: int64\n",
            "175341\n",
            "-------------------------\n"
          ],
          "name": "stdout"
        },
        {
          "output_type": "execute_result",
          "data": {
            "text/html": [
              "<div>\n",
              "<style scoped>\n",
              "    .dataframe tbody tr th:only-of-type {\n",
              "        vertical-align: middle;\n",
              "    }\n",
              "\n",
              "    .dataframe tbody tr th {\n",
              "        vertical-align: top;\n",
              "    }\n",
              "\n",
              "    .dataframe thead th {\n",
              "        text-align: right;\n",
              "    }\n",
              "</style>\n",
              "<table border=\"1\" class=\"dataframe\">\n",
              "  <thead>\n",
              "    <tr style=\"text-align: right;\">\n",
              "      <th></th>\n",
              "      <th>id</th>\n",
              "      <th>dur</th>\n",
              "      <th>proto</th>\n",
              "      <th>service</th>\n",
              "      <th>state</th>\n",
              "      <th>spkts</th>\n",
              "      <th>dpkts</th>\n",
              "      <th>sbytes</th>\n",
              "      <th>dbytes</th>\n",
              "      <th>rate</th>\n",
              "      <th>sttl</th>\n",
              "      <th>dttl</th>\n",
              "      <th>sload</th>\n",
              "      <th>dload</th>\n",
              "      <th>sloss</th>\n",
              "      <th>dloss</th>\n",
              "      <th>sinpkt</th>\n",
              "      <th>dinpkt</th>\n",
              "      <th>sjit</th>\n",
              "      <th>djit</th>\n",
              "      <th>swin</th>\n",
              "      <th>stcpb</th>\n",
              "      <th>dtcpb</th>\n",
              "      <th>dwin</th>\n",
              "      <th>tcprtt</th>\n",
              "      <th>synack</th>\n",
              "      <th>ackdat</th>\n",
              "      <th>smean</th>\n",
              "      <th>dmean</th>\n",
              "      <th>trans_depth</th>\n",
              "      <th>response_body_len</th>\n",
              "      <th>ct_srv_src</th>\n",
              "      <th>ct_state_ttl</th>\n",
              "      <th>ct_dst_ltm</th>\n",
              "      <th>ct_src_dport_ltm</th>\n",
              "      <th>ct_dst_sport_ltm</th>\n",
              "      <th>ct_dst_src_ltm</th>\n",
              "      <th>is_ftp_login</th>\n",
              "      <th>ct_ftp_cmd</th>\n",
              "      <th>ct_flw_http_mthd</th>\n",
              "      <th>ct_src_ltm</th>\n",
              "      <th>ct_srv_dst</th>\n",
              "      <th>is_sm_ips_ports</th>\n",
              "      <th>attack_cat</th>\n",
              "      <th>label</th>\n",
              "    </tr>\n",
              "  </thead>\n",
              "  <tbody>\n",
              "    <tr>\n",
              "      <th>0</th>\n",
              "      <td>1</td>\n",
              "      <td>0.121478</td>\n",
              "      <td>tcp</td>\n",
              "      <td>-</td>\n",
              "      <td>FIN</td>\n",
              "      <td>6</td>\n",
              "      <td>4</td>\n",
              "      <td>258</td>\n",
              "      <td>172</td>\n",
              "      <td>74.087490</td>\n",
              "      <td>252</td>\n",
              "      <td>254</td>\n",
              "      <td>1.415894e+04</td>\n",
              "      <td>8495.365234</td>\n",
              "      <td>0</td>\n",
              "      <td>0</td>\n",
              "      <td>24.295600</td>\n",
              "      <td>8.375000</td>\n",
              "      <td>30.177547</td>\n",
              "      <td>11.830604</td>\n",
              "      <td>255</td>\n",
              "      <td>621772692</td>\n",
              "      <td>2202533631</td>\n",
              "      <td>255</td>\n",
              "      <td>0.000000</td>\n",
              "      <td>0.000000</td>\n",
              "      <td>0.000000</td>\n",
              "      <td>43</td>\n",
              "      <td>43</td>\n",
              "      <td>0</td>\n",
              "      <td>0</td>\n",
              "      <td>1</td>\n",
              "      <td>0</td>\n",
              "      <td>1</td>\n",
              "      <td>1</td>\n",
              "      <td>1</td>\n",
              "      <td>1</td>\n",
              "      <td>0</td>\n",
              "      <td>0</td>\n",
              "      <td>0</td>\n",
              "      <td>1</td>\n",
              "      <td>1</td>\n",
              "      <td>0</td>\n",
              "      <td>Normal</td>\n",
              "      <td>0</td>\n",
              "    </tr>\n",
              "    <tr>\n",
              "      <th>1</th>\n",
              "      <td>2</td>\n",
              "      <td>0.649902</td>\n",
              "      <td>tcp</td>\n",
              "      <td>-</td>\n",
              "      <td>FIN</td>\n",
              "      <td>14</td>\n",
              "      <td>38</td>\n",
              "      <td>734</td>\n",
              "      <td>42014</td>\n",
              "      <td>78.473372</td>\n",
              "      <td>62</td>\n",
              "      <td>252</td>\n",
              "      <td>8.395112e+03</td>\n",
              "      <td>503571.312500</td>\n",
              "      <td>2</td>\n",
              "      <td>17</td>\n",
              "      <td>49.915000</td>\n",
              "      <td>15.432865</td>\n",
              "      <td>61.426934</td>\n",
              "      <td>1387.778330</td>\n",
              "      <td>255</td>\n",
              "      <td>1417884146</td>\n",
              "      <td>3077387971</td>\n",
              "      <td>255</td>\n",
              "      <td>0.000000</td>\n",
              "      <td>0.000000</td>\n",
              "      <td>0.000000</td>\n",
              "      <td>52</td>\n",
              "      <td>1106</td>\n",
              "      <td>0</td>\n",
              "      <td>0</td>\n",
              "      <td>43</td>\n",
              "      <td>1</td>\n",
              "      <td>1</td>\n",
              "      <td>1</td>\n",
              "      <td>1</td>\n",
              "      <td>2</td>\n",
              "      <td>0</td>\n",
              "      <td>0</td>\n",
              "      <td>0</td>\n",
              "      <td>1</td>\n",
              "      <td>6</td>\n",
              "      <td>0</td>\n",
              "      <td>Normal</td>\n",
              "      <td>0</td>\n",
              "    </tr>\n",
              "    <tr>\n",
              "      <th>2</th>\n",
              "      <td>3</td>\n",
              "      <td>1.623129</td>\n",
              "      <td>tcp</td>\n",
              "      <td>-</td>\n",
              "      <td>FIN</td>\n",
              "      <td>8</td>\n",
              "      <td>16</td>\n",
              "      <td>364</td>\n",
              "      <td>13186</td>\n",
              "      <td>14.170161</td>\n",
              "      <td>62</td>\n",
              "      <td>252</td>\n",
              "      <td>1.572272e+03</td>\n",
              "      <td>60929.230470</td>\n",
              "      <td>1</td>\n",
              "      <td>6</td>\n",
              "      <td>231.875571</td>\n",
              "      <td>102.737203</td>\n",
              "      <td>17179.586860</td>\n",
              "      <td>11420.926230</td>\n",
              "      <td>255</td>\n",
              "      <td>2116150707</td>\n",
              "      <td>2963114973</td>\n",
              "      <td>255</td>\n",
              "      <td>0.111897</td>\n",
              "      <td>0.061458</td>\n",
              "      <td>0.050439</td>\n",
              "      <td>46</td>\n",
              "      <td>824</td>\n",
              "      <td>0</td>\n",
              "      <td>0</td>\n",
              "      <td>7</td>\n",
              "      <td>1</td>\n",
              "      <td>2</td>\n",
              "      <td>1</td>\n",
              "      <td>1</td>\n",
              "      <td>3</td>\n",
              "      <td>0</td>\n",
              "      <td>0</td>\n",
              "      <td>0</td>\n",
              "      <td>2</td>\n",
              "      <td>6</td>\n",
              "      <td>0</td>\n",
              "      <td>Normal</td>\n",
              "      <td>0</td>\n",
              "    </tr>\n",
              "    <tr>\n",
              "      <th>3</th>\n",
              "      <td>4</td>\n",
              "      <td>1.681642</td>\n",
              "      <td>tcp</td>\n",
              "      <td>ftp</td>\n",
              "      <td>FIN</td>\n",
              "      <td>12</td>\n",
              "      <td>12</td>\n",
              "      <td>628</td>\n",
              "      <td>770</td>\n",
              "      <td>13.677108</td>\n",
              "      <td>62</td>\n",
              "      <td>252</td>\n",
              "      <td>2.740179e+03</td>\n",
              "      <td>3358.622070</td>\n",
              "      <td>1</td>\n",
              "      <td>3</td>\n",
              "      <td>152.876547</td>\n",
              "      <td>90.235726</td>\n",
              "      <td>259.080172</td>\n",
              "      <td>4991.784669</td>\n",
              "      <td>255</td>\n",
              "      <td>1107119177</td>\n",
              "      <td>1047442890</td>\n",
              "      <td>255</td>\n",
              "      <td>0.000000</td>\n",
              "      <td>0.000000</td>\n",
              "      <td>0.000000</td>\n",
              "      <td>52</td>\n",
              "      <td>64</td>\n",
              "      <td>0</td>\n",
              "      <td>0</td>\n",
              "      <td>1</td>\n",
              "      <td>1</td>\n",
              "      <td>2</td>\n",
              "      <td>1</td>\n",
              "      <td>1</td>\n",
              "      <td>3</td>\n",
              "      <td>1</td>\n",
              "      <td>1</td>\n",
              "      <td>0</td>\n",
              "      <td>2</td>\n",
              "      <td>1</td>\n",
              "      <td>0</td>\n",
              "      <td>Normal</td>\n",
              "      <td>0</td>\n",
              "    </tr>\n",
              "    <tr>\n",
              "      <th>4</th>\n",
              "      <td>5</td>\n",
              "      <td>0.449454</td>\n",
              "      <td>tcp</td>\n",
              "      <td>-</td>\n",
              "      <td>FIN</td>\n",
              "      <td>10</td>\n",
              "      <td>6</td>\n",
              "      <td>534</td>\n",
              "      <td>268</td>\n",
              "      <td>33.373826</td>\n",
              "      <td>254</td>\n",
              "      <td>252</td>\n",
              "      <td>8.561499e+03</td>\n",
              "      <td>3987.059814</td>\n",
              "      <td>2</td>\n",
              "      <td>1</td>\n",
              "      <td>47.750333</td>\n",
              "      <td>75.659602</td>\n",
              "      <td>2415.837634</td>\n",
              "      <td>115.807000</td>\n",
              "      <td>255</td>\n",
              "      <td>2436137549</td>\n",
              "      <td>1977154190</td>\n",
              "      <td>255</td>\n",
              "      <td>0.128381</td>\n",
              "      <td>0.071147</td>\n",
              "      <td>0.057234</td>\n",
              "      <td>53</td>\n",
              "      <td>45</td>\n",
              "      <td>0</td>\n",
              "      <td>0</td>\n",
              "      <td>43</td>\n",
              "      <td>1</td>\n",
              "      <td>2</td>\n",
              "      <td>2</td>\n",
              "      <td>1</td>\n",
              "      <td>40</td>\n",
              "      <td>0</td>\n",
              "      <td>0</td>\n",
              "      <td>0</td>\n",
              "      <td>2</td>\n",
              "      <td>39</td>\n",
              "      <td>0</td>\n",
              "      <td>Normal</td>\n",
              "      <td>0</td>\n",
              "    </tr>\n",
              "    <tr>\n",
              "      <th>...</th>\n",
              "      <td>...</td>\n",
              "      <td>...</td>\n",
              "      <td>...</td>\n",
              "      <td>...</td>\n",
              "      <td>...</td>\n",
              "      <td>...</td>\n",
              "      <td>...</td>\n",
              "      <td>...</td>\n",
              "      <td>...</td>\n",
              "      <td>...</td>\n",
              "      <td>...</td>\n",
              "      <td>...</td>\n",
              "      <td>...</td>\n",
              "      <td>...</td>\n",
              "      <td>...</td>\n",
              "      <td>...</td>\n",
              "      <td>...</td>\n",
              "      <td>...</td>\n",
              "      <td>...</td>\n",
              "      <td>...</td>\n",
              "      <td>...</td>\n",
              "      <td>...</td>\n",
              "      <td>...</td>\n",
              "      <td>...</td>\n",
              "      <td>...</td>\n",
              "      <td>...</td>\n",
              "      <td>...</td>\n",
              "      <td>...</td>\n",
              "      <td>...</td>\n",
              "      <td>...</td>\n",
              "      <td>...</td>\n",
              "      <td>...</td>\n",
              "      <td>...</td>\n",
              "      <td>...</td>\n",
              "      <td>...</td>\n",
              "      <td>...</td>\n",
              "      <td>...</td>\n",
              "      <td>...</td>\n",
              "      <td>...</td>\n",
              "      <td>...</td>\n",
              "      <td>...</td>\n",
              "      <td>...</td>\n",
              "      <td>...</td>\n",
              "      <td>...</td>\n",
              "      <td>...</td>\n",
              "    </tr>\n",
              "    <tr>\n",
              "      <th>175336</th>\n",
              "      <td>175337</td>\n",
              "      <td>0.000009</td>\n",
              "      <td>udp</td>\n",
              "      <td>dns</td>\n",
              "      <td>INT</td>\n",
              "      <td>2</td>\n",
              "      <td>0</td>\n",
              "      <td>114</td>\n",
              "      <td>0</td>\n",
              "      <td>111111.107200</td>\n",
              "      <td>254</td>\n",
              "      <td>0</td>\n",
              "      <td>5.066666e+07</td>\n",
              "      <td>0.000000</td>\n",
              "      <td>0</td>\n",
              "      <td>0</td>\n",
              "      <td>0.009000</td>\n",
              "      <td>0.000000</td>\n",
              "      <td>0.000000</td>\n",
              "      <td>0.000000</td>\n",
              "      <td>0</td>\n",
              "      <td>0</td>\n",
              "      <td>0</td>\n",
              "      <td>0</td>\n",
              "      <td>0.000000</td>\n",
              "      <td>0.000000</td>\n",
              "      <td>0.000000</td>\n",
              "      <td>57</td>\n",
              "      <td>0</td>\n",
              "      <td>0</td>\n",
              "      <td>0</td>\n",
              "      <td>24</td>\n",
              "      <td>2</td>\n",
              "      <td>24</td>\n",
              "      <td>24</td>\n",
              "      <td>13</td>\n",
              "      <td>24</td>\n",
              "      <td>0</td>\n",
              "      <td>0</td>\n",
              "      <td>0</td>\n",
              "      <td>24</td>\n",
              "      <td>24</td>\n",
              "      <td>0</td>\n",
              "      <td>Generic</td>\n",
              "      <td>1</td>\n",
              "    </tr>\n",
              "    <tr>\n",
              "      <th>175337</th>\n",
              "      <td>175338</td>\n",
              "      <td>0.505762</td>\n",
              "      <td>tcp</td>\n",
              "      <td>-</td>\n",
              "      <td>FIN</td>\n",
              "      <td>10</td>\n",
              "      <td>8</td>\n",
              "      <td>620</td>\n",
              "      <td>354</td>\n",
              "      <td>33.612649</td>\n",
              "      <td>254</td>\n",
              "      <td>252</td>\n",
              "      <td>8.826286e+03</td>\n",
              "      <td>4903.492188</td>\n",
              "      <td>2</td>\n",
              "      <td>1</td>\n",
              "      <td>54.400111</td>\n",
              "      <td>66.980570</td>\n",
              "      <td>3721.068786</td>\n",
              "      <td>120.177727</td>\n",
              "      <td>255</td>\n",
              "      <td>3518776216</td>\n",
              "      <td>3453092386</td>\n",
              "      <td>255</td>\n",
              "      <td>0.099440</td>\n",
              "      <td>0.036895</td>\n",
              "      <td>0.062545</td>\n",
              "      <td>62</td>\n",
              "      <td>44</td>\n",
              "      <td>0</td>\n",
              "      <td>0</td>\n",
              "      <td>1</td>\n",
              "      <td>1</td>\n",
              "      <td>1</td>\n",
              "      <td>1</td>\n",
              "      <td>1</td>\n",
              "      <td>2</td>\n",
              "      <td>0</td>\n",
              "      <td>0</td>\n",
              "      <td>0</td>\n",
              "      <td>1</td>\n",
              "      <td>1</td>\n",
              "      <td>0</td>\n",
              "      <td>Shellcode</td>\n",
              "      <td>1</td>\n",
              "    </tr>\n",
              "    <tr>\n",
              "      <th>175338</th>\n",
              "      <td>175339</td>\n",
              "      <td>0.000009</td>\n",
              "      <td>udp</td>\n",
              "      <td>dns</td>\n",
              "      <td>INT</td>\n",
              "      <td>2</td>\n",
              "      <td>0</td>\n",
              "      <td>114</td>\n",
              "      <td>0</td>\n",
              "      <td>111111.107200</td>\n",
              "      <td>254</td>\n",
              "      <td>0</td>\n",
              "      <td>5.066666e+07</td>\n",
              "      <td>0.000000</td>\n",
              "      <td>0</td>\n",
              "      <td>0</td>\n",
              "      <td>0.009000</td>\n",
              "      <td>0.000000</td>\n",
              "      <td>0.000000</td>\n",
              "      <td>0.000000</td>\n",
              "      <td>0</td>\n",
              "      <td>0</td>\n",
              "      <td>0</td>\n",
              "      <td>0</td>\n",
              "      <td>0.000000</td>\n",
              "      <td>0.000000</td>\n",
              "      <td>0.000000</td>\n",
              "      <td>57</td>\n",
              "      <td>0</td>\n",
              "      <td>0</td>\n",
              "      <td>0</td>\n",
              "      <td>12</td>\n",
              "      <td>2</td>\n",
              "      <td>3</td>\n",
              "      <td>3</td>\n",
              "      <td>3</td>\n",
              "      <td>13</td>\n",
              "      <td>0</td>\n",
              "      <td>0</td>\n",
              "      <td>0</td>\n",
              "      <td>3</td>\n",
              "      <td>12</td>\n",
              "      <td>0</td>\n",
              "      <td>Generic</td>\n",
              "      <td>1</td>\n",
              "    </tr>\n",
              "    <tr>\n",
              "      <th>175339</th>\n",
              "      <td>175340</td>\n",
              "      <td>0.000009</td>\n",
              "      <td>udp</td>\n",
              "      <td>dns</td>\n",
              "      <td>INT</td>\n",
              "      <td>2</td>\n",
              "      <td>0</td>\n",
              "      <td>114</td>\n",
              "      <td>0</td>\n",
              "      <td>111111.107200</td>\n",
              "      <td>254</td>\n",
              "      <td>0</td>\n",
              "      <td>5.066666e+07</td>\n",
              "      <td>0.000000</td>\n",
              "      <td>0</td>\n",
              "      <td>0</td>\n",
              "      <td>0.009000</td>\n",
              "      <td>0.000000</td>\n",
              "      <td>0.000000</td>\n",
              "      <td>0.000000</td>\n",
              "      <td>0</td>\n",
              "      <td>0</td>\n",
              "      <td>0</td>\n",
              "      <td>0</td>\n",
              "      <td>0.000000</td>\n",
              "      <td>0.000000</td>\n",
              "      <td>0.000000</td>\n",
              "      <td>57</td>\n",
              "      <td>0</td>\n",
              "      <td>0</td>\n",
              "      <td>0</td>\n",
              "      <td>30</td>\n",
              "      <td>2</td>\n",
              "      <td>30</td>\n",
              "      <td>30</td>\n",
              "      <td>14</td>\n",
              "      <td>30</td>\n",
              "      <td>0</td>\n",
              "      <td>0</td>\n",
              "      <td>0</td>\n",
              "      <td>30</td>\n",
              "      <td>30</td>\n",
              "      <td>0</td>\n",
              "      <td>Generic</td>\n",
              "      <td>1</td>\n",
              "    </tr>\n",
              "    <tr>\n",
              "      <th>175340</th>\n",
              "      <td>175341</td>\n",
              "      <td>0.000009</td>\n",
              "      <td>udp</td>\n",
              "      <td>dns</td>\n",
              "      <td>INT</td>\n",
              "      <td>2</td>\n",
              "      <td>0</td>\n",
              "      <td>114</td>\n",
              "      <td>0</td>\n",
              "      <td>111111.107200</td>\n",
              "      <td>254</td>\n",
              "      <td>0</td>\n",
              "      <td>5.066666e+07</td>\n",
              "      <td>0.000000</td>\n",
              "      <td>0</td>\n",
              "      <td>0</td>\n",
              "      <td>0.009000</td>\n",
              "      <td>0.000000</td>\n",
              "      <td>0.000000</td>\n",
              "      <td>0.000000</td>\n",
              "      <td>0</td>\n",
              "      <td>0</td>\n",
              "      <td>0</td>\n",
              "      <td>0</td>\n",
              "      <td>0.000000</td>\n",
              "      <td>0.000000</td>\n",
              "      <td>0.000000</td>\n",
              "      <td>57</td>\n",
              "      <td>0</td>\n",
              "      <td>0</td>\n",
              "      <td>0</td>\n",
              "      <td>30</td>\n",
              "      <td>2</td>\n",
              "      <td>30</td>\n",
              "      <td>30</td>\n",
              "      <td>16</td>\n",
              "      <td>30</td>\n",
              "      <td>0</td>\n",
              "      <td>0</td>\n",
              "      <td>0</td>\n",
              "      <td>30</td>\n",
              "      <td>30</td>\n",
              "      <td>0</td>\n",
              "      <td>Generic</td>\n",
              "      <td>1</td>\n",
              "    </tr>\n",
              "  </tbody>\n",
              "</table>\n",
              "<p>175341 rows × 45 columns</p>\n",
              "</div>"
            ],
            "text/plain": [
              "            id       dur proto  ... is_sm_ips_ports attack_cat  label\n",
              "0            1  0.121478   tcp  ...               0     Normal      0\n",
              "1            2  0.649902   tcp  ...               0     Normal      0\n",
              "2            3  1.623129   tcp  ...               0     Normal      0\n",
              "3            4  1.681642   tcp  ...               0     Normal      0\n",
              "4            5  0.449454   tcp  ...               0     Normal      0\n",
              "...        ...       ...   ...  ...             ...        ...    ...\n",
              "175336  175337  0.000009   udp  ...               0    Generic      1\n",
              "175337  175338  0.505762   tcp  ...               0  Shellcode      1\n",
              "175338  175339  0.000009   udp  ...               0    Generic      1\n",
              "175339  175340  0.000009   udp  ...               0    Generic      1\n",
              "175340  175341  0.000009   udp  ...               0    Generic      1\n",
              "\n",
              "[175341 rows x 45 columns]"
            ]
          },
          "metadata": {
            "tags": []
          },
          "execution_count": 72
        }
      ]
    },
    {
      "cell_type": "code",
      "metadata": {
        "colab": {
          "base_uri": "https://localhost:8080/",
          "height": 401
        },
        "id": "TVbdxvEdl9-d",
        "outputId": "defc21e9-3840-49a0-f2a4-fa6f21c4c13a"
      },
      "source": [
        "sns.catplot(x=\"attack_cat\",kind=\"count\", data=data, palette=\"dark\",aspect=1.99)"
      ],
      "execution_count": 73,
      "outputs": [
        {
          "output_type": "execute_result",
          "data": {
            "text/plain": [
              "<seaborn.axisgrid.FacetGrid at 0x7f3e54d44a50>"
            ]
          },
          "metadata": {
            "tags": []
          },
          "execution_count": 73
        },
        {
          "output_type": "display_data",
          "data": {
            "image/png": "[encoded data removed]",
            "text/plain": [
              "<Figure size 716.4x360 with 1 Axes>"
            ]
          },
          "metadata": {
            "tags": [],
            "needs_background": "light"
          }
        }
      ]
    },
    {
      "cell_type": "code",
      "metadata": {
        "colab": {
          "base_uri": "https://localhost:8080/"
        },
        "id": "5Id1HcQJ9pkf",
        "outputId": "bfb000f7-31bf-4333-e06b-35dc3323e05b"
      },
      "source": [
        "data.drop(data[data['attack_cat']=='Generic'].index, inplace = True)\n",
        "data.drop(data[data['attack_cat']=='Fuzzers'].index, inplace = True)\n",
        "data.drop(data[data['attack_cat']=='DoS'].index, inplace = True)\n",
        "data.drop(data[data['attack_cat']=='Backdoor'].index, inplace = True)\n",
        "data.drop(data[data['attack_cat']=='Shellcode'].index, inplace = True)\n",
        "data.drop(data[data['attack_cat']=='Worms'].index, inplace = True)\n",
        "print(data['attack_cat'].value_counts())"
      ],
      "execution_count": 74,
      "outputs": [
        {
          "output_type": "stream",
          "text": [
            "Normal            56000\n",
            "Exploits          33393\n",
            "Reconnaissance    10491\n",
            "Analysis           2000\n",
            "Name: attack_cat, dtype: int64\n"
          ],
          "name": "stdout"
        }
      ]
    },
    {
      "cell_type": "code",
      "metadata": {
        "colab": {
          "base_uri": "https://localhost:8080/",
          "height": 401
        },
        "id": "fJnj_gHN2t6c",
        "outputId": "7720eeeb-e79a-4044-cfdf-aceb3cea9a62"
      },
      "source": [
        "sns.catplot(x=\"attack_cat\",kind=\"count\", data=data, palette=\"dark\",aspect=.99)"
      ],
      "execution_count": 75,
      "outputs": [
        {
          "output_type": "execute_result",
          "data": {
            "text/plain": [
              "<seaborn.axisgrid.FacetGrid at 0x7f3e54cba790>"
            ]
          },
          "metadata": {
            "tags": []
          },
          "execution_count": 75
        },
        {
          "output_type": "display_data",
          "data": {
            "image/png": "[encoded data removed]",
            "text/plain": [
              "<Figure size 356.4x360 with 1 Axes>"
            ]
          },
          "metadata": {
            "tags": [],
            "needs_background": "light"
          }
        }
      ]
    },
    {
      "cell_type": "code",
      "metadata": {
        "colab": {
          "base_uri": "https://localhost:8080/"
        },
        "id": "DTWjwO6EoSYg",
        "outputId": "2d8099b0-31f6-4a8c-cdfe-8dbbe4a9ccf2"
      },
      "source": [
        "data.isnull().sum()"
      ],
      "execution_count": 76,
      "outputs": [
        {
          "output_type": "execute_result",
          "data": {
            "text/plain": [
              "id                   0\n",
              "dur                  0\n",
              "proto                0\n",
              "service              0\n",
              "state                0\n",
              "spkts                0\n",
              "dpkts                0\n",
              "sbytes               0\n",
              "dbytes               0\n",
              "rate                 0\n",
              "sttl                 0\n",
              "dttl                 0\n",
              "sload                0\n",
              "dload                0\n",
              "sloss                0\n",
              "dloss                0\n",
              "sinpkt               0\n",
              "dinpkt               0\n",
              "sjit                 0\n",
              "djit                 0\n",
              "swin                 0\n",
              "stcpb                0\n",
              "dtcpb                0\n",
              "dwin                 0\n",
              "tcprtt               0\n",
              "synack               0\n",
              "ackdat               0\n",
              "smean                0\n",
              "dmean                0\n",
              "trans_depth          0\n",
              "response_body_len    0\n",
              "ct_srv_src           0\n",
              "ct_state_ttl         0\n",
              "ct_dst_ltm           0\n",
              "ct_src_dport_ltm     0\n",
              "ct_dst_sport_ltm     0\n",
              "ct_dst_src_ltm       0\n",
              "is_ftp_login         0\n",
              "ct_ftp_cmd           0\n",
              "ct_flw_http_mthd     0\n",
              "ct_src_ltm           0\n",
              "ct_srv_dst           0\n",
              "is_sm_ips_ports      0\n",
              "attack_cat           0\n",
              "label                0\n",
              "dtype: int64"
            ]
          },
          "metadata": {
            "tags": []
          },
          "execution_count": 76
        }
      ]
    },
    {
      "cell_type": "code",
      "metadata": {
        "colab": {
          "base_uri": "https://localhost:8080/"
        },
        "id": "fKtZw4dgGduX",
        "outputId": "193af4e3-cdac-43c9-99e1-8ddd6b1cd136"
      },
      "source": [
        "\n",
        "data.info()"
      ],
      "execution_count": 77,
      "outputs": [
        {
          "output_type": "stream",
          "text": [
            "<class 'pandas.core.frame.DataFrame'>\n",
            "Int64Index: 101884 entries, 0 to 175305\n",
            "Data columns (total 45 columns):\n",
            " #   Column             Non-Null Count   Dtype  \n",
            "---  ------             --------------   -----  \n",
            " 0   id                 101884 non-null  int64  \n",
            " 1   dur                101884 non-null  float64\n",
            " 2   proto              101884 non-null  object \n",
            " 3   service            101884 non-null  object \n",
            " 4   state              101884 non-null  object \n",
            " 5   spkts              101884 non-null  int64  \n",
            " 6   dpkts              101884 non-null  int64  \n",
            " 7   sbytes             101884 non-null  int64  \n",
            " 8   dbytes             101884 non-null  int64  \n",
            " 9   rate               101884 non-null  float64\n",
            " 10  sttl               101884 non-null  int64  \n",
            " 11  dttl               101884 non-null  int64  \n",
            " 12  sload              101884 non-null  float64\n",
            " 13  dload              101884 non-null  float64\n",
            " 14  sloss              101884 non-null  int64  \n",
            " 15  dloss              101884 non-null  int64  \n",
            " 16  sinpkt             101884 non-null  float64\n",
            " 17  dinpkt             101884 non-null  float64\n",
            " 18  sjit               101884 non-null  float64\n",
            " 19  djit               101884 non-null  float64\n",
            " 20  swin               101884 non-null  int64  \n",
            " 21  stcpb              101884 non-null  int64  \n",
            " 22  dtcpb              101884 non-null  int64  \n",
            " 23  dwin               101884 non-null  int64  \n",
            " 24  tcprtt             101884 non-null  float64\n",
            " 25  synack             101884 non-null  float64\n",
            " 26  ackdat             101884 non-null  float64\n",
            " 27  smean              101884 non-null  int64  \n",
            " 28  dmean              101884 non-null  int64  \n",
            " 29  trans_depth        101884 non-null  int64  \n",
            " 30  response_body_len  101884 non-null  int64  \n",
            " 31  ct_srv_src         101884 non-null  int64  \n",
            " 32  ct_state_ttl       101884 non-null  int64  \n",
            " 33  ct_dst_ltm         101884 non-null  int64  \n",
            " 34  ct_src_dport_ltm   101884 non-null  int64  \n",
            " 35  ct_dst_sport_ltm   101884 non-null  int64  \n",
            " 36  ct_dst_src_ltm     101884 non-null  int64  \n",
            " 37  is_ftp_login       101884 non-null  int64  \n",
            " 38  ct_ftp_cmd         101884 non-null  int64  \n",
            " 39  ct_flw_http_mthd   101884 non-null  int64  \n",
            " 40  ct_src_ltm         101884 non-null  int64  \n",
            " 41  ct_srv_dst         101884 non-null  int64  \n",
            " 42  is_sm_ips_ports    101884 non-null  int64  \n",
            " 43  attack_cat         101884 non-null  object \n",
            " 44  label              101884 non-null  int64  \n",
            "dtypes: float64(11), int64(30), object(4)\n",
            "memory usage: 40.8+ MB\n"
          ],
          "name": "stdout"
        }
      ]
    },
    {
      "cell_type": "code",
      "metadata": {
        "colab": {
          "base_uri": "https://localhost:8080/"
        },
        "id": "eexOtRBlehjJ",
        "outputId": "34b0252d-04fc-46fc-dc81-cb79fd188d2f"
      },
      "source": [
        "print(data['service'].value_counts())\n",
        "print(data['proto'].value_counts())\n",
        "print(data['state'].value_counts())"
      ],
      "execution_count": 78,
      "outputs": [
        {
          "output_type": "stream",
          "text": [
            "-           63942\n",
            "http        16186\n",
            "dns          7713\n",
            "smtp         4703\n",
            "ftp-data     3987\n",
            "ftp          2833\n",
            "ssh          1301\n",
            "pop3         1043\n",
            "snmp           66\n",
            "dhcp           52\n",
            "ssl            39\n",
            "irc            10\n",
            "radius          9\n",
            "Name: service, dtype: int64\n",
            "tcp         64474\n",
            "udp         18132\n",
            "unas         6700\n",
            "arp          2859\n",
            "ospf         1551\n",
            "            ...  \n",
            "rdp            55\n",
            "ipx-n-ip       55\n",
            "igmp           18\n",
            "icmp           15\n",
            "rtp             1\n",
            "Name: proto, Length: 133, dtype: int64\n",
            "FIN    62425\n",
            "INT    25253\n",
            "CON    12749\n",
            "REQ     1362\n",
            "RST       80\n",
            "ECO       12\n",
            "no         1\n",
            "URN        1\n",
            "PAR        1\n",
            "Name: state, dtype: int64\n"
          ],
          "name": "stdout"
        }
      ]
    },
    {
      "cell_type": "code",
      "metadata": {
        "id": "kCdeC0Q4Er1_"
      },
      "source": [
        "\n",
        "data=data.drop(['service'],axis=1)\n",
        "data=data.drop(['id'],axis=1)"
      ],
      "execution_count": 79,
      "outputs": []
    },
    {
      "cell_type": "code",
      "metadata": {
        "id": "TlfuvqI3GTsM",
        "colab": {
          "base_uri": "https://localhost:8080/"
        },
        "outputId": "e0075a8d-88da-4eb4-ab91-184e83591613"
      },
      "source": [
        "from sklearn import preprocessing\n",
        "le=preprocessing.LabelEncoder()\n",
        "data['proto'] = le.fit_transform(data['proto'])\n",
        "data['state'] = le.fit_transform(data['state'])\n",
        "data.replace({'attack_cat':{'Normal':0,'Exploits':1,'Reconnaissance':2,'Analysis':3}},inplace=True)\n",
        "print(data['attack_cat'].value_counts())"
      ],
      "execution_count": 80,
      "outputs": [
        {
          "output_type": "stream",
          "text": [
            "0    56000\n",
            "1    33393\n",
            "2    10491\n",
            "3     2000\n",
            "Name: attack_cat, dtype: int64\n"
          ],
          "name": "stdout"
        }
      ]
    },
    {
      "cell_type": "code",
      "metadata": {
        "id": "g1ct9xfCHOYF"
      },
      "source": [
        "data = data.apply(pd.to_numeric)"
      ],
      "execution_count": 81,
      "outputs": []
    },
    {
      "cell_type": "code",
      "metadata": {
        "colab": {
          "base_uri": "https://localhost:8080/"
        },
        "id": "oQNnKWXWDvqu",
        "outputId": "c5ecdf42-6b76-4e62-ba58-1c5c29e8c3e8"
      },
      "source": [
        "data.info()"
      ],
      "execution_count": 82,
      "outputs": [
        {
          "output_type": "stream",
          "text": [
            "<class 'pandas.core.frame.DataFrame'>\n",
            "Int64Index: 101884 entries, 0 to 175305\n",
            "Data columns (total 43 columns):\n",
            " #   Column             Non-Null Count   Dtype  \n",
            "---  ------             --------------   -----  \n",
            " 0   dur                101884 non-null  float64\n",
            " 1   proto              101884 non-null  int64  \n",
            " 2   state              101884 non-null  int64  \n",
            " 3   spkts              101884 non-null  int64  \n",
            " 4   dpkts              101884 non-null  int64  \n",
            " 5   sbytes             101884 non-null  int64  \n",
            " 6   dbytes             101884 non-null  int64  \n",
            " 7   rate               101884 non-null  float64\n",
            " 8   sttl               101884 non-null  int64  \n",
            " 9   dttl               101884 non-null  int64  \n",
            " 10  sload              101884 non-null  float64\n",
            " 11  dload              101884 non-null  float64\n",
            " 12  sloss              101884 non-null  int64  \n",
            " 13  dloss              101884 non-null  int64  \n",
            " 14  sinpkt             101884 non-null  float64\n",
            " 15  dinpkt             101884 non-null  float64\n",
            " 16  sjit               101884 non-null  float64\n",
            " 17  djit               101884 non-null  float64\n",
            " 18  swin               101884 non-null  int64  \n",
            " 19  stcpb              101884 non-null  int64  \n",
            " 20  dtcpb              101884 non-null  int64  \n",
            " 21  dwin               101884 non-null  int64  \n",
            " 22  tcprtt             101884 non-null  float64\n",
            " 23  synack             101884 non-null  float64\n",
            " 24  ackdat             101884 non-null  float64\n",
            " 25  smean              101884 non-null  int64  \n",
            " 26  dmean              101884 non-null  int64  \n",
            " 27  trans_depth        101884 non-null  int64  \n",
            " 28  response_body_len  101884 non-null  int64  \n",
            " 29  ct_srv_src         101884 non-null  int64  \n",
            " 30  ct_state_ttl       101884 non-null  int64  \n",
            " 31  ct_dst_ltm         101884 non-null  int64  \n",
            " 32  ct_src_dport_ltm   101884 non-null  int64  \n",
            " 33  ct_dst_sport_ltm   101884 non-null  int64  \n",
            " 34  ct_dst_src_ltm     101884 non-null  int64  \n",
            " 35  is_ftp_login       101884 non-null  int64  \n",
            " 36  ct_ftp_cmd         101884 non-null  int64  \n",
            " 37  ct_flw_http_mthd   101884 non-null  int64  \n",
            " 38  ct_src_ltm         101884 non-null  int64  \n",
            " 39  ct_srv_dst         101884 non-null  int64  \n",
            " 40  is_sm_ips_ports    101884 non-null  int64  \n",
            " 41  attack_cat         101884 non-null  int64  \n",
            " 42  label              101884 non-null  int64  \n",
            "dtypes: float64(11), int64(32)\n",
            "memory usage: 39.2 MB\n"
          ],
          "name": "stdout"
        }
      ]
    },
    {
      "cell_type": "code",
      "metadata": {
        "colab": {
          "base_uri": "https://localhost:8080/",
          "height": 435
        },
        "id": "_BG1qhTNHW6s",
        "outputId": "7c14ebbf-e007-4c6f-cc29-1826edef9455"
      },
      "source": [
        "data.round(decimals=2)\n",
        "data = data.astype(int)\n",
        "data"
      ],
      "execution_count": 83,
      "outputs": [
        {
          "output_type": "execute_result",
          "data": {
            "text/html": [
              "<div>\n",
              "<style scoped>\n",
              "    .dataframe tbody tr th:only-of-type {\n",
              "        vertical-align: middle;\n",
              "    }\n",
              "\n",
              "    .dataframe tbody tr th {\n",
              "        vertical-align: top;\n",
              "    }\n",
              "\n",
              "    .dataframe thead th {\n",
              "        text-align: right;\n",
              "    }\n",
              "</style>\n",
              "<table border=\"1\" class=\"dataframe\">\n",
              "  <thead>\n",
              "    <tr style=\"text-align: right;\">\n",
              "      <th></th>\n",
              "      <th>dur</th>\n",
              "      <th>proto</th>\n",
              "      <th>state</th>\n",
              "      <th>spkts</th>\n",
              "      <th>dpkts</th>\n",
              "      <th>sbytes</th>\n",
              "      <th>dbytes</th>\n",
              "      <th>rate</th>\n",
              "      <th>sttl</th>\n",
              "      <th>dttl</th>\n",
              "      <th>sload</th>\n",
              "      <th>dload</th>\n",
              "      <th>sloss</th>\n",
              "      <th>dloss</th>\n",
              "      <th>sinpkt</th>\n",
              "      <th>dinpkt</th>\n",
              "      <th>sjit</th>\n",
              "      <th>djit</th>\n",
              "      <th>swin</th>\n",
              "      <th>stcpb</th>\n",
              "      <th>dtcpb</th>\n",
              "      <th>dwin</th>\n",
              "      <th>tcprtt</th>\n",
              "      <th>synack</th>\n",
              "      <th>ackdat</th>\n",
              "      <th>smean</th>\n",
              "      <th>dmean</th>\n",
              "      <th>trans_depth</th>\n",
              "      <th>response_body_len</th>\n",
              "      <th>ct_srv_src</th>\n",
              "      <th>ct_state_ttl</th>\n",
              "      <th>ct_dst_ltm</th>\n",
              "      <th>ct_src_dport_ltm</th>\n",
              "      <th>ct_dst_sport_ltm</th>\n",
              "      <th>ct_dst_src_ltm</th>\n",
              "      <th>is_ftp_login</th>\n",
              "      <th>ct_ftp_cmd</th>\n",
              "      <th>ct_flw_http_mthd</th>\n",
              "      <th>ct_src_ltm</th>\n",
              "      <th>ct_srv_dst</th>\n",
              "      <th>is_sm_ips_ports</th>\n",
              "      <th>attack_cat</th>\n",
              "      <th>label</th>\n",
              "    </tr>\n",
              "  </thead>\n",
              "  <tbody>\n",
              "    <tr>\n",
              "      <th>0</th>\n",
              "      <td>0</td>\n",
              "      <td>113</td>\n",
              "      <td>2</td>\n",
              "      <td>6</td>\n",
              "      <td>4</td>\n",
              "      <td>258</td>\n",
              "      <td>172</td>\n",
              "      <td>74</td>\n",
              "      <td>252</td>\n",
              "      <td>254</td>\n",
              "      <td>14158</td>\n",
              "      <td>8495</td>\n",
              "      <td>0</td>\n",
              "      <td>0</td>\n",
              "      <td>24</td>\n",
              "      <td>8</td>\n",
              "      <td>30</td>\n",
              "      <td>11</td>\n",
              "      <td>255</td>\n",
              "      <td>621772692</td>\n",
              "      <td>2202533631</td>\n",
              "      <td>255</td>\n",
              "      <td>0</td>\n",
              "      <td>0</td>\n",
              "      <td>0</td>\n",
              "      <td>43</td>\n",
              "      <td>43</td>\n",
              "      <td>0</td>\n",
              "      <td>0</td>\n",
              "      <td>1</td>\n",
              "      <td>0</td>\n",
              "      <td>1</td>\n",
              "      <td>1</td>\n",
              "      <td>1</td>\n",
              "      <td>1</td>\n",
              "      <td>0</td>\n",
              "      <td>0</td>\n",
              "      <td>0</td>\n",
              "      <td>1</td>\n",
              "      <td>1</td>\n",
              "      <td>0</td>\n",
              "      <td>0</td>\n",
              "      <td>0</td>\n",
              "    </tr>\n",
              "    <tr>\n",
              "      <th>1</th>\n",
              "      <td>0</td>\n",
              "      <td>113</td>\n",
              "      <td>2</td>\n",
              "      <td>14</td>\n",
              "      <td>38</td>\n",
              "      <td>734</td>\n",
              "      <td>42014</td>\n",
              "      <td>78</td>\n",
              "      <td>62</td>\n",
              "      <td>252</td>\n",
              "      <td>8395</td>\n",
              "      <td>503571</td>\n",
              "      <td>2</td>\n",
              "      <td>17</td>\n",
              "      <td>49</td>\n",
              "      <td>15</td>\n",
              "      <td>61</td>\n",
              "      <td>1387</td>\n",
              "      <td>255</td>\n",
              "      <td>1417884146</td>\n",
              "      <td>3077387971</td>\n",
              "      <td>255</td>\n",
              "      <td>0</td>\n",
              "      <td>0</td>\n",
              "      <td>0</td>\n",
              "      <td>52</td>\n",
              "      <td>1106</td>\n",
              "      <td>0</td>\n",
              "      <td>0</td>\n",
              "      <td>43</td>\n",
              "      <td>1</td>\n",
              "      <td>1</td>\n",
              "      <td>1</td>\n",
              "      <td>1</td>\n",
              "      <td>2</td>\n",
              "      <td>0</td>\n",
              "      <td>0</td>\n",
              "      <td>0</td>\n",
              "      <td>1</td>\n",
              "      <td>6</td>\n",
              "      <td>0</td>\n",
              "      <td>0</td>\n",
              "      <td>0</td>\n",
              "    </tr>\n",
              "    <tr>\n",
              "      <th>2</th>\n",
              "      <td>1</td>\n",
              "      <td>113</td>\n",
              "      <td>2</td>\n",
              "      <td>8</td>\n",
              "      <td>16</td>\n",
              "      <td>364</td>\n",
              "      <td>13186</td>\n",
              "      <td>14</td>\n",
              "      <td>62</td>\n",
              "      <td>252</td>\n",
              "      <td>1572</td>\n",
              "      <td>60929</td>\n",
              "      <td>1</td>\n",
              "      <td>6</td>\n",
              "      <td>231</td>\n",
              "      <td>102</td>\n",
              "      <td>17179</td>\n",
              "      <td>11420</td>\n",
              "      <td>255</td>\n",
              "      <td>2116150707</td>\n",
              "      <td>2963114973</td>\n",
              "      <td>255</td>\n",
              "      <td>0</td>\n",
              "      <td>0</td>\n",
              "      <td>0</td>\n",
              "      <td>46</td>\n",
              "      <td>824</td>\n",
              "      <td>0</td>\n",
              "      <td>0</td>\n",
              "      <td>7</td>\n",
              "      <td>1</td>\n",
              "      <td>2</td>\n",
              "      <td>1</td>\n",
              "      <td>1</td>\n",
              "      <td>3</td>\n",
              "      <td>0</td>\n",
              "      <td>0</td>\n",
              "      <td>0</td>\n",
              "      <td>2</td>\n",
              "      <td>6</td>\n",
              "      <td>0</td>\n",
              "      <td>0</td>\n",
              "      <td>0</td>\n",
              "    </tr>\n",
              "    <tr>\n",
              "      <th>3</th>\n",
              "      <td>1</td>\n",
              "      <td>113</td>\n",
              "      <td>2</td>\n",
              "      <td>12</td>\n",
              "      <td>12</td>\n",
              "      <td>628</td>\n",
              "      <td>770</td>\n",
              "      <td>13</td>\n",
              "      <td>62</td>\n",
              "      <td>252</td>\n",
              "      <td>2740</td>\n",
              "      <td>3358</td>\n",
              "      <td>1</td>\n",
              "      <td>3</td>\n",
              "      <td>152</td>\n",
              "      <td>90</td>\n",
              "      <td>259</td>\n",
              "      <td>4991</td>\n",
              "      <td>255</td>\n",
              "      <td>1107119177</td>\n",
              "      <td>1047442890</td>\n",
              "      <td>255</td>\n",
              "      <td>0</td>\n",
              "      <td>0</td>\n",
              "      <td>0</td>\n",
              "      <td>52</td>\n",
              "      <td>64</td>\n",
              "      <td>0</td>\n",
              "      <td>0</td>\n",
              "      <td>1</td>\n",
              "      <td>1</td>\n",
              "      <td>2</td>\n",
              "      <td>1</td>\n",
              "      <td>1</td>\n",
              "      <td>3</td>\n",
              "      <td>1</td>\n",
              "      <td>1</td>\n",
              "      <td>0</td>\n",
              "      <td>2</td>\n",
              "      <td>1</td>\n",
              "      <td>0</td>\n",
              "      <td>0</td>\n",
              "      <td>0</td>\n",
              "    </tr>\n",
              "    <tr>\n",
              "      <th>4</th>\n",
              "      <td>0</td>\n",
              "      <td>113</td>\n",
              "      <td>2</td>\n",
              "      <td>10</td>\n",
              "      <td>6</td>\n",
              "      <td>534</td>\n",
              "      <td>268</td>\n",
              "      <td>33</td>\n",
              "      <td>254</td>\n",
              "      <td>252</td>\n",
              "      <td>8561</td>\n",
              "      <td>3987</td>\n",
              "      <td>2</td>\n",
              "      <td>1</td>\n",
              "      <td>47</td>\n",
              "      <td>75</td>\n",
              "      <td>2415</td>\n",
              "      <td>115</td>\n",
              "      <td>255</td>\n",
              "      <td>2436137549</td>\n",
              "      <td>1977154190</td>\n",
              "      <td>255</td>\n",
              "      <td>0</td>\n",
              "      <td>0</td>\n",
              "      <td>0</td>\n",
              "      <td>53</td>\n",
              "      <td>45</td>\n",
              "      <td>0</td>\n",
              "      <td>0</td>\n",
              "      <td>43</td>\n",
              "      <td>1</td>\n",
              "      <td>2</td>\n",
              "      <td>2</td>\n",
              "      <td>1</td>\n",
              "      <td>40</td>\n",
              "      <td>0</td>\n",
              "      <td>0</td>\n",
              "      <td>0</td>\n",
              "      <td>2</td>\n",
              "      <td>39</td>\n",
              "      <td>0</td>\n",
              "      <td>0</td>\n",
              "      <td>0</td>\n",
              "    </tr>\n",
              "    <tr>\n",
              "      <th>...</th>\n",
              "      <td>...</td>\n",
              "      <td>...</td>\n",
              "      <td>...</td>\n",
              "      <td>...</td>\n",
              "      <td>...</td>\n",
              "      <td>...</td>\n",
              "      <td>...</td>\n",
              "      <td>...</td>\n",
              "      <td>...</td>\n",
              "      <td>...</td>\n",
              "      <td>...</td>\n",
              "      <td>...</td>\n",
              "      <td>...</td>\n",
              "      <td>...</td>\n",
              "      <td>...</td>\n",
              "      <td>...</td>\n",
              "      <td>...</td>\n",
              "      <td>...</td>\n",
              "      <td>...</td>\n",
              "      <td>...</td>\n",
              "      <td>...</td>\n",
              "      <td>...</td>\n",
              "      <td>...</td>\n",
              "      <td>...</td>\n",
              "      <td>...</td>\n",
              "      <td>...</td>\n",
              "      <td>...</td>\n",
              "      <td>...</td>\n",
              "      <td>...</td>\n",
              "      <td>...</td>\n",
              "      <td>...</td>\n",
              "      <td>...</td>\n",
              "      <td>...</td>\n",
              "      <td>...</td>\n",
              "      <td>...</td>\n",
              "      <td>...</td>\n",
              "      <td>...</td>\n",
              "      <td>...</td>\n",
              "      <td>...</td>\n",
              "      <td>...</td>\n",
              "      <td>...</td>\n",
              "      <td>...</td>\n",
              "      <td>...</td>\n",
              "    </tr>\n",
              "    <tr>\n",
              "      <th>175214</th>\n",
              "      <td>0</td>\n",
              "      <td>113</td>\n",
              "      <td>2</td>\n",
              "      <td>22</td>\n",
              "      <td>56</td>\n",
              "      <td>2424</td>\n",
              "      <td>68382</td>\n",
              "      <td>77</td>\n",
              "      <td>62</td>\n",
              "      <td>252</td>\n",
              "      <td>18717</td>\n",
              "      <td>543250</td>\n",
              "      <td>6</td>\n",
              "      <td>26</td>\n",
              "      <td>47</td>\n",
              "      <td>17</td>\n",
              "      <td>2347</td>\n",
              "      <td>1589</td>\n",
              "      <td>255</td>\n",
              "      <td>3903615664</td>\n",
              "      <td>3345025299</td>\n",
              "      <td>255</td>\n",
              "      <td>0</td>\n",
              "      <td>0</td>\n",
              "      <td>0</td>\n",
              "      <td>110</td>\n",
              "      <td>1221</td>\n",
              "      <td>1</td>\n",
              "      <td>109</td>\n",
              "      <td>1</td>\n",
              "      <td>1</td>\n",
              "      <td>1</td>\n",
              "      <td>1</td>\n",
              "      <td>1</td>\n",
              "      <td>1</td>\n",
              "      <td>0</td>\n",
              "      <td>0</td>\n",
              "      <td>1</td>\n",
              "      <td>21</td>\n",
              "      <td>1</td>\n",
              "      <td>0</td>\n",
              "      <td>1</td>\n",
              "      <td>1</td>\n",
              "    </tr>\n",
              "    <tr>\n",
              "      <th>175267</th>\n",
              "      <td>1</td>\n",
              "      <td>113</td>\n",
              "      <td>2</td>\n",
              "      <td>74</td>\n",
              "      <td>30</td>\n",
              "      <td>69997</td>\n",
              "      <td>2132</td>\n",
              "      <td>53</td>\n",
              "      <td>62</td>\n",
              "      <td>252</td>\n",
              "      <td>288572</td>\n",
              "      <td>8613</td>\n",
              "      <td>33</td>\n",
              "      <td>8</td>\n",
              "      <td>26</td>\n",
              "      <td>65</td>\n",
              "      <td>2412</td>\n",
              "      <td>90</td>\n",
              "      <td>255</td>\n",
              "      <td>556303757</td>\n",
              "      <td>246088519</td>\n",
              "      <td>255</td>\n",
              "      <td>0</td>\n",
              "      <td>0</td>\n",
              "      <td>0</td>\n",
              "      <td>946</td>\n",
              "      <td>71</td>\n",
              "      <td>0</td>\n",
              "      <td>0</td>\n",
              "      <td>1</td>\n",
              "      <td>1</td>\n",
              "      <td>1</td>\n",
              "      <td>1</td>\n",
              "      <td>1</td>\n",
              "      <td>1</td>\n",
              "      <td>0</td>\n",
              "      <td>0</td>\n",
              "      <td>0</td>\n",
              "      <td>18</td>\n",
              "      <td>1</td>\n",
              "      <td>0</td>\n",
              "      <td>1</td>\n",
              "      <td>1</td>\n",
              "    </tr>\n",
              "    <tr>\n",
              "      <th>175277</th>\n",
              "      <td>3</td>\n",
              "      <td>113</td>\n",
              "      <td>2</td>\n",
              "      <td>66</td>\n",
              "      <td>340</td>\n",
              "      <td>3086</td>\n",
              "      <td>426483</td>\n",
              "      <td>108</td>\n",
              "      <td>62</td>\n",
              "      <td>252</td>\n",
              "      <td>6539</td>\n",
              "      <td>914689</td>\n",
              "      <td>6</td>\n",
              "      <td>167</td>\n",
              "      <td>57</td>\n",
              "      <td>10</td>\n",
              "      <td>3358</td>\n",
              "      <td>1585</td>\n",
              "      <td>255</td>\n",
              "      <td>3046870123</td>\n",
              "      <td>1723342386</td>\n",
              "      <td>255</td>\n",
              "      <td>0</td>\n",
              "      <td>0</td>\n",
              "      <td>0</td>\n",
              "      <td>47</td>\n",
              "      <td>1254</td>\n",
              "      <td>0</td>\n",
              "      <td>0</td>\n",
              "      <td>1</td>\n",
              "      <td>1</td>\n",
              "      <td>1</td>\n",
              "      <td>1</td>\n",
              "      <td>1</td>\n",
              "      <td>1</td>\n",
              "      <td>0</td>\n",
              "      <td>0</td>\n",
              "      <td>0</td>\n",
              "      <td>2</td>\n",
              "      <td>1</td>\n",
              "      <td>0</td>\n",
              "      <td>1</td>\n",
              "      <td>1</td>\n",
              "    </tr>\n",
              "    <tr>\n",
              "      <th>175299</th>\n",
              "      <td>0</td>\n",
              "      <td>113</td>\n",
              "      <td>2</td>\n",
              "      <td>20</td>\n",
              "      <td>30</td>\n",
              "      <td>942</td>\n",
              "      <td>16684</td>\n",
              "      <td>49</td>\n",
              "      <td>62</td>\n",
              "      <td>252</td>\n",
              "      <td>7185</td>\n",
              "      <td>129476</td>\n",
              "      <td>7</td>\n",
              "      <td>13</td>\n",
              "      <td>52</td>\n",
              "      <td>33</td>\n",
              "      <td>3005</td>\n",
              "      <td>2479</td>\n",
              "      <td>255</td>\n",
              "      <td>5604755</td>\n",
              "      <td>575257391</td>\n",
              "      <td>255</td>\n",
              "      <td>0</td>\n",
              "      <td>0</td>\n",
              "      <td>0</td>\n",
              "      <td>47</td>\n",
              "      <td>556</td>\n",
              "      <td>0</td>\n",
              "      <td>0</td>\n",
              "      <td>1</td>\n",
              "      <td>1</td>\n",
              "      <td>1</td>\n",
              "      <td>1</td>\n",
              "      <td>1</td>\n",
              "      <td>1</td>\n",
              "      <td>0</td>\n",
              "      <td>0</td>\n",
              "      <td>0</td>\n",
              "      <td>7</td>\n",
              "      <td>1</td>\n",
              "      <td>0</td>\n",
              "      <td>1</td>\n",
              "      <td>1</td>\n",
              "    </tr>\n",
              "    <tr>\n",
              "      <th>175305</th>\n",
              "      <td>1</td>\n",
              "      <td>113</td>\n",
              "      <td>2</td>\n",
              "      <td>28</td>\n",
              "      <td>22</td>\n",
              "      <td>12601</td>\n",
              "      <td>1954</td>\n",
              "      <td>31</td>\n",
              "      <td>62</td>\n",
              "      <td>252</td>\n",
              "      <td>62427</td>\n",
              "      <td>9586</td>\n",
              "      <td>11</td>\n",
              "      <td>8</td>\n",
              "      <td>57</td>\n",
              "      <td>73</td>\n",
              "      <td>3661</td>\n",
              "      <td>112</td>\n",
              "      <td>255</td>\n",
              "      <td>1932059121</td>\n",
              "      <td>2472223109</td>\n",
              "      <td>255</td>\n",
              "      <td>0</td>\n",
              "      <td>0</td>\n",
              "      <td>0</td>\n",
              "      <td>450</td>\n",
              "      <td>89</td>\n",
              "      <td>0</td>\n",
              "      <td>0</td>\n",
              "      <td>1</td>\n",
              "      <td>1</td>\n",
              "      <td>2</td>\n",
              "      <td>1</td>\n",
              "      <td>1</td>\n",
              "      <td>2</td>\n",
              "      <td>0</td>\n",
              "      <td>0</td>\n",
              "      <td>0</td>\n",
              "      <td>2</td>\n",
              "      <td>1</td>\n",
              "      <td>0</td>\n",
              "      <td>1</td>\n",
              "      <td>1</td>\n",
              "    </tr>\n",
              "  </tbody>\n",
              "</table>\n",
              "<p>101884 rows × 43 columns</p>\n",
              "</div>"
            ],
            "text/plain": [
              "        dur  proto  state  ...  is_sm_ips_ports  attack_cat  label\n",
              "0         0    113      2  ...                0           0      0\n",
              "1         0    113      2  ...                0           0      0\n",
              "2         1    113      2  ...                0           0      0\n",
              "3         1    113      2  ...                0           0      0\n",
              "4         0    113      2  ...                0           0      0\n",
              "...     ...    ...    ...  ...              ...         ...    ...\n",
              "175214    0    113      2  ...                0           1      1\n",
              "175267    1    113      2  ...                0           1      1\n",
              "175277    3    113      2  ...                0           1      1\n",
              "175299    0    113      2  ...                0           1      1\n",
              "175305    1    113      2  ...                0           1      1\n",
              "\n",
              "[101884 rows x 43 columns]"
            ]
          },
          "metadata": {
            "tags": []
          },
          "execution_count": 83
        }
      ]
    },
    {
      "cell_type": "code",
      "metadata": {
        "colab": {
          "base_uri": "https://localhost:8080/"
        },
        "id": "0kn_199WFORh",
        "outputId": "dfe37e32-3bcf-48f8-9bf8-bd4b3ff84816"
      },
      "source": [
        "data.info()"
      ],
      "execution_count": 84,
      "outputs": [
        {
          "output_type": "stream",
          "text": [
            "<class 'pandas.core.frame.DataFrame'>\n",
            "Int64Index: 101884 entries, 0 to 175305\n",
            "Data columns (total 43 columns):\n",
            " #   Column             Non-Null Count   Dtype\n",
            "---  ------             --------------   -----\n",
            " 0   dur                101884 non-null  int64\n",
            " 1   proto              101884 non-null  int64\n",
            " 2   state              101884 non-null  int64\n",
            " 3   spkts              101884 non-null  int64\n",
            " 4   dpkts              101884 non-null  int64\n",
            " 5   sbytes             101884 non-null  int64\n",
            " 6   dbytes             101884 non-null  int64\n",
            " 7   rate               101884 non-null  int64\n",
            " 8   sttl               101884 non-null  int64\n",
            " 9   dttl               101884 non-null  int64\n",
            " 10  sload              101884 non-null  int64\n",
            " 11  dload              101884 non-null  int64\n",
            " 12  sloss              101884 non-null  int64\n",
            " 13  dloss              101884 non-null  int64\n",
            " 14  sinpkt             101884 non-null  int64\n",
            " 15  dinpkt             101884 non-null  int64\n",
            " 16  sjit               101884 non-null  int64\n",
            " 17  djit               101884 non-null  int64\n",
            " 18  swin               101884 non-null  int64\n",
            " 19  stcpb              101884 non-null  int64\n",
            " 20  dtcpb              101884 non-null  int64\n",
            " 21  dwin               101884 non-null  int64\n",
            " 22  tcprtt             101884 non-null  int64\n",
            " 23  synack             101884 non-null  int64\n",
            " 24  ackdat             101884 non-null  int64\n",
            " 25  smean              101884 non-null  int64\n",
            " 26  dmean              101884 non-null  int64\n",
            " 27  trans_depth        101884 non-null  int64\n",
            " 28  response_body_len  101884 non-null  int64\n",
            " 29  ct_srv_src         101884 non-null  int64\n",
            " 30  ct_state_ttl       101884 non-null  int64\n",
            " 31  ct_dst_ltm         101884 non-null  int64\n",
            " 32  ct_src_dport_ltm   101884 non-null  int64\n",
            " 33  ct_dst_sport_ltm   101884 non-null  int64\n",
            " 34  ct_dst_src_ltm     101884 non-null  int64\n",
            " 35  is_ftp_login       101884 non-null  int64\n",
            " 36  ct_ftp_cmd         101884 non-null  int64\n",
            " 37  ct_flw_http_mthd   101884 non-null  int64\n",
            " 38  ct_src_ltm         101884 non-null  int64\n",
            " 39  ct_srv_dst         101884 non-null  int64\n",
            " 40  is_sm_ips_ports    101884 non-null  int64\n",
            " 41  attack_cat         101884 non-null  int64\n",
            " 42  label              101884 non-null  int64\n",
            "dtypes: int64(43)\n",
            "memory usage: 39.2 MB\n"
          ],
          "name": "stdout"
        }
      ]
    },
    {
      "cell_type": "code",
      "metadata": {
        "colab": {
          "base_uri": "https://localhost:8080/",
          "height": 456
        },
        "id": "tnXRK1TWFCKY",
        "outputId": "9036b8cc-97fd-4c01-9837-1eeb9a7739b0"
      },
      "source": [
        "import matplotlib.pyplot as plt\n",
        "data.plot(kind='box', figsize=(30,10))\n",
        "plt.show()"
      ],
      "execution_count": 86,
      "outputs": [
        {
          "output_type": "display_data",
          "data": {
            "image/png": "[encoded data removed]",
            "text/plain": [
              "<Figure size 2160x720 with 1 Axes>"
            ]
          },
          "metadata": {
            "tags": [],
            "needs_background": "light"
          }
        }
      ]
    },
    {
      "cell_type": "code",
      "metadata": {
        "id": "UTAYf5vPGAIq"
      },
      "source": [
        "data=data.drop(['sload'],axis=1)\n",
        "data=data.drop(['dload'],axis=1)"
      ],
      "execution_count": 87,
      "outputs": []
    },
    {
      "cell_type": "code",
      "metadata": {
        "colab": {
          "base_uri": "https://localhost:8080/"
        },
        "id": "ArN5hIr8Gpls",
        "outputId": "a5124df2-8bd5-4278-b3d7-71f571123d13"
      },
      "source": [
        "# Find and remove correlated features\n",
        "def correlation(dataset, threshold):\n",
        "    col_corr = set()  # Set of all the names of correlated columns\n",
        "    corr_matrix = dataset.corr()\n",
        "    for i in range(len(corr_matrix.columns)):\n",
        "        for j in range(i):\n",
        "            if abs(corr_matrix.iloc[i, j]) > threshold: # we are interested in absolute coeff value\n",
        "                colname = corr_matrix.columns[i]  # getting the name of column\n",
        "                col_corr.add(colname)\n",
        "    return col_corr\n",
        " \n",
        "corr_features = correlation(data, 0.8)\n",
        "print('correlated features: ', set(corr_features) )"
      ],
      "execution_count": 88,
      "outputs": [
        {
          "output_type": "stream",
          "text": [
            "correlated features:  {'sloss', 'sbytes', 'ct_srv_dst', 'dbytes', 'is_sm_ips_ports', 'ct_ftp_cmd', 'dloss', 'label', 'dwin'}\n"
          ],
          "name": "stdout"
        }
      ]
    },
    {
      "cell_type": "code",
      "metadata": {
        "id": "3HAmRH42JbO-"
      },
      "source": [
        "data.drop(labels=corr_features, axis=1, inplace=True)"
      ],
      "execution_count": 89,
      "outputs": []
    },
    {
      "cell_type": "code",
      "metadata": {
        "id": "c1GE-lnyXNJp"
      },
      "source": [
        "features = data.drop(['attack_cat'],axis=1)\n",
        "target = data['attack_cat']\n",
        "X_Train,X_Test,Y_Train,Y_Test=train_test_split(features,target,test_size = 0.2,random_state=42)"
      ],
      "execution_count": 90,
      "outputs": []
    },
    {
      "cell_type": "code",
      "metadata": {
        "colab": {
          "base_uri": "https://localhost:8080/"
        },
        "id": "7wNQkTd2GduE",
        "outputId": "cbfc6a9d-b09b-4697-9c09-93a2292b0abe"
      },
      "source": [
        "X = X_Train\n",
        "Y = Y_Train\n",
        "C = Y_Test\n",
        "T = X_Test\n",
        "print(T)\n",
        "print(X)"
      ],
      "execution_count": 91,
      "outputs": [
        {
          "output_type": "stream",
          "text": [
            "       dur  proto  state  ...  is_ftp_login  ct_flw_http_mthd  ct_src_ltm\n",
            "2339     0    113      2  ...             0                 0           8\n",
            "43641    0    113      2  ...             0                 0           1\n",
            "10538    0    113      2  ...             0                 0           8\n",
            "85617    0    120      3  ...             0                 0           6\n",
            "6662     0    119      0  ...             0                 0           2\n",
            "...    ...    ...    ...  ...           ...               ...         ...\n",
            "2824     0    119      0  ...             0                 0           2\n",
            "51896    0    113      2  ...             0                 0           1\n",
            "20424    0    119      0  ...             0                 0           3\n",
            "63675    0    113      2  ...             0                 1           3\n",
            "80526    1    113      2  ...             0                 0           2\n",
            "\n",
            "[20377 rows x 31 columns]\n",
            "        dur  proto  state  ...  is_ftp_login  ct_flw_http_mthd  ct_src_ltm\n",
            "119548    0     97      0  ...             0                 0           1\n",
            "105882    0    113      2  ...             0                 1           1\n",
            "18600     0    113      2  ...             0                 0           4\n",
            "15274     0    113      2  ...             0                 0           2\n",
            "39158     0    113      2  ...             0                 0          10\n",
            "...     ...    ...    ...  ...           ...               ...         ...\n",
            "6265      1    113      2  ...             0                 1           3\n",
            "60633     0    119      3  ...             0                 0           1\n",
            "94762     1    113      2  ...             0                 1           1\n",
            "860       0    113      2  ...             0                 1          12\n",
            "15795     0    119      0  ...             0                 0           4\n",
            "\n",
            "[81507 rows x 31 columns]\n"
          ],
          "name": "stdout"
        }
      ]
    },
    {
      "cell_type": "code",
      "metadata": {
        "id": "nM7uzs-6Guev"
      },
      "source": [
        "from sklearn.preprocessing import StandardScaler\n",
        "scaler = StandardScaler()\n",
        "# transform data\n",
        "trainX = scaler.fit_transform(X)\n",
        "# summarize transformed data\n",
        "np.set_printoptions(precision=3)\n",
        "#print(trainX[0:5,:])"
      ],
      "execution_count": 92,
      "outputs": []
    },
    {
      "cell_type": "code",
      "metadata": {
        "id": "NI8y7jmkG2KI"
      },
      "source": [
        "scaler = StandardScaler()\n",
        "# transform data\n",
        "testT = scaler.fit_transform(T)\n",
        "# summarize transformed data\n",
        "np.set_printoptions(precision=3)\n",
        "#print(testT[0:5,:])"
      ],
      "execution_count": 93,
      "outputs": []
    },
    {
      "cell_type": "code",
      "metadata": {
        "id": "bDlBO3PaG9NN"
      },
      "source": [
        "from keras.utils.np_utils import to_categorical\n",
        "y_train1 = np.array(Y)\n",
        "y_test1 = np.array(C)\n",
        "y_train= to_categorical(y_train1)\n",
        "y_test= to_categorical(y_test1)"
      ],
      "execution_count": 95,
      "outputs": []
    },
    {
      "cell_type": "markdown",
      "metadata": {
        "id": "6jT47B2zNSlR"
      },
      "source": [
        "# **CNN Algorithm**"
      ]
    },
    {
      "cell_type": "code",
      "metadata": {
        "id": "GOf89HbW4tWE"
      },
      "source": [
        "from __future__ import print_function\n",
        "import numpy as np\n",
        "np.random.seed(1337)  # for reproducibility\n",
        "\n",
        "from keras.preprocessing import sequence\n",
        "from keras.models import Sequential\n",
        "from keras.layers import Dense, Dropout, Activation, Lambda\n",
        "from keras.layers import Embedding\n",
        "from keras.layers import Convolution1D,MaxPooling1D, Flatten\n",
        "from keras.datasets import imdb\n",
        "from keras import backend as K\n",
        "import pandas as pd\n",
        "from keras.utils.np_utils import to_categorical\n",
        "\n",
        "from sklearn.preprocessing import Normalizer\n",
        "from keras.models import Sequential\n",
        "from keras.layers import Convolution1D, Dense, Dropout, Flatten, MaxPooling1D\n",
        "from keras.utils import np_utils\n",
        "import numpy as np\n",
        "import h5py\n",
        "from keras import callbacks\n",
        "from keras.layers import LSTM, GRU, SimpleRNN\n",
        "from keras.callbacks import CSVLogger\n",
        "from keras.callbacks import ModelCheckpoint, EarlyStopping, ReduceLROnPlateau, CSVLogger\n",
        "from keras.layers.convolutional import MaxPooling1D"
      ],
      "execution_count": 140,
      "outputs": []
    },
    {
      "cell_type": "code",
      "metadata": {
        "colab": {
          "base_uri": "https://localhost:8080/"
        },
        "id": "wFCAnB6B5now",
        "outputId": "23899ab0-92e3-4ede-ead2-c993c9d94a2e"
      },
      "source": [
        "lstm_output_size = 128\n",
        "\n",
        "cnn = Sequential()\n",
        "cnn.add(Convolution1D(64, 3, padding=\"same\",activation=\"relu\",input_shape=(31,1)))\n",
        "cnn.add(MaxPooling1D(pool_size=(2)))\n",
        "cnn.add(Flatten())\n",
        "cnn.add(Dense(128, activation=\"relu\"))\n",
        "cnn.add(Dropout(0.1))\n",
        "cnn.add(Dense(4, activation=\"softmax\"))\n",
        "print(cnn.summary())"
      ],
      "execution_count": 141,
      "outputs": [
        {
          "output_type": "stream",
          "text": [
            "Model: \"sequential_4\"\n",
            "_________________________________________________________________\n",
            "Layer (type)                 Output Shape              Param #   \n",
            "=================================================================\n",
            "conv1d_2 (Conv1D)            (None, 31, 64)            256       \n",
            "_________________________________________________________________\n",
            "max_pooling1d_2 (MaxPooling1 (None, 15, 64)            0         \n",
            "_________________________________________________________________\n",
            "flatten_2 (Flatten)          (None, 960)               0         \n",
            "_________________________________________________________________\n",
            "dense_6 (Dense)              (None, 128)               123008    \n",
            "_________________________________________________________________\n",
            "dropout_6 (Dropout)          (None, 128)               0         \n",
            "_________________________________________________________________\n",
            "dense_7 (Dense)              (None, 4)                 516       \n",
            "=================================================================\n",
            "Total params: 123,780\n",
            "Trainable params: 123,780\n",
            "Non-trainable params: 0\n",
            "_________________________________________________________________\n",
            "None\n"
          ],
          "name": "stdout"
        }
      ]
    },
    {
      "cell_type": "code",
      "metadata": {
        "colab": {
          "base_uri": "https://localhost:8080/"
        },
        "id": "TFijWk7v6Iej",
        "outputId": "56ebcbb8-0698-43c5-e61b-1b22202c858f"
      },
      "source": [
        "X_train = np.reshape(trainX, (trainX.shape[0], trainX.shape[1],1))\n",
        "X_test = np.reshape(testT, (testT.shape[0], testT.shape[1],1))\n",
        "cnn.compile(loss=\"binary_crossentropy\", optimizer=\"adam\",metrics=['accuracy'])\n",
        "cnn.fit(X_train, y_train,epochs=50)"
      ],
      "execution_count": 142,
      "outputs": [
        {
          "output_type": "stream",
          "text": [
            "Epoch 1/50\n",
            "2548/2548 [==============================] - 13s 5ms/step - loss: 0.1826 - accuracy: 0.8543\n",
            "Epoch 2/50\n",
            "2548/2548 [==============================] - 13s 5ms/step - loss: 0.1158 - accuracy: 0.9142\n",
            "Epoch 3/50\n",
            "2548/2548 [==============================] - 12s 5ms/step - loss: 0.1133 - accuracy: 0.9169\n",
            "Epoch 4/50\n",
            "2548/2548 [==============================] - 12s 5ms/step - loss: 0.1075 - accuracy: 0.9207\n",
            "Epoch 5/50\n",
            "2548/2548 [==============================] - 12s 5ms/step - loss: 0.1031 - accuracy: 0.9235\n",
            "Epoch 6/50\n",
            "2548/2548 [==============================] - 13s 5ms/step - loss: 0.1005 - accuracy: 0.9252\n",
            "Epoch 7/50\n",
            "2548/2548 [==============================] - 12s 5ms/step - loss: 0.0999 - accuracy: 0.9252\n",
            "Epoch 8/50\n",
            "2548/2548 [==============================] - 12s 5ms/step - loss: 0.0964 - accuracy: 0.9276\n",
            "Epoch 9/50\n",
            "2548/2548 [==============================] - 12s 5ms/step - loss: 0.0965 - accuracy: 0.9276\n",
            "Epoch 10/50\n",
            "2548/2548 [==============================] - 12s 5ms/step - loss: 0.0940 - accuracy: 0.9287\n",
            "Epoch 11/50\n",
            "2548/2548 [==============================] - 13s 5ms/step - loss: 0.0938 - accuracy: 0.9301\n",
            "Epoch 12/50\n",
            "2548/2548 [==============================] - 13s 5ms/step - loss: 0.0934 - accuracy: 0.9299\n",
            "Epoch 13/50\n",
            "2548/2548 [==============================] - 13s 5ms/step - loss: 0.0921 - accuracy: 0.9300\n",
            "Epoch 14/50\n",
            "2548/2548 [==============================] - 12s 5ms/step - loss: 0.0915 - accuracy: 0.9313\n",
            "Epoch 15/50\n",
            "2548/2548 [==============================] - 12s 5ms/step - loss: 0.0911 - accuracy: 0.9304\n",
            "Epoch 16/50\n",
            "2548/2548 [==============================] - 12s 5ms/step - loss: 0.0921 - accuracy: 0.9308\n",
            "Epoch 17/50\n",
            "2548/2548 [==============================] - 12s 5ms/step - loss: 0.0905 - accuracy: 0.9309\n",
            "Epoch 18/50\n",
            "2548/2548 [==============================] - 12s 5ms/step - loss: 0.0924 - accuracy: 0.9307\n",
            "Epoch 19/50\n",
            "2548/2548 [==============================] - 12s 5ms/step - loss: 0.0891 - accuracy: 0.9331\n",
            "Epoch 20/50\n",
            "2548/2548 [==============================] - 12s 5ms/step - loss: 0.0894 - accuracy: 0.9320\n",
            "Epoch 21/50\n",
            "2548/2548 [==============================] - 12s 5ms/step - loss: 0.0916 - accuracy: 0.9295\n",
            "Epoch 22/50\n",
            "2548/2548 [==============================] - 12s 5ms/step - loss: 0.0898 - accuracy: 0.9314\n",
            "Epoch 23/50\n",
            "2548/2548 [==============================] - 12s 5ms/step - loss: 0.0890 - accuracy: 0.9320\n",
            "Epoch 24/50\n",
            "2548/2548 [==============================] - 12s 5ms/step - loss: 0.0871 - accuracy: 0.9342\n",
            "Epoch 25/50\n",
            "2548/2548 [==============================] - 12s 5ms/step - loss: 0.0879 - accuracy: 0.9318\n",
            "Epoch 26/50\n",
            "2548/2548 [==============================] - 12s 5ms/step - loss: 0.0881 - accuracy: 0.9329\n",
            "Epoch 27/50\n",
            "2548/2548 [==============================] - 12s 5ms/step - loss: 0.0880 - accuracy: 0.9324\n",
            "Epoch 28/50\n",
            "2548/2548 [==============================] - 12s 5ms/step - loss: 0.0881 - accuracy: 0.9333\n",
            "Epoch 29/50\n",
            "2548/2548 [==============================] - 12s 5ms/step - loss: 0.0870 - accuracy: 0.9335\n",
            "Epoch 30/50\n",
            "2548/2548 [==============================] - 12s 5ms/step - loss: 0.0868 - accuracy: 0.9338\n",
            "Epoch 31/50\n",
            "2548/2548 [==============================] - 12s 5ms/step - loss: 0.0872 - accuracy: 0.9331\n",
            "Epoch 32/50\n",
            "2548/2548 [==============================] - 12s 5ms/step - loss: 0.0874 - accuracy: 0.9336\n",
            "Epoch 33/50\n",
            "2548/2548 [==============================] - 12s 5ms/step - loss: 0.0869 - accuracy: 0.9343\n",
            "Epoch 34/50\n",
            "2548/2548 [==============================] - 12s 5ms/step - loss: 0.0876 - accuracy: 0.9329\n",
            "Epoch 35/50\n",
            "2548/2548 [==============================] - 12s 5ms/step - loss: 0.0854 - accuracy: 0.9352\n",
            "Epoch 36/50\n",
            "2548/2548 [==============================] - 12s 5ms/step - loss: 0.0865 - accuracy: 0.9344\n",
            "Epoch 37/50\n",
            "2548/2548 [==============================] - 12s 5ms/step - loss: 0.0858 - accuracy: 0.9348\n",
            "Epoch 38/50\n",
            "2548/2548 [==============================] - 12s 5ms/step - loss: 0.0856 - accuracy: 0.9341\n",
            "Epoch 39/50\n",
            "2548/2548 [==============================] - 12s 5ms/step - loss: 0.0858 - accuracy: 0.9356\n",
            "Epoch 40/50\n",
            "2548/2548 [==============================] - 12s 5ms/step - loss: 0.0847 - accuracy: 0.9357\n",
            "Epoch 41/50\n",
            "2548/2548 [==============================] - 12s 5ms/step - loss: 0.0853 - accuracy: 0.9352\n",
            "Epoch 42/50\n",
            "2548/2548 [==============================] - 12s 5ms/step - loss: 0.0861 - accuracy: 0.9345\n",
            "Epoch 43/50\n",
            "2548/2548 [==============================] - 12s 5ms/step - loss: 0.0854 - accuracy: 0.9352\n",
            "Epoch 44/50\n",
            "2548/2548 [==============================] - 12s 5ms/step - loss: 0.0857 - accuracy: 0.9346\n",
            "Epoch 45/50\n",
            "2548/2548 [==============================] - 12s 5ms/step - loss: 0.0862 - accuracy: 0.9343\n",
            "Epoch 46/50\n",
            "2548/2548 [==============================] - 12s 5ms/step - loss: 0.0841 - accuracy: 0.9345\n",
            "Epoch 47/50\n",
            "2548/2548 [==============================] - 12s 5ms/step - loss: 0.0860 - accuracy: 0.9351\n",
            "Epoch 48/50\n",
            "2548/2548 [==============================] - 12s 5ms/step - loss: 0.0862 - accuracy: 0.9335\n",
            "Epoch 49/50\n",
            "2548/2548 [==============================] - 12s 5ms/step - loss: 0.0856 - accuracy: 0.9339\n",
            "Epoch 50/50\n",
            "2548/2548 [==============================] - 12s 5ms/step - loss: 0.0848 - accuracy: 0.9355\n"
          ],
          "name": "stdout"
        },
        {
          "output_type": "execute_result",
          "data": {
            "text/plain": [
              "<keras.callbacks.History at 0x7f3e52671750>"
            ]
          },
          "metadata": {
            "tags": []
          },
          "execution_count": 142
        }
      ]
    },
    {
      "cell_type": "code",
      "metadata": {
        "colab": {
          "base_uri": "https://localhost:8080/"
        },
        "id": "KmRX0cnf6e6B",
        "outputId": "c676a9e4-0734-4425-fce7-4207bbfd90ea"
      },
      "source": [
        "loss, accuracy = cnn.evaluate(X_test, y_test)\n",
        "print(\"\\nLoss: %.2f, Accuracy: %.2f%%\" % (loss, accuracy*100))"
      ],
      "execution_count": 143,
      "outputs": [
        {
          "output_type": "stream",
          "text": [
            "637/637 [==============================] - 1s 2ms/step - loss: 0.0982 - accuracy: 0.9278\n",
            "\n",
            "Loss: 0.10, Accuracy: 92.78%\n"
          ],
          "name": "stdout"
        }
      ]
    },
    {
      "cell_type": "code",
      "metadata": {
        "colab": {
          "base_uri": "https://localhost:8080/"
        },
        "id": "OpWzEPWH-5R1",
        "outputId": "ecdd5cab-4a35-4a46-bc30-39bfb4887859"
      },
      "source": [
        "from sklearn.metrics import confusion_matrix\n",
        "from sklearn.metrics import accuracy_score, recall_score, precision_score, f1_score\n",
        "y_pred1 = cnn.predict_classes(X_test)\n",
        "y_pred= to_categorical(y_pred1)\n",
        "np.savetxt('/content/drive/MyDrive/expected.txt', y_test, fmt='%01d')\n",
        "np.savetxt('/content/drive/MyDrive/predicted.txt', y_pred, fmt='%01d')\n",
        "cnn_accuracy = accuracy_score(y_test, y_pred)\n",
        "cnn_error = (1- cnn_accuracy)*100\n",
        "cnn_recall = recall_score(y_test, y_pred , average=\"weighted\")\n",
        "cnn_precision = precision_score(y_test, y_pred , average=\"weighted\")\n",
        "cnn_f1 = f1_score(y_test, y_pred, average=\"weighted\")\n",
        "\n",
        "print(\"confusion matrix\")\n",
        "print(\"----------------------------------------------\")\n",
        "print(\"accuracy\")\n",
        "print(\"%.6f\" %cnn_accuracy)\n",
        "print(\"racall\")\n",
        "print(\"%.6f\" %cnn_recall)\n",
        "print(\"precision\")\n",
        "print(\"%.6f\" %cnn_precision)\n",
        "print(\"f1score\")\n",
        "print(\"%.6f\" %cnn_f1)\n",
        "cm = confusion_matrix(y_test1, y_pred1)\n",
        "print(cm)\n",
        "print(\"==============================================\")"
      ],
      "execution_count": 144,
      "outputs": [
        {
          "output_type": "stream",
          "text": [
            "/usr/local/lib/python3.7/dist-packages/keras/engine/sequential.py:450: UserWarning: `model.predict_classes()` is deprecated and will be removed after 2021-01-01. Please use instead:* `np.argmax(model.predict(x), axis=-1)`,   if your model does multi-class classification   (e.g. if it uses a `softmax` last-layer activation).* `(model.predict(x) > 0.5).astype(\"int32\")`,   if your model does binary classification   (e.g. if it uses a `sigmoid` last-layer activation).\n",
            "  warnings.warn('`model.predict_classes()` is deprecated and '\n"
          ],
          "name": "stderr"
        },
        {
          "output_type": "stream",
          "text": [
            "confusion matrix\n",
            "----------------------------------------------\n",
            "accuracy\n",
            "0.927811\n",
            "racall\n",
            "0.927811\n",
            "precision\n",
            "0.926268\n",
            "f1score\n",
            "0.919674\n",
            "[[10955   214    16    20]\n",
            " [  116  6486    51     6]\n",
            " [   67   609  1431     0]\n",
            " [   49   323     0    34]]\n",
            "==============================================\n"
          ],
          "name": "stdout"
        }
      ]
    },
    {
      "cell_type": "code",
      "metadata": {
        "colab": {
          "base_uri": "https://localhost:8080/"
        },
        "id": "JKv2q3CJC4bK",
        "outputId": "f4decab9-9eeb-47e1-994f-ad18b1108328"
      },
      "source": [
        "from sklearn.metrics import classification_report\n",
        "print(classification_report(y_test1, y_pred1, target_names=['Normal','Exploits','Reconnaissance','Analysis']))"
      ],
      "execution_count": 145,
      "outputs": [
        {
          "output_type": "stream",
          "text": [
            "                precision    recall  f1-score   support\n",
            "\n",
            "        Normal       0.98      0.98      0.98     11205\n",
            "      Exploits       0.85      0.97      0.91      6659\n",
            "Reconnaissance       0.96      0.68      0.79      2107\n",
            "      Analysis       0.57      0.08      0.15       406\n",
            "\n",
            "      accuracy                           0.93     20377\n",
            "     macro avg       0.84      0.68      0.71     20377\n",
            "  weighted avg       0.93      0.93      0.92     20377\n",
            "\n"
          ],
          "name": "stdout"
        }
      ]
    },
    {
      "cell_type": "markdown",
      "metadata": {
        "id": "5ouIsaOmNbjT"
      },
      "source": [
        "# **RNN Algorithm**"
      ]
    },
    {
      "cell_type": "code",
      "metadata": {
        "id": "BbNxkLIngdTa"
      },
      "source": [
        "from keras.preprocessing import sequence\n",
        "from keras.utils import np_utils\n",
        "from keras.models import Sequential\n",
        "from keras.layers import Dense, Dropout, Activation, Embedding\n",
        "from keras.layers import LSTM, SimpleRNN, GRU\n",
        "from keras.datasets import imdb\n",
        "from keras.utils.np_utils import to_categorical"
      ],
      "execution_count": 146,
      "outputs": []
    },
    {
      "cell_type": "code",
      "metadata": {
        "colab": {
          "base_uri": "https://localhost:8080/"
        },
        "id": "rXePSkNzOExn",
        "outputId": "5858f29a-720b-4667-9bd3-722db809f282"
      },
      "source": [
        "rnn = Sequential()\n",
        "rnn.add(SimpleRNN(64,input_dim=31, return_sequences=True))  \n",
        "rnn.add(Dropout(0.1))\n",
        "rnn.add(SimpleRNN(64,input_dim=31, return_sequences=False))  \n",
        "rnn.add(Dropout(0.1))\n",
        "rnn.add(Dense(4))\n",
        "rnn.add(Activation('softmax'))\n",
        "print(rnn.summary())"
      ],
      "execution_count": 147,
      "outputs": [
        {
          "output_type": "stream",
          "text": [
            "Model: \"sequential_5\"\n",
            "_________________________________________________________________\n",
            "Layer (type)                 Output Shape              Param #   \n",
            "=================================================================\n",
            "simple_rnn_4 (SimpleRNN)     (None, None, 64)          6144      \n",
            "_________________________________________________________________\n",
            "dropout_7 (Dropout)          (None, None, 64)          0         \n",
            "_________________________________________________________________\n",
            "simple_rnn_5 (SimpleRNN)     (None, 64)                8256      \n",
            "_________________________________________________________________\n",
            "dropout_8 (Dropout)          (None, 64)                0         \n",
            "_________________________________________________________________\n",
            "dense_8 (Dense)              (None, 4)                 260       \n",
            "_________________________________________________________________\n",
            "activation_2 (Activation)    (None, 4)                 0         \n",
            "=================================================================\n",
            "Total params: 14,660\n",
            "Trainable params: 14,660\n",
            "Non-trainable params: 0\n",
            "_________________________________________________________________\n",
            "None\n"
          ],
          "name": "stdout"
        }
      ]
    },
    {
      "cell_type": "code",
      "metadata": {
        "colab": {
          "base_uri": "https://localhost:8080/"
        },
        "id": "tx4rvf_UOzrX",
        "outputId": "016a18f7-6e40-4f6b-cb12-f37e615aa4d3"
      },
      "source": [
        "X_train = np.reshape(trainX, (trainX.shape[0],1, trainX.shape[1]))\n",
        "X_test = np.reshape(testT, (testT.shape[0],1, testT.shape[1]))\n",
        "rnn.compile(loss=\"binary_crossentropy\", optimizer=\"adam\",metrics=['accuracy'])\n",
        "rnn.fit(X_train, y_train,epochs=50)"
      ],
      "execution_count": 148,
      "outputs": [
        {
          "output_type": "stream",
          "text": [
            "Epoch 1/50\n",
            "2548/2548 [==============================] - 9s 3ms/step - loss: 0.2394 - accuracy: 0.8159\n",
            "Epoch 2/50\n",
            "2548/2548 [==============================] - 7s 3ms/step - loss: 0.1433 - accuracy: 0.8911\n",
            "Epoch 3/50\n",
            "2548/2548 [==============================] - 7s 3ms/step - loss: 0.1317 - accuracy: 0.9021\n",
            "Epoch 4/50\n",
            "2548/2548 [==============================] - 7s 3ms/step - loss: 0.1256 - accuracy: 0.9074\n",
            "Epoch 5/50\n",
            "2548/2548 [==============================] - 6s 3ms/step - loss: 0.1222 - accuracy: 0.9091\n",
            "Epoch 6/50\n",
            "2548/2548 [==============================] - 7s 3ms/step - loss: 0.1173 - accuracy: 0.9138\n",
            "Epoch 7/50\n",
            "2548/2548 [==============================] - 7s 3ms/step - loss: 0.1168 - accuracy: 0.9141\n",
            "Epoch 8/50\n",
            "2548/2548 [==============================] - 7s 3ms/step - loss: 0.1151 - accuracy: 0.9151\n",
            "Epoch 9/50\n",
            "2548/2548 [==============================] - 7s 3ms/step - loss: 0.1146 - accuracy: 0.9145\n",
            "Epoch 10/50\n",
            "2548/2548 [==============================] - 7s 3ms/step - loss: 0.1124 - accuracy: 0.9169\n",
            "Epoch 11/50\n",
            "2548/2548 [==============================] - 7s 3ms/step - loss: 0.1109 - accuracy: 0.9180\n",
            "Epoch 12/50\n",
            "2548/2548 [==============================] - 7s 3ms/step - loss: 0.1107 - accuracy: 0.9174\n",
            "Epoch 13/50\n",
            "2548/2548 [==============================] - 7s 3ms/step - loss: 0.1089 - accuracy: 0.9202\n",
            "Epoch 14/50\n",
            "2548/2548 [==============================] - 7s 3ms/step - loss: 0.1067 - accuracy: 0.9216\n",
            "Epoch 15/50\n",
            "2548/2548 [==============================] - 7s 3ms/step - loss: 0.1054 - accuracy: 0.9228\n",
            "Epoch 16/50\n",
            "2548/2548 [==============================] - 7s 3ms/step - loss: 0.1060 - accuracy: 0.9226\n",
            "Epoch 17/50\n",
            "2548/2548 [==============================] - 7s 3ms/step - loss: 0.1057 - accuracy: 0.9231\n",
            "Epoch 18/50\n",
            "2548/2548 [==============================] - 7s 3ms/step - loss: 0.1034 - accuracy: 0.9241\n",
            "Epoch 19/50\n",
            "2548/2548 [==============================] - 7s 3ms/step - loss: 0.1035 - accuracy: 0.9243\n",
            "Epoch 20/50\n",
            "2548/2548 [==============================] - 7s 3ms/step - loss: 0.1041 - accuracy: 0.9231\n",
            "Epoch 21/50\n",
            "2548/2548 [==============================] - 7s 3ms/step - loss: 0.1021 - accuracy: 0.9239\n",
            "Epoch 22/50\n",
            "2548/2548 [==============================] - 7s 3ms/step - loss: 0.0986 - accuracy: 0.9286\n",
            "Epoch 23/50\n",
            "2548/2548 [==============================] - 7s 3ms/step - loss: 0.1007 - accuracy: 0.9262\n",
            "Epoch 24/50\n",
            "2548/2548 [==============================] - 7s 3ms/step - loss: 0.1019 - accuracy: 0.9255\n",
            "Epoch 25/50\n",
            "2548/2548 [==============================] - 7s 3ms/step - loss: 0.1002 - accuracy: 0.9268\n",
            "Epoch 26/50\n",
            "2548/2548 [==============================] - 7s 3ms/step - loss: 0.0997 - accuracy: 0.9263\n",
            "Epoch 27/50\n",
            "2548/2548 [==============================] - 7s 3ms/step - loss: 0.0973 - accuracy: 0.9282\n",
            "Epoch 28/50\n",
            "2548/2548 [==============================] - 7s 3ms/step - loss: 0.1009 - accuracy: 0.9257\n",
            "Epoch 29/50\n",
            "2548/2548 [==============================] - 7s 3ms/step - loss: 0.0988 - accuracy: 0.9283\n",
            "Epoch 30/50\n",
            "2548/2548 [==============================] - 7s 3ms/step - loss: 0.0993 - accuracy: 0.9268\n",
            "Epoch 31/50\n",
            "2548/2548 [==============================] - 7s 3ms/step - loss: 0.0998 - accuracy: 0.9262\n",
            "Epoch 32/50\n",
            "2548/2548 [==============================] - 7s 3ms/step - loss: 0.0982 - accuracy: 0.9275\n",
            "Epoch 33/50\n",
            "2548/2548 [==============================] - 7s 3ms/step - loss: 0.0963 - accuracy: 0.9296\n",
            "Epoch 34/50\n",
            "2548/2548 [==============================] - 7s 3ms/step - loss: 0.0977 - accuracy: 0.9282\n",
            "Epoch 35/50\n",
            "2548/2548 [==============================] - 7s 3ms/step - loss: 0.0973 - accuracy: 0.9282\n",
            "Epoch 36/50\n",
            "2548/2548 [==============================] - 7s 3ms/step - loss: 0.0959 - accuracy: 0.9304\n",
            "Epoch 37/50\n",
            "2548/2548 [==============================] - 7s 3ms/step - loss: 0.0959 - accuracy: 0.9295\n",
            "Epoch 38/50\n",
            "2548/2548 [==============================] - 7s 3ms/step - loss: 0.0974 - accuracy: 0.9290\n",
            "Epoch 39/50\n",
            "2548/2548 [==============================] - 7s 3ms/step - loss: 0.0974 - accuracy: 0.9290\n",
            "Epoch 40/50\n",
            "2548/2548 [==============================] - 7s 3ms/step - loss: 0.0983 - accuracy: 0.9264\n",
            "Epoch 41/50\n",
            "2548/2548 [==============================] - 7s 3ms/step - loss: 0.0954 - accuracy: 0.9303\n",
            "Epoch 42/50\n",
            "2548/2548 [==============================] - 7s 3ms/step - loss: 0.0951 - accuracy: 0.9310\n",
            "Epoch 43/50\n",
            "2548/2548 [==============================] - 7s 3ms/step - loss: 0.0964 - accuracy: 0.9274\n",
            "Epoch 44/50\n",
            "2548/2548 [==============================] - 7s 3ms/step - loss: 0.0972 - accuracy: 0.9288\n",
            "Epoch 45/50\n",
            "2548/2548 [==============================] - 7s 3ms/step - loss: 0.0961 - accuracy: 0.9288\n",
            "Epoch 46/50\n",
            "2548/2548 [==============================] - 7s 3ms/step - loss: 0.0968 - accuracy: 0.9278\n",
            "Epoch 47/50\n",
            "2548/2548 [==============================] - 7s 3ms/step - loss: 0.0942 - accuracy: 0.9307\n",
            "Epoch 48/50\n",
            "2548/2548 [==============================] - 7s 3ms/step - loss: 0.0967 - accuracy: 0.9288\n",
            "Epoch 49/50\n",
            "2548/2548 [==============================] - 7s 3ms/step - loss: 0.0965 - accuracy: 0.9287\n",
            "Epoch 50/50\n",
            "2548/2548 [==============================] - 7s 3ms/step - loss: 0.0946 - accuracy: 0.9308\n"
          ],
          "name": "stdout"
        },
        {
          "output_type": "execute_result",
          "data": {
            "text/plain": [
              "<keras.callbacks.History at 0x7f3e522899d0>"
            ]
          },
          "metadata": {
            "tags": []
          },
          "execution_count": 148
        }
      ]
    },
    {
      "cell_type": "code",
      "metadata": {
        "colab": {
          "base_uri": "https://localhost:8080/"
        },
        "id": "_2_nw6NiQkfA",
        "outputId": "1dd3957d-e677-4c30-e265-50655aec6066"
      },
      "source": [
        "loss, accuracy = rnn.evaluate(X_test, y_test)\n",
        "print(\"\\nLoss: %.2f, Accuracy: %.2f%%\" % (loss, accuracy*100))"
      ],
      "execution_count": 149,
      "outputs": [
        {
          "output_type": "stream",
          "text": [
            "637/637 [==============================] - 2s 1ms/step - loss: 0.0933 - accuracy: 0.9285\n",
            "\n",
            "Loss: 0.09, Accuracy: 92.85%\n"
          ],
          "name": "stdout"
        }
      ]
    },
    {
      "cell_type": "code",
      "metadata": {
        "colab": {
          "base_uri": "https://localhost:8080/"
        },
        "id": "q9-I6U_EQv0Z",
        "outputId": "4ea22e91-fd70-49ba-9166-51874ab880c3"
      },
      "source": [
        "from sklearn.metrics import confusion_matrix\n",
        "from sklearn.metrics import accuracy_score, recall_score, precision_score, f1_score\n",
        "y_pred1 = rnn.predict_classes(X_test)\n",
        "y_pred= to_categorical(y_pred1)\n",
        "np.savetxt('/content/drive/MyDrive/expected.txt', y_test, fmt='%01d')\n",
        "np.savetxt('/content/drive/MyDrive/predicted.txt', y_pred, fmt='%01d')\n",
        "rnn_accuracy = accuracy_score(y_test, y_pred)\n",
        "rnn_error = (1-rnn_accuracy)*100\n",
        "rnn_recall = recall_score(y_test, y_pred , average=\"weighted\")\n",
        "rnn_precision = precision_score(y_test, y_pred , average=\"weighted\")\n",
        "rnn_f1 = f1_score(y_test, y_pred, average=\"weighted\")\n",
        "\n",
        "print(\"confusion matrix\")\n",
        "print(\"----------------------------------------------\")\n",
        "print(\"accuracy\")\n",
        "print(\"%.6f\" %rnn_accuracy)\n",
        "print(\"racall\")\n",
        "print(\"%.6f\" %rnn_recall)\n",
        "print(\"precision\")\n",
        "print(\"%.6f\" %rnn_precision)\n",
        "print(\"f1score\")\n",
        "print(\"%.6f\" %rnn_f1)\n",
        "cm = confusion_matrix(y_test1, y_pred1)\n",
        "print(cm)\n",
        "print(\"==============================================\")"
      ],
      "execution_count": 150,
      "outputs": [
        {
          "output_type": "stream",
          "text": [
            "/usr/local/lib/python3.7/dist-packages/keras/engine/sequential.py:450: UserWarning: `model.predict_classes()` is deprecated and will be removed after 2021-01-01. Please use instead:* `np.argmax(model.predict(x), axis=-1)`,   if your model does multi-class classification   (e.g. if it uses a `softmax` last-layer activation).* `(model.predict(x) > 0.5).astype(\"int32\")`,   if your model does binary classification   (e.g. if it uses a `sigmoid` last-layer activation).\n",
            "  warnings.warn('`model.predict_classes()` is deprecated and '\n"
          ],
          "name": "stderr"
        },
        {
          "output_type": "stream",
          "text": [
            "confusion matrix\n",
            "----------------------------------------------\n",
            "accuracy\n",
            "0.928547\n",
            "racall\n",
            "0.928547\n",
            "precision\n",
            "0.927446\n",
            "f1score\n",
            "0.921123\n",
            "[[10941   209    28    27]\n",
            " [  122  6493    38     6]\n",
            " [   35   627  1445     0]\n",
            " [   41   323     0    42]]\n",
            "==============================================\n"
          ],
          "name": "stdout"
        }
      ]
    },
    {
      "cell_type": "code",
      "metadata": {
        "colab": {
          "base_uri": "https://localhost:8080/"
        },
        "id": "6e4sSNOmQ5vu",
        "outputId": "fff012ed-1ff0-4fcd-d398-16565d28d93c"
      },
      "source": [
        "from sklearn.metrics import classification_report\n",
        "print(classification_report(y_test1, y_pred1, target_names=['Normal','Exploits','Reconnaissance','Analysis']))"
      ],
      "execution_count": 151,
      "outputs": [
        {
          "output_type": "stream",
          "text": [
            "                precision    recall  f1-score   support\n",
            "\n",
            "        Normal       0.98      0.98      0.98     11205\n",
            "      Exploits       0.85      0.98      0.91      6659\n",
            "Reconnaissance       0.96      0.69      0.80      2107\n",
            "      Analysis       0.56      0.10      0.17       406\n",
            "\n",
            "      accuracy                           0.93     20377\n",
            "     macro avg       0.84      0.69      0.72     20377\n",
            "  weighted avg       0.93      0.93      0.92     20377\n",
            "\n"
          ],
          "name": "stdout"
        }
      ]
    },
    {
      "cell_type": "markdown",
      "metadata": {
        "id": "RSMXQyXzNLcI"
      },
      "source": [
        "## **SVM Algorithm**"
      ]
    },
    {
      "cell_type": "code",
      "metadata": {
        "colab": {
          "base_uri": "https://localhost:8080/"
        },
        "id": "B8RhOOE6NxpH",
        "outputId": "1efc8ae5-5ebf-4beb-ffcf-8ef1e3111a09"
      },
      "source": [
        "from sklearn.svm import SVC\n",
        "model = SVC(kernel='sigmoid',C=0.1,random_state = 1)\n",
        "model.fit(trainX, y_train1)"
      ],
      "execution_count": 152,
      "outputs": [
        {
          "output_type": "execute_result",
          "data": {
            "text/plain": [
              "SVC(C=0.1, break_ties=False, cache_size=200, class_weight=None, coef0=0.0,\n",
              "    decision_function_shape='ovr', degree=3, gamma='scale', kernel='sigmoid',\n",
              "    max_iter=-1, probability=False, random_state=1, shrinking=True, tol=0.001,\n",
              "    verbose=False)"
            ]
          },
          "metadata": {
            "tags": []
          },
          "execution_count": 152
        }
      ]
    },
    {
      "cell_type": "code",
      "metadata": {
        "id": "JyLSJ6FhOYIh"
      },
      "source": [
        "predict = model.predict(testT)"
      ],
      "execution_count": 153,
      "outputs": []
    },
    {
      "cell_type": "code",
      "metadata": {
        "colab": {
          "base_uri": "https://localhost:8080/"
        },
        "id": "pBxdsKjEiYei",
        "outputId": "17519e22-27dc-481e-abb1-9c37ae98f7f6"
      },
      "source": [
        "svm_accuracy = accuracy_score(y_test1, predict)\n",
        "svm_error = (1- svm_accuracy)*100\n",
        "svm_recall = recall_score(y_test1, predict , average=\"weighted\")\n",
        "svm_precision = precision_score(y_test1, predict , average=\"weighted\")\n",
        "svm_f1 = f1_score(y_test1, predict, average=\"weighted\")\n",
        "\n",
        "print(\"----------------------------------------------\")\n",
        "print(\"accuracy\")\n",
        "print(\"%.6f\" %svm_accuracy)\n",
        "print(\"racall\")\n",
        "print(\"%.6f\" %svm_recall)\n",
        "print(\"precision\")\n",
        "print(\"%.6f\" %svm_precision)\n",
        "print(\"f1score\")\n",
        "print(\"%.6f\" %svm_f1)\n",
        "print(\"==============================================\")"
      ],
      "execution_count": 154,
      "outputs": [
        {
          "output_type": "stream",
          "text": [
            "----------------------------------------------\n",
            "accuracy\n",
            "0.768906\n",
            "racall\n",
            "0.768906\n",
            "precision\n",
            "0.757710\n",
            "f1score\n",
            "0.760999\n",
            "==============================================\n"
          ],
          "name": "stdout"
        }
      ]
    },
    {
      "cell_type": "code",
      "metadata": {
        "colab": {
          "base_uri": "https://localhost:8080/"
        },
        "id": "AzWdmTI9Ptng",
        "outputId": "2cb68965-1dff-49a9-e59a-d4866ee18c95"
      },
      "source": [
        "from sklearn.metrics import classification_report,confusion_matrix\n",
        "from sklearn import metrics\n",
        "print(classification_report(y_test1, predict,target_names=['Normal','Exploits','Reconnaissance','Analysis']))\n",
        "cm = confusion_matrix(y_test1, predict)\n",
        "print(cm)\n"
      ],
      "execution_count": 155,
      "outputs": [
        {
          "output_type": "stream",
          "text": [
            "                precision    recall  f1-score   support\n",
            "\n",
            "        Normal       0.85      0.88      0.86     11205\n",
            "      Exploits       0.69      0.74      0.72      6659\n",
            "Reconnaissance       0.61      0.42      0.50      2107\n",
            "      Analysis       0.02      0.01      0.02       406\n",
            "\n",
            "      accuracy                           0.77     20377\n",
            "     macro avg       0.54      0.51      0.52     20377\n",
            "  weighted avg       0.76      0.77      0.76     20377\n",
            "\n",
            "[[9832 1060  176  137]\n",
            " [1284 4948  371   56]\n",
            " [ 360  834  883   30]\n",
            " [  81  308   12    5]]\n"
          ],
          "name": "stdout"
        }
      ]
    },
    {
      "cell_type": "markdown",
      "metadata": {
        "id": "nMsHicFxQ-FA"
      },
      "source": [
        "# **Decision Tree Algorithm**"
      ]
    },
    {
      "cell_type": "code",
      "metadata": {
        "colab": {
          "base_uri": "https://localhost:8080/"
        },
        "id": "wcqKrxMjRGsd",
        "outputId": "b2e59e9b-7836-4c9d-ee78-3363eb98cc1f"
      },
      "source": [
        "from sklearn.tree import DecisionTreeClassifier\n",
        "dtc = DecisionTreeClassifier()\n",
        "dtc.fit(trainX, y_train1)"
      ],
      "execution_count": 156,
      "outputs": [
        {
          "output_type": "execute_result",
          "data": {
            "text/plain": [
              "DecisionTreeClassifier(ccp_alpha=0.0, class_weight=None, criterion='gini',\n",
              "                       max_depth=None, max_features=None, max_leaf_nodes=None,\n",
              "                       min_impurity_decrease=0.0, min_impurity_split=None,\n",
              "                       min_samples_leaf=1, min_samples_split=2,\n",
              "                       min_weight_fraction_leaf=0.0, presort='deprecated',\n",
              "                       random_state=None, splitter='best')"
            ]
          },
          "metadata": {
            "tags": []
          },
          "execution_count": 156
        }
      ]
    },
    {
      "cell_type": "code",
      "metadata": {
        "id": "dxS98INbSj3y"
      },
      "source": [
        "predict = dtc.predict(testT)"
      ],
      "execution_count": 157,
      "outputs": []
    },
    {
      "cell_type": "code",
      "metadata": {
        "colab": {
          "base_uri": "https://localhost:8080/"
        },
        "id": "zhy03ztnjd9L",
        "outputId": "ce189a11-c535-4f2e-fb5b-4109177c4d29"
      },
      "source": [
        "dtc_accuracy = accuracy_score(y_test1, predict)\n",
        "dtc_error = (1-dtc_accuracy)*100\n",
        "dtc_recall = recall_score(y_test1, predict , average=\"weighted\")\n",
        "dtc_precision = precision_score(y_test1, predict , average=\"weighted\")\n",
        "dtc_f1 = f1_score(y_test1, predict, average=\"weighted\")\n",
        "\n",
        "print(\"----------------------------------------------\")\n",
        "print(\"accuracy\")\n",
        "print(\"%.6f\" %dtc_accuracy)\n",
        "print(\"racall\")\n",
        "print(\"%.6f\" %dtc_recall)\n",
        "print(\"precision\")\n",
        "print(\"%.6f\" %dtc_precision)\n",
        "print(\"f1score\")\n",
        "print(\"%.6f\" %dtc_f1)\n",
        "print(\"==============================================\")"
      ],
      "execution_count": 158,
      "outputs": [
        {
          "output_type": "stream",
          "text": [
            "----------------------------------------------\n",
            "accuracy\n",
            "0.772047\n",
            "racall\n",
            "0.772047\n",
            "precision\n",
            "0.764111\n",
            "f1score\n",
            "0.752473\n",
            "==============================================\n"
          ],
          "name": "stdout"
        }
      ]
    },
    {
      "cell_type": "code",
      "metadata": {
        "colab": {
          "base_uri": "https://localhost:8080/"
        },
        "id": "ddzw5JDOSvhw",
        "outputId": "3b4ad18d-babf-4262-912c-24415e5caab3"
      },
      "source": [
        "from sklearn.metrics import classification_report,confusion_matrix\n",
        "from sklearn import metrics\n",
        "print(classification_report(y_test1, predict,target_names=['Normal','Exploits','Reconnaissance','Analysis']))\n",
        "cm = confusion_matrix(y_test1, predict)\n",
        "print(cm)\n"
      ],
      "execution_count": 159,
      "outputs": [
        {
          "output_type": "stream",
          "text": [
            "                precision    recall  f1-score   support\n",
            "\n",
            "        Normal       0.79      0.95      0.86     11205\n",
            "      Exploits       0.73      0.64      0.68      6659\n",
            "Reconnaissance       0.84      0.38      0.52      2107\n",
            "      Analysis       0.27      0.05      0.09       406\n",
            "\n",
            "      accuracy                           0.77     20377\n",
            "     macro avg       0.66      0.51      0.54     20377\n",
            "  weighted avg       0.76      0.77      0.75     20377\n",
            "\n",
            "[[10660   528     8     9]\n",
            " [ 2216  4251   146    46]\n",
            " [  368   938   800     1]\n",
            " [  277   107     1    21]]\n"
          ],
          "name": "stdout"
        }
      ]
    },
    {
      "cell_type": "code",
      "metadata": {
        "colab": {
          "base_uri": "https://localhost:8080/",
          "height": 188
        },
        "id": "_1e2FPsVZwu1",
        "outputId": "e810abc9-095e-4c28-ae1c-197ce2bfc189"
      },
      "source": [
        "report = pd.DataFrame(index=[1,2,3,4])\n",
        "report['Algorithm'] = ['Convolutional Neural Network(CNN)', 'Recrrent Neural network(RNN)','Support vector Machine(SVM)', 'Decision Tree(DT)']\n",
        "report['Accuracy (%)'] = [cnn_accuracy*100, rnn_accuracy*100,svm_accuracy*100,dtc_accuracy*100]\n",
        "report['Error (%)'] = [cnn_error, rnn_error,svm_error,dtc_error]\n",
        "report['Precision (%)'] = [cnn_precision*100,rnn_precision*100,svm_precision*100,dtc_precision*100]\n",
        "report['Recall (%)'] = [cnn_recall*100,rnn_recall*100,svm_recall*100,dtc_recall*100]\n",
        "report['F1 score (%)'] = [cnn_f1*100,rnn_f1*100,svm_f1*100,dtc_f1*100]\n",
        "print(\"============================Multiclass Classification of Attacks============================\")\n",
        "report"
      ],
      "execution_count": 161,
      "outputs": [
        {
          "output_type": "stream",
          "text": [
            "============================Multiclass Classification of Attacks============================\n"
          ],
          "name": "stdout"
        },
        {
          "output_type": "execute_result",
          "data": {
            "text/html": [
              "<div>\n",
              "<style scoped>\n",
              "    .dataframe tbody tr th:only-of-type {\n",
              "        vertical-align: middle;\n",
              "    }\n",
              "\n",
              "    .dataframe tbody tr th {\n",
              "        vertical-align: top;\n",
              "    }\n",
              "\n",
              "    .dataframe thead th {\n",
              "        text-align: right;\n",
              "    }\n",
              "</style>\n",
              "<table border=\"1\" class=\"dataframe\">\n",
              "  <thead>\n",
              "    <tr style=\"text-align: right;\">\n",
              "      <th></th>\n",
              "      <th>Algorithm</th>\n",
              "      <th>Accuracy (%)</th>\n",
              "      <th>Error (%)</th>\n",
              "      <th>Precision (%)</th>\n",
              "      <th>Recall (%)</th>\n",
              "      <th>F1 score (%)</th>\n",
              "    </tr>\n",
              "  </thead>\n",
              "  <tbody>\n",
              "    <tr>\n",
              "      <th>1</th>\n",
              "      <td>Convolutional Neural Network(CNN)</td>\n",
              "      <td>92.781077</td>\n",
              "      <td>7.218923</td>\n",
              "      <td>92.626776</td>\n",
              "      <td>92.781077</td>\n",
              "      <td>91.967388</td>\n",
              "    </tr>\n",
              "    <tr>\n",
              "      <th>2</th>\n",
              "      <td>Recrrent Neural network(RNN)</td>\n",
              "      <td>92.854689</td>\n",
              "      <td>7.145311</td>\n",
              "      <td>92.744551</td>\n",
              "      <td>92.854689</td>\n",
              "      <td>92.112316</td>\n",
              "    </tr>\n",
              "    <tr>\n",
              "      <th>3</th>\n",
              "      <td>Support vector Machine(SVM)</td>\n",
              "      <td>76.890612</td>\n",
              "      <td>23.109388</td>\n",
              "      <td>75.771046</td>\n",
              "      <td>76.890612</td>\n",
              "      <td>76.099907</td>\n",
              "    </tr>\n",
              "    <tr>\n",
              "      <th>4</th>\n",
              "      <td>Decision Tree(DT)</td>\n",
              "      <td>77.204692</td>\n",
              "      <td>22.795308</td>\n",
              "      <td>76.411086</td>\n",
              "      <td>77.204692</td>\n",
              "      <td>75.247347</td>\n",
              "    </tr>\n",
              "  </tbody>\n",
              "</table>\n",
              "</div>"
            ],
            "text/plain": [
              "                           Algorithm  Accuracy (%)  ...  Recall (%)  F1 score (%)\n",
              "1  Convolutional Neural Network(CNN)     92.781077  ...   92.781077     91.967388\n",
              "2       Recrrent Neural network(RNN)     92.854689  ...   92.854689     92.112316\n",
              "3        Support vector Machine(SVM)     76.890612  ...   76.890612     76.099907\n",
              "4                  Decision Tree(DT)     77.204692  ...   77.204692     75.247347\n",
              "\n",
              "[4 rows x 6 columns]"
            ]
          },
          "metadata": {
            "tags": []
          },
          "execution_count": 161
        }
      ]
    },
    {
      "cell_type": "code",
      "metadata": {
        "colab": {
          "base_uri": "https://localhost:8080/",
          "height": 375
        },
        "id": "XUBfzKwNaPkY",
        "outputId": "6875f870-679e-40e3-b7e1-f00639b2e05b"
      },
      "source": [
        "import matplotlib.pyplot as plt\n",
        "report.plot(x=\"Algorithm\", y=[\"Accuracy (%)\", \"Precision (%)\", \"Recall (%)\",\"F1 score (%)\"], kind=\"bar\",figsize=(30,8))\n",
        "plt.xticks(rotation=360)\n",
        "plt.show()"
      ],
      "execution_count": 171,
      "outputs": [
        {
          "output_type": "display_data",
          "data": {
            "image/png": "[encoded data removed]",
            "text/plain": [
              "<Figure size 2160x576 with 1 Axes>"
            ]
          },
          "metadata": {
            "tags": [],
            "needs_background": "light"
          }
        }
      ]
    },
    {
      "cell_type": "code",
      "metadata": {
        "colab": {
          "base_uri": "https://localhost:8080/",
          "height": 334
        },
        "id": "Iwt2AYgqurwR",
        "outputId": "efab457b-16d7-4ef7-b80f-2363c954ca6e"
      },
      "source": [
        "fig, ax = plt.subplots(figsize=(10,5))\n",
        "sns.lineplot(x=\"Algorithm\", y=\"Accuracy (%)\", data=report, ax=ax)\n",
        "plt.show()"
      ],
      "execution_count": 169,
      "outputs": [
        {
          "output_type": "display_data",
          "data": {
            "image/png": "[encoded data removed]",
            "text/plain": [
              "<Figure size 720x360 with 1 Axes>"
            ]
          },
          "metadata": {
            "tags": [],
            "needs_background": "light"
          }
        }
      ]
    }
  ]
}