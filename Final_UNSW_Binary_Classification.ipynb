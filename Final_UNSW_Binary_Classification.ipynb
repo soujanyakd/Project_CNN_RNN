{
  "nbformat": 4,
  "nbformat_minor": 0,
  "metadata": {
    "colab": {
      "name": "UNSW_Binary_Classification.ipynb",
      "provenance": [],
      "collapsed_sections": [],
      "authorship_tag": "ABX9TyP7wBnT7WEfaVxaEkadCx9V",
      "include_colab_link": true
    },
    "kernelspec": {
      "name": "python3",
      "display_name": "Python 3"
    },
    "language_info": {
      "name": "python"
    }
  },
  "cells": [
    {
      "cell_type": "markdown",
      "metadata": {
        "id": "view-in-github",
        "colab_type": "text"
      },
      "source": [
        "<a href=\"https://colab.research.google.com/github/soujanyakd/Project_CNN_RNN/blob/main/Final_UNSW_Binary_Classification.ipynb\" target=\"_parent\"><img src=\"https://colab.research.google.com/assets/colab-badge.svg\" alt=\"Open In Colab\"/></a>"
      ]
    },
    {
      "cell_type": "code",
      "metadata": {
        "colab": {
          "base_uri": "https://localhost:8080/"
        },
        "id": "KVWcQBRnnL0s",
        "outputId": "1d8fea66-5734-43d3-d9fe-6ef7adf4b3a9"
      },
      "source": [
        "from google.colab import drive\n",
        "drive. mount('/content/drive/')"
      ],
      "execution_count": 1,
      "outputs": [
        {
          "output_type": "stream",
          "text": [
            "Mounted at /content/drive/\n"
          ],
          "name": "stdout"
        }
      ]
    },
    {
      "cell_type": "code",
      "metadata": {
        "id": "rwQdDoJHnjji"
      },
      "source": [
        "import matplotlib.pyplot as plt\n",
        "import os\n",
        "import re\n",
        "import shutil\n",
        "import string\n",
        "import tensorflow as tf\n",
        "import seaborn as sns\n",
        "from tensorflow.keras import regularizers\n",
        "\n",
        "from tensorflow.keras import layers\n",
        "from tensorflow.keras import losses\n",
        "\n",
        "from collections import Counter\n",
        "\n",
        "\n",
        "import pandas as pd\n",
        "import numpy as np\n",
        "\n",
        "from sklearn.preprocessing import LabelEncoder\n",
        "from sklearn.model_selection import train_test_split\n",
        "from sklearn.metrics import classification_report\n",
        "\n",
        "from tensorflow.keras import preprocessing\n",
        "from tensorflow.keras.preprocessing.text import Tokenizer\n",
        "from tensorflow.keras.preprocessing.sequence import pad_sequences\n",
        "from keras.datasets import imdb\n",
        "from tensorflow.keras.preprocessing.text import Tokenizer\n",
        "\n",
        "\n",
        "import pydot"
      ],
      "execution_count": 2,
      "outputs": []
    },
    {
      "cell_type": "code",
      "metadata": {
        "colab": {
          "base_uri": "https://localhost:8080/",
          "height": 669
        },
        "id": "f6nzlXNANkiR",
        "outputId": "b9bf066c-4b19-4dde-9d4c-46c7d84d4d28"
      },
      "source": [
        "#uploading training dataset\n",
        "data= pd.read_csv(\"/content/drive/MyDrive/UNSW_NB15_testing-set.csv\")\n",
        "print('-------Data--------')\n",
        "print(data['attack_cat'].value_counts())\n",
        "print(len(data))\n",
        "print('-------------------------')\n",
        "data"
      ],
      "execution_count": 3,
      "outputs": [
        {
          "output_type": "stream",
          "text": [
            "-------Data--------\n",
            "Normal            56000\n",
            "Generic           40000\n",
            "Exploits          33393\n",
            "Fuzzers           18184\n",
            "DoS               12264\n",
            "Reconnaissance    10491\n",
            "Analysis           2000\n",
            "Backdoor           1746\n",
            "Shellcode          1133\n",
            "Worms               130\n",
            "Name: attack_cat, dtype: int64\n",
            "175341\n",
            "-------------------------\n"
          ],
          "name": "stdout"
        },
        {
          "output_type": "execute_result",
          "data": {
            "text/html": [
              "<div>\n",
              "<style scoped>\n",
              "    .dataframe tbody tr th:only-of-type {\n",
              "        vertical-align: middle;\n",
              "    }\n",
              "\n",
              "    .dataframe tbody tr th {\n",
              "        vertical-align: top;\n",
              "    }\n",
              "\n",
              "    .dataframe thead th {\n",
              "        text-align: right;\n",
              "    }\n",
              "</style>\n",
              "<table border=\"1\" class=\"dataframe\">\n",
              "  <thead>\n",
              "    <tr style=\"text-align: right;\">\n",
              "      <th></th>\n",
              "      <th>id</th>\n",
              "      <th>dur</th>\n",
              "      <th>proto</th>\n",
              "      <th>service</th>\n",
              "      <th>state</th>\n",
              "      <th>spkts</th>\n",
              "      <th>dpkts</th>\n",
              "      <th>sbytes</th>\n",
              "      <th>dbytes</th>\n",
              "      <th>rate</th>\n",
              "      <th>sttl</th>\n",
              "      <th>dttl</th>\n",
              "      <th>sload</th>\n",
              "      <th>dload</th>\n",
              "      <th>sloss</th>\n",
              "      <th>dloss</th>\n",
              "      <th>sinpkt</th>\n",
              "      <th>dinpkt</th>\n",
              "      <th>sjit</th>\n",
              "      <th>djit</th>\n",
              "      <th>swin</th>\n",
              "      <th>stcpb</th>\n",
              "      <th>dtcpb</th>\n",
              "      <th>dwin</th>\n",
              "      <th>tcprtt</th>\n",
              "      <th>synack</th>\n",
              "      <th>ackdat</th>\n",
              "      <th>smean</th>\n",
              "      <th>dmean</th>\n",
              "      <th>trans_depth</th>\n",
              "      <th>response_body_len</th>\n",
              "      <th>ct_srv_src</th>\n",
              "      <th>ct_state_ttl</th>\n",
              "      <th>ct_dst_ltm</th>\n",
              "      <th>ct_src_dport_ltm</th>\n",
              "      <th>ct_dst_sport_ltm</th>\n",
              "      <th>ct_dst_src_ltm</th>\n",
              "      <th>is_ftp_login</th>\n",
              "      <th>ct_ftp_cmd</th>\n",
              "      <th>ct_flw_http_mthd</th>\n",
              "      <th>ct_src_ltm</th>\n",
              "      <th>ct_srv_dst</th>\n",
              "      <th>is_sm_ips_ports</th>\n",
              "      <th>attack_cat</th>\n",
              "      <th>label</th>\n",
              "    </tr>\n",
              "  </thead>\n",
              "  <tbody>\n",
              "    <tr>\n",
              "      <th>0</th>\n",
              "      <td>1</td>\n",
              "      <td>0.121478</td>\n",
              "      <td>tcp</td>\n",
              "      <td>-</td>\n",
              "      <td>FIN</td>\n",
              "      <td>6</td>\n",
              "      <td>4</td>\n",
              "      <td>258</td>\n",
              "      <td>172</td>\n",
              "      <td>74.087490</td>\n",
              "      <td>252</td>\n",
              "      <td>254</td>\n",
              "      <td>1.415894e+04</td>\n",
              "      <td>8495.365234</td>\n",
              "      <td>0</td>\n",
              "      <td>0</td>\n",
              "      <td>24.295600</td>\n",
              "      <td>8.375000</td>\n",
              "      <td>30.177547</td>\n",
              "      <td>11.830604</td>\n",
              "      <td>255</td>\n",
              "      <td>621772692</td>\n",
              "      <td>2202533631</td>\n",
              "      <td>255</td>\n",
              "      <td>0.000000</td>\n",
              "      <td>0.000000</td>\n",
              "      <td>0.000000</td>\n",
              "      <td>43</td>\n",
              "      <td>43</td>\n",
              "      <td>0</td>\n",
              "      <td>0</td>\n",
              "      <td>1</td>\n",
              "      <td>0</td>\n",
              "      <td>1</td>\n",
              "      <td>1</td>\n",
              "      <td>1</td>\n",
              "      <td>1</td>\n",
              "      <td>0</td>\n",
              "      <td>0</td>\n",
              "      <td>0</td>\n",
              "      <td>1</td>\n",
              "      <td>1</td>\n",
              "      <td>0</td>\n",
              "      <td>Normal</td>\n",
              "      <td>0</td>\n",
              "    </tr>\n",
              "    <tr>\n",
              "      <th>1</th>\n",
              "      <td>2</td>\n",
              "      <td>0.649902</td>\n",
              "      <td>tcp</td>\n",
              "      <td>-</td>\n",
              "      <td>FIN</td>\n",
              "      <td>14</td>\n",
              "      <td>38</td>\n",
              "      <td>734</td>\n",
              "      <td>42014</td>\n",
              "      <td>78.473372</td>\n",
              "      <td>62</td>\n",
              "      <td>252</td>\n",
              "      <td>8.395112e+03</td>\n",
              "      <td>503571.312500</td>\n",
              "      <td>2</td>\n",
              "      <td>17</td>\n",
              "      <td>49.915000</td>\n",
              "      <td>15.432865</td>\n",
              "      <td>61.426934</td>\n",
              "      <td>1387.778330</td>\n",
              "      <td>255</td>\n",
              "      <td>1417884146</td>\n",
              "      <td>3077387971</td>\n",
              "      <td>255</td>\n",
              "      <td>0.000000</td>\n",
              "      <td>0.000000</td>\n",
              "      <td>0.000000</td>\n",
              "      <td>52</td>\n",
              "      <td>1106</td>\n",
              "      <td>0</td>\n",
              "      <td>0</td>\n",
              "      <td>43</td>\n",
              "      <td>1</td>\n",
              "      <td>1</td>\n",
              "      <td>1</td>\n",
              "      <td>1</td>\n",
              "      <td>2</td>\n",
              "      <td>0</td>\n",
              "      <td>0</td>\n",
              "      <td>0</td>\n",
              "      <td>1</td>\n",
              "      <td>6</td>\n",
              "      <td>0</td>\n",
              "      <td>Normal</td>\n",
              "      <td>0</td>\n",
              "    </tr>\n",
              "    <tr>\n",
              "      <th>2</th>\n",
              "      <td>3</td>\n",
              "      <td>1.623129</td>\n",
              "      <td>tcp</td>\n",
              "      <td>-</td>\n",
              "      <td>FIN</td>\n",
              "      <td>8</td>\n",
              "      <td>16</td>\n",
              "      <td>364</td>\n",
              "      <td>13186</td>\n",
              "      <td>14.170161</td>\n",
              "      <td>62</td>\n",
              "      <td>252</td>\n",
              "      <td>1.572272e+03</td>\n",
              "      <td>60929.230470</td>\n",
              "      <td>1</td>\n",
              "      <td>6</td>\n",
              "      <td>231.875571</td>\n",
              "      <td>102.737203</td>\n",
              "      <td>17179.586860</td>\n",
              "      <td>11420.926230</td>\n",
              "      <td>255</td>\n",
              "      <td>2116150707</td>\n",
              "      <td>2963114973</td>\n",
              "      <td>255</td>\n",
              "      <td>0.111897</td>\n",
              "      <td>0.061458</td>\n",
              "      <td>0.050439</td>\n",
              "      <td>46</td>\n",
              "      <td>824</td>\n",
              "      <td>0</td>\n",
              "      <td>0</td>\n",
              "      <td>7</td>\n",
              "      <td>1</td>\n",
              "      <td>2</td>\n",
              "      <td>1</td>\n",
              "      <td>1</td>\n",
              "      <td>3</td>\n",
              "      <td>0</td>\n",
              "      <td>0</td>\n",
              "      <td>0</td>\n",
              "      <td>2</td>\n",
              "      <td>6</td>\n",
              "      <td>0</td>\n",
              "      <td>Normal</td>\n",
              "      <td>0</td>\n",
              "    </tr>\n",
              "    <tr>\n",
              "      <th>3</th>\n",
              "      <td>4</td>\n",
              "      <td>1.681642</td>\n",
              "      <td>tcp</td>\n",
              "      <td>ftp</td>\n",
              "      <td>FIN</td>\n",
              "      <td>12</td>\n",
              "      <td>12</td>\n",
              "      <td>628</td>\n",
              "      <td>770</td>\n",
              "      <td>13.677108</td>\n",
              "      <td>62</td>\n",
              "      <td>252</td>\n",
              "      <td>2.740179e+03</td>\n",
              "      <td>3358.622070</td>\n",
              "      <td>1</td>\n",
              "      <td>3</td>\n",
              "      <td>152.876547</td>\n",
              "      <td>90.235726</td>\n",
              "      <td>259.080172</td>\n",
              "      <td>4991.784669</td>\n",
              "      <td>255</td>\n",
              "      <td>1107119177</td>\n",
              "      <td>1047442890</td>\n",
              "      <td>255</td>\n",
              "      <td>0.000000</td>\n",
              "      <td>0.000000</td>\n",
              "      <td>0.000000</td>\n",
              "      <td>52</td>\n",
              "      <td>64</td>\n",
              "      <td>0</td>\n",
              "      <td>0</td>\n",
              "      <td>1</td>\n",
              "      <td>1</td>\n",
              "      <td>2</td>\n",
              "      <td>1</td>\n",
              "      <td>1</td>\n",
              "      <td>3</td>\n",
              "      <td>1</td>\n",
              "      <td>1</td>\n",
              "      <td>0</td>\n",
              "      <td>2</td>\n",
              "      <td>1</td>\n",
              "      <td>0</td>\n",
              "      <td>Normal</td>\n",
              "      <td>0</td>\n",
              "    </tr>\n",
              "    <tr>\n",
              "      <th>4</th>\n",
              "      <td>5</td>\n",
              "      <td>0.449454</td>\n",
              "      <td>tcp</td>\n",
              "      <td>-</td>\n",
              "      <td>FIN</td>\n",
              "      <td>10</td>\n",
              "      <td>6</td>\n",
              "      <td>534</td>\n",
              "      <td>268</td>\n",
              "      <td>33.373826</td>\n",
              "      <td>254</td>\n",
              "      <td>252</td>\n",
              "      <td>8.561499e+03</td>\n",
              "      <td>3987.059814</td>\n",
              "      <td>2</td>\n",
              "      <td>1</td>\n",
              "      <td>47.750333</td>\n",
              "      <td>75.659602</td>\n",
              "      <td>2415.837634</td>\n",
              "      <td>115.807000</td>\n",
              "      <td>255</td>\n",
              "      <td>2436137549</td>\n",
              "      <td>1977154190</td>\n",
              "      <td>255</td>\n",
              "      <td>0.128381</td>\n",
              "      <td>0.071147</td>\n",
              "      <td>0.057234</td>\n",
              "      <td>53</td>\n",
              "      <td>45</td>\n",
              "      <td>0</td>\n",
              "      <td>0</td>\n",
              "      <td>43</td>\n",
              "      <td>1</td>\n",
              "      <td>2</td>\n",
              "      <td>2</td>\n",
              "      <td>1</td>\n",
              "      <td>40</td>\n",
              "      <td>0</td>\n",
              "      <td>0</td>\n",
              "      <td>0</td>\n",
              "      <td>2</td>\n",
              "      <td>39</td>\n",
              "      <td>0</td>\n",
              "      <td>Normal</td>\n",
              "      <td>0</td>\n",
              "    </tr>\n",
              "    <tr>\n",
              "      <th>...</th>\n",
              "      <td>...</td>\n",
              "      <td>...</td>\n",
              "      <td>...</td>\n",
              "      <td>...</td>\n",
              "      <td>...</td>\n",
              "      <td>...</td>\n",
              "      <td>...</td>\n",
              "      <td>...</td>\n",
              "      <td>...</td>\n",
              "      <td>...</td>\n",
              "      <td>...</td>\n",
              "      <td>...</td>\n",
              "      <td>...</td>\n",
              "      <td>...</td>\n",
              "      <td>...</td>\n",
              "      <td>...</td>\n",
              "      <td>...</td>\n",
              "      <td>...</td>\n",
              "      <td>...</td>\n",
              "      <td>...</td>\n",
              "      <td>...</td>\n",
              "      <td>...</td>\n",
              "      <td>...</td>\n",
              "      <td>...</td>\n",
              "      <td>...</td>\n",
              "      <td>...</td>\n",
              "      <td>...</td>\n",
              "      <td>...</td>\n",
              "      <td>...</td>\n",
              "      <td>...</td>\n",
              "      <td>...</td>\n",
              "      <td>...</td>\n",
              "      <td>...</td>\n",
              "      <td>...</td>\n",
              "      <td>...</td>\n",
              "      <td>...</td>\n",
              "      <td>...</td>\n",
              "      <td>...</td>\n",
              "      <td>...</td>\n",
              "      <td>...</td>\n",
              "      <td>...</td>\n",
              "      <td>...</td>\n",
              "      <td>...</td>\n",
              "      <td>...</td>\n",
              "      <td>...</td>\n",
              "    </tr>\n",
              "    <tr>\n",
              "      <th>175336</th>\n",
              "      <td>175337</td>\n",
              "      <td>0.000009</td>\n",
              "      <td>udp</td>\n",
              "      <td>dns</td>\n",
              "      <td>INT</td>\n",
              "      <td>2</td>\n",
              "      <td>0</td>\n",
              "      <td>114</td>\n",
              "      <td>0</td>\n",
              "      <td>111111.107200</td>\n",
              "      <td>254</td>\n",
              "      <td>0</td>\n",
              "      <td>5.066666e+07</td>\n",
              "      <td>0.000000</td>\n",
              "      <td>0</td>\n",
              "      <td>0</td>\n",
              "      <td>0.009000</td>\n",
              "      <td>0.000000</td>\n",
              "      <td>0.000000</td>\n",
              "      <td>0.000000</td>\n",
              "      <td>0</td>\n",
              "      <td>0</td>\n",
              "      <td>0</td>\n",
              "      <td>0</td>\n",
              "      <td>0.000000</td>\n",
              "      <td>0.000000</td>\n",
              "      <td>0.000000</td>\n",
              "      <td>57</td>\n",
              "      <td>0</td>\n",
              "      <td>0</td>\n",
              "      <td>0</td>\n",
              "      <td>24</td>\n",
              "      <td>2</td>\n",
              "      <td>24</td>\n",
              "      <td>24</td>\n",
              "      <td>13</td>\n",
              "      <td>24</td>\n",
              "      <td>0</td>\n",
              "      <td>0</td>\n",
              "      <td>0</td>\n",
              "      <td>24</td>\n",
              "      <td>24</td>\n",
              "      <td>0</td>\n",
              "      <td>Generic</td>\n",
              "      <td>1</td>\n",
              "    </tr>\n",
              "    <tr>\n",
              "      <th>175337</th>\n",
              "      <td>175338</td>\n",
              "      <td>0.505762</td>\n",
              "      <td>tcp</td>\n",
              "      <td>-</td>\n",
              "      <td>FIN</td>\n",
              "      <td>10</td>\n",
              "      <td>8</td>\n",
              "      <td>620</td>\n",
              "      <td>354</td>\n",
              "      <td>33.612649</td>\n",
              "      <td>254</td>\n",
              "      <td>252</td>\n",
              "      <td>8.826286e+03</td>\n",
              "      <td>4903.492188</td>\n",
              "      <td>2</td>\n",
              "      <td>1</td>\n",
              "      <td>54.400111</td>\n",
              "      <td>66.980570</td>\n",
              "      <td>3721.068786</td>\n",
              "      <td>120.177727</td>\n",
              "      <td>255</td>\n",
              "      <td>3518776216</td>\n",
              "      <td>3453092386</td>\n",
              "      <td>255</td>\n",
              "      <td>0.099440</td>\n",
              "      <td>0.036895</td>\n",
              "      <td>0.062545</td>\n",
              "      <td>62</td>\n",
              "      <td>44</td>\n",
              "      <td>0</td>\n",
              "      <td>0</td>\n",
              "      <td>1</td>\n",
              "      <td>1</td>\n",
              "      <td>1</td>\n",
              "      <td>1</td>\n",
              "      <td>1</td>\n",
              "      <td>2</td>\n",
              "      <td>0</td>\n",
              "      <td>0</td>\n",
              "      <td>0</td>\n",
              "      <td>1</td>\n",
              "      <td>1</td>\n",
              "      <td>0</td>\n",
              "      <td>Shellcode</td>\n",
              "      <td>1</td>\n",
              "    </tr>\n",
              "    <tr>\n",
              "      <th>175338</th>\n",
              "      <td>175339</td>\n",
              "      <td>0.000009</td>\n",
              "      <td>udp</td>\n",
              "      <td>dns</td>\n",
              "      <td>INT</td>\n",
              "      <td>2</td>\n",
              "      <td>0</td>\n",
              "      <td>114</td>\n",
              "      <td>0</td>\n",
              "      <td>111111.107200</td>\n",
              "      <td>254</td>\n",
              "      <td>0</td>\n",
              "      <td>5.066666e+07</td>\n",
              "      <td>0.000000</td>\n",
              "      <td>0</td>\n",
              "      <td>0</td>\n",
              "      <td>0.009000</td>\n",
              "      <td>0.000000</td>\n",
              "      <td>0.000000</td>\n",
              "      <td>0.000000</td>\n",
              "      <td>0</td>\n",
              "      <td>0</td>\n",
              "      <td>0</td>\n",
              "      <td>0</td>\n",
              "      <td>0.000000</td>\n",
              "      <td>0.000000</td>\n",
              "      <td>0.000000</td>\n",
              "      <td>57</td>\n",
              "      <td>0</td>\n",
              "      <td>0</td>\n",
              "      <td>0</td>\n",
              "      <td>12</td>\n",
              "      <td>2</td>\n",
              "      <td>3</td>\n",
              "      <td>3</td>\n",
              "      <td>3</td>\n",
              "      <td>13</td>\n",
              "      <td>0</td>\n",
              "      <td>0</td>\n",
              "      <td>0</td>\n",
              "      <td>3</td>\n",
              "      <td>12</td>\n",
              "      <td>0</td>\n",
              "      <td>Generic</td>\n",
              "      <td>1</td>\n",
              "    </tr>\n",
              "    <tr>\n",
              "      <th>175339</th>\n",
              "      <td>175340</td>\n",
              "      <td>0.000009</td>\n",
              "      <td>udp</td>\n",
              "      <td>dns</td>\n",
              "      <td>INT</td>\n",
              "      <td>2</td>\n",
              "      <td>0</td>\n",
              "      <td>114</td>\n",
              "      <td>0</td>\n",
              "      <td>111111.107200</td>\n",
              "      <td>254</td>\n",
              "      <td>0</td>\n",
              "      <td>5.066666e+07</td>\n",
              "      <td>0.000000</td>\n",
              "      <td>0</td>\n",
              "      <td>0</td>\n",
              "      <td>0.009000</td>\n",
              "      <td>0.000000</td>\n",
              "      <td>0.000000</td>\n",
              "      <td>0.000000</td>\n",
              "      <td>0</td>\n",
              "      <td>0</td>\n",
              "      <td>0</td>\n",
              "      <td>0</td>\n",
              "      <td>0.000000</td>\n",
              "      <td>0.000000</td>\n",
              "      <td>0.000000</td>\n",
              "      <td>57</td>\n",
              "      <td>0</td>\n",
              "      <td>0</td>\n",
              "      <td>0</td>\n",
              "      <td>30</td>\n",
              "      <td>2</td>\n",
              "      <td>30</td>\n",
              "      <td>30</td>\n",
              "      <td>14</td>\n",
              "      <td>30</td>\n",
              "      <td>0</td>\n",
              "      <td>0</td>\n",
              "      <td>0</td>\n",
              "      <td>30</td>\n",
              "      <td>30</td>\n",
              "      <td>0</td>\n",
              "      <td>Generic</td>\n",
              "      <td>1</td>\n",
              "    </tr>\n",
              "    <tr>\n",
              "      <th>175340</th>\n",
              "      <td>175341</td>\n",
              "      <td>0.000009</td>\n",
              "      <td>udp</td>\n",
              "      <td>dns</td>\n",
              "      <td>INT</td>\n",
              "      <td>2</td>\n",
              "      <td>0</td>\n",
              "      <td>114</td>\n",
              "      <td>0</td>\n",
              "      <td>111111.107200</td>\n",
              "      <td>254</td>\n",
              "      <td>0</td>\n",
              "      <td>5.066666e+07</td>\n",
              "      <td>0.000000</td>\n",
              "      <td>0</td>\n",
              "      <td>0</td>\n",
              "      <td>0.009000</td>\n",
              "      <td>0.000000</td>\n",
              "      <td>0.000000</td>\n",
              "      <td>0.000000</td>\n",
              "      <td>0</td>\n",
              "      <td>0</td>\n",
              "      <td>0</td>\n",
              "      <td>0</td>\n",
              "      <td>0.000000</td>\n",
              "      <td>0.000000</td>\n",
              "      <td>0.000000</td>\n",
              "      <td>57</td>\n",
              "      <td>0</td>\n",
              "      <td>0</td>\n",
              "      <td>0</td>\n",
              "      <td>30</td>\n",
              "      <td>2</td>\n",
              "      <td>30</td>\n",
              "      <td>30</td>\n",
              "      <td>16</td>\n",
              "      <td>30</td>\n",
              "      <td>0</td>\n",
              "      <td>0</td>\n",
              "      <td>0</td>\n",
              "      <td>30</td>\n",
              "      <td>30</td>\n",
              "      <td>0</td>\n",
              "      <td>Generic</td>\n",
              "      <td>1</td>\n",
              "    </tr>\n",
              "  </tbody>\n",
              "</table>\n",
              "<p>175341 rows × 45 columns</p>\n",
              "</div>"
            ],
            "text/plain": [
              "            id       dur proto  ... is_sm_ips_ports attack_cat  label\n",
              "0            1  0.121478   tcp  ...               0     Normal      0\n",
              "1            2  0.649902   tcp  ...               0     Normal      0\n",
              "2            3  1.623129   tcp  ...               0     Normal      0\n",
              "3            4  1.681642   tcp  ...               0     Normal      0\n",
              "4            5  0.449454   tcp  ...               0     Normal      0\n",
              "...        ...       ...   ...  ...             ...        ...    ...\n",
              "175336  175337  0.000009   udp  ...               0    Generic      1\n",
              "175337  175338  0.505762   tcp  ...               0  Shellcode      1\n",
              "175338  175339  0.000009   udp  ...               0    Generic      1\n",
              "175339  175340  0.000009   udp  ...               0    Generic      1\n",
              "175340  175341  0.000009   udp  ...               0    Generic      1\n",
              "\n",
              "[175341 rows x 45 columns]"
            ]
          },
          "metadata": {
            "tags": []
          },
          "execution_count": 3
        }
      ]
    },
    {
      "cell_type": "code",
      "metadata": {
        "colab": {
          "base_uri": "https://localhost:8080/",
          "height": 401
        },
        "id": "TVbdxvEdl9-d",
        "outputId": "83b83917-d2db-4c20-ad55-aad990cf0583"
      },
      "source": [
        "sns.catplot(x=\"attack_cat\",kind=\"count\", data=data, palette=\"dark\",aspect=1.99)"
      ],
      "execution_count": 4,
      "outputs": [
        {
          "output_type": "execute_result",
          "data": {
            "text/plain": [
              "<seaborn.axisgrid.FacetGrid at 0x7fcb508e8b50>"
            ]
          },
          "metadata": {
            "tags": []
          },
          "execution_count": 4
        },
        {
          "output_type": "display_data",
          "data": {
            "image/png": "[encoded data removed]",
            "text/plain": [
              "<Figure size 716.4x360 with 1 Axes>"
            ]
          },
          "metadata": {
            "tags": [],
            "needs_background": "light"
          }
        }
      ]
    },
    {
      "cell_type": "code",
      "metadata": {
        "colab": {
          "base_uri": "https://localhost:8080/",
          "height": 400
        },
        "id": "aRVruJrtpDhi",
        "outputId": "84e6cdb8-0d28-496c-9194-d8c4079e3717"
      },
      "source": [
        "sns.catplot(x=\"label\",kind=\"count\", data=data, palette=\"dark\",aspect=0.99)"
      ],
      "execution_count": 6,
      "outputs": [
        {
          "output_type": "execute_result",
          "data": {
            "text/plain": [
              "<seaborn.axisgrid.FacetGrid at 0x7fcb443e7990>"
            ]
          },
          "metadata": {
            "tags": []
          },
          "execution_count": 6
        },
        {
          "output_type": "display_data",
          "data": {
            "image/png": "[encoded data removed]",
            "text/plain": [
              "<Figure size 356.4x360 with 1 Axes>"
            ]
          },
          "metadata": {
            "tags": [],
            "needs_background": "light"
          }
        }
      ]
    },
    {
      "cell_type": "code",
      "metadata": {
        "colab": {
          "base_uri": "https://localhost:8080/"
        },
        "id": "5Id1HcQJ9pkf",
        "outputId": "d213c3cf-cb95-497d-b8e6-b922b3279d8d"
      },
      "source": [
        "data.drop(data[data['attack_cat']=='Generic'].index, inplace = True)\n",
        "data.drop(data[data['attack_cat']=='Fuzzers'].index, inplace = True)\n",
        "data.drop(data[data['attack_cat']=='DoS'].index, inplace = True)\n",
        "data.drop(data[data['attack_cat']=='Backdoor'].index, inplace = True)\n",
        "data.drop(data[data['attack_cat']=='Shellcode'].index, inplace = True)\n",
        "data.drop(data[data['attack_cat']=='Worms'].index, inplace = True)\n",
        "print(data['attack_cat'].value_counts())"
      ],
      "execution_count": 7,
      "outputs": [
        {
          "output_type": "stream",
          "text": [
            "Normal            56000\n",
            "Exploits          33393\n",
            "Reconnaissance    10491\n",
            "Analysis           2000\n",
            "Name: attack_cat, dtype: int64\n"
          ],
          "name": "stdout"
        }
      ]
    },
    {
      "cell_type": "code",
      "metadata": {
        "colab": {
          "base_uri": "https://localhost:8080/",
          "height": 401
        },
        "id": "fJnj_gHN2t6c",
        "outputId": "06e42969-00b5-4ae8-ecc6-0ad90202c4ee"
      },
      "source": [
        "sns.catplot(x=\"attack_cat\",kind=\"count\", data=data, palette=\"dark\",aspect=.99)"
      ],
      "execution_count": 8,
      "outputs": [
        {
          "output_type": "execute_result",
          "data": {
            "text/plain": [
              "<seaborn.axisgrid.FacetGrid at 0x7fcb47a84d10>"
            ]
          },
          "metadata": {
            "tags": []
          },
          "execution_count": 8
        },
        {
          "output_type": "display_data",
          "data": {
            "image/png": "[encoded data removed]",
            "text/plain": [
              "<Figure size 356.4x360 with 1 Axes>"
            ]
          },
          "metadata": {
            "tags": [],
            "needs_background": "light"
          }
        }
      ]
    },
    {
      "cell_type": "code",
      "metadata": {
        "colab": {
          "base_uri": "https://localhost:8080/",
          "height": 400
        },
        "id": "FG7w-QHLpTt4",
        "outputId": "c1f56bab-7795-4851-8fcd-8e24676f3169"
      },
      "source": [
        "sns.catplot(x=\"label\",kind=\"count\", data=data, palette=\"dark\",aspect=.99)"
      ],
      "execution_count": 9,
      "outputs": [
        {
          "output_type": "execute_result",
          "data": {
            "text/plain": [
              "<seaborn.axisgrid.FacetGrid at 0x7fcb47a8efd0>"
            ]
          },
          "metadata": {
            "tags": []
          },
          "execution_count": 9
        },
        {
          "output_type": "display_data",
          "data": {
            "image/png": "[encoded data removed]",
            "text/plain": [
              "<Figure size 356.4x360 with 1 Axes>"
            ]
          },
          "metadata": {
            "tags": [],
            "needs_background": "light"
          }
        }
      ]
    },
    {
      "cell_type": "code",
      "metadata": {
        "colab": {
          "base_uri": "https://localhost:8080/"
        },
        "id": "DTWjwO6EoSYg",
        "outputId": "753e3125-b7aa-4bb7-b338-87ac6725328c"
      },
      "source": [
        "data.isnull().sum()"
      ],
      "execution_count": 10,
      "outputs": [
        {
          "output_type": "execute_result",
          "data": {
            "text/plain": [
              "id                   0\n",
              "dur                  0\n",
              "proto                0\n",
              "service              0\n",
              "state                0\n",
              "spkts                0\n",
              "dpkts                0\n",
              "sbytes               0\n",
              "dbytes               0\n",
              "rate                 0\n",
              "sttl                 0\n",
              "dttl                 0\n",
              "sload                0\n",
              "dload                0\n",
              "sloss                0\n",
              "dloss                0\n",
              "sinpkt               0\n",
              "dinpkt               0\n",
              "sjit                 0\n",
              "djit                 0\n",
              "swin                 0\n",
              "stcpb                0\n",
              "dtcpb                0\n",
              "dwin                 0\n",
              "tcprtt               0\n",
              "synack               0\n",
              "ackdat               0\n",
              "smean                0\n",
              "dmean                0\n",
              "trans_depth          0\n",
              "response_body_len    0\n",
              "ct_srv_src           0\n",
              "ct_state_ttl         0\n",
              "ct_dst_ltm           0\n",
              "ct_src_dport_ltm     0\n",
              "ct_dst_sport_ltm     0\n",
              "ct_dst_src_ltm       0\n",
              "is_ftp_login         0\n",
              "ct_ftp_cmd           0\n",
              "ct_flw_http_mthd     0\n",
              "ct_src_ltm           0\n",
              "ct_srv_dst           0\n",
              "is_sm_ips_ports      0\n",
              "attack_cat           0\n",
              "label                0\n",
              "dtype: int64"
            ]
          },
          "metadata": {
            "tags": []
          },
          "execution_count": 10
        }
      ]
    },
    {
      "cell_type": "code",
      "metadata": {
        "colab": {
          "base_uri": "https://localhost:8080/"
        },
        "id": "fKtZw4dgGduX",
        "outputId": "4dc93ed0-a1a6-470a-f047-ca55813a1b43"
      },
      "source": [
        "\n",
        "data.info()"
      ],
      "execution_count": 11,
      "outputs": [
        {
          "output_type": "stream",
          "text": [
            "<class 'pandas.core.frame.DataFrame'>\n",
            "Int64Index: 101884 entries, 0 to 175305\n",
            "Data columns (total 45 columns):\n",
            " #   Column             Non-Null Count   Dtype  \n",
            "---  ------             --------------   -----  \n",
            " 0   id                 101884 non-null  int64  \n",
            " 1   dur                101884 non-null  float64\n",
            " 2   proto              101884 non-null  object \n",
            " 3   service            101884 non-null  object \n",
            " 4   state              101884 non-null  object \n",
            " 5   spkts              101884 non-null  int64  \n",
            " 6   dpkts              101884 non-null  int64  \n",
            " 7   sbytes             101884 non-null  int64  \n",
            " 8   dbytes             101884 non-null  int64  \n",
            " 9   rate               101884 non-null  float64\n",
            " 10  sttl               101884 non-null  int64  \n",
            " 11  dttl               101884 non-null  int64  \n",
            " 12  sload              101884 non-null  float64\n",
            " 13  dload              101884 non-null  float64\n",
            " 14  sloss              101884 non-null  int64  \n",
            " 15  dloss              101884 non-null  int64  \n",
            " 16  sinpkt             101884 non-null  float64\n",
            " 17  dinpkt             101884 non-null  float64\n",
            " 18  sjit               101884 non-null  float64\n",
            " 19  djit               101884 non-null  float64\n",
            " 20  swin               101884 non-null  int64  \n",
            " 21  stcpb              101884 non-null  int64  \n",
            " 22  dtcpb              101884 non-null  int64  \n",
            " 23  dwin               101884 non-null  int64  \n",
            " 24  tcprtt             101884 non-null  float64\n",
            " 25  synack             101884 non-null  float64\n",
            " 26  ackdat             101884 non-null  float64\n",
            " 27  smean              101884 non-null  int64  \n",
            " 28  dmean              101884 non-null  int64  \n",
            " 29  trans_depth        101884 non-null  int64  \n",
            " 30  response_body_len  101884 non-null  int64  \n",
            " 31  ct_srv_src         101884 non-null  int64  \n",
            " 32  ct_state_ttl       101884 non-null  int64  \n",
            " 33  ct_dst_ltm         101884 non-null  int64  \n",
            " 34  ct_src_dport_ltm   101884 non-null  int64  \n",
            " 35  ct_dst_sport_ltm   101884 non-null  int64  \n",
            " 36  ct_dst_src_ltm     101884 non-null  int64  \n",
            " 37  is_ftp_login       101884 non-null  int64  \n",
            " 38  ct_ftp_cmd         101884 non-null  int64  \n",
            " 39  ct_flw_http_mthd   101884 non-null  int64  \n",
            " 40  ct_src_ltm         101884 non-null  int64  \n",
            " 41  ct_srv_dst         101884 non-null  int64  \n",
            " 42  is_sm_ips_ports    101884 non-null  int64  \n",
            " 43  attack_cat         101884 non-null  object \n",
            " 44  label              101884 non-null  int64  \n",
            "dtypes: float64(11), int64(30), object(4)\n",
            "memory usage: 40.8+ MB\n"
          ],
          "name": "stdout"
        }
      ]
    },
    {
      "cell_type": "code",
      "metadata": {
        "colab": {
          "base_uri": "https://localhost:8080/"
        },
        "id": "eexOtRBlehjJ",
        "outputId": "81df5de7-f5b2-4979-9abc-25f9f0a1b1c1"
      },
      "source": [
        "print(data['service'].value_counts())\n",
        "print(data['proto'].value_counts())\n",
        "print(data['state'].value_counts())"
      ],
      "execution_count": 13,
      "outputs": [
        {
          "output_type": "stream",
          "text": [
            "-           63942\n",
            "http        16186\n",
            "dns          7713\n",
            "smtp         4703\n",
            "ftp-data     3987\n",
            "ftp          2833\n",
            "ssh          1301\n",
            "pop3         1043\n",
            "snmp           66\n",
            "dhcp           52\n",
            "ssl            39\n",
            "irc            10\n",
            "radius          9\n",
            "Name: service, dtype: int64\n",
            "tcp      64474\n",
            "udp      18132\n",
            "unas      6700\n",
            "arp       2859\n",
            "ospf      1551\n",
            "         ...  \n",
            "crudp       55\n",
            "vrrp        55\n",
            "igmp        18\n",
            "icmp        15\n",
            "rtp          1\n",
            "Name: proto, Length: 133, dtype: int64\n",
            "FIN    62425\n",
            "INT    25253\n",
            "CON    12749\n",
            "REQ     1362\n",
            "RST       80\n",
            "ECO       12\n",
            "PAR        1\n",
            "URN        1\n",
            "no         1\n",
            "Name: state, dtype: int64\n"
          ],
          "name": "stdout"
        }
      ]
    },
    {
      "cell_type": "code",
      "metadata": {
        "id": "kCdeC0Q4Er1_"
      },
      "source": [
        "\n",
        "data=data.drop(['service'],axis=1)\n",
        "data=data.drop(['id'],axis=1)"
      ],
      "execution_count": 14,
      "outputs": []
    },
    {
      "cell_type": "code",
      "metadata": {
        "id": "TlfuvqI3GTsM",
        "colab": {
          "base_uri": "https://localhost:8080/"
        },
        "outputId": "261a40b8-19f3-4e66-d184-685e7e5dded1"
      },
      "source": [
        "from sklearn import preprocessing\n",
        "le=preprocessing.LabelEncoder()\n",
        "data['proto'] = le.fit_transform(data['proto'])\n",
        "data['state'] = le.fit_transform(data['state'])\n",
        "data.replace({'attack_cat':{'Normal':0,'Exploits':1,'Reconnaissance':2,'Analysis':3}},inplace=True)\n",
        "print(data['attack_cat'].value_counts())"
      ],
      "execution_count": 15,
      "outputs": [
        {
          "output_type": "stream",
          "text": [
            "0    56000\n",
            "1    33393\n",
            "2    10491\n",
            "3     2000\n",
            "Name: attack_cat, dtype: int64\n"
          ],
          "name": "stdout"
        }
      ]
    },
    {
      "cell_type": "code",
      "metadata": {
        "id": "g1ct9xfCHOYF"
      },
      "source": [
        "data = data.apply(pd.to_numeric)"
      ],
      "execution_count": 16,
      "outputs": []
    },
    {
      "cell_type": "code",
      "metadata": {
        "colab": {
          "base_uri": "https://localhost:8080/"
        },
        "id": "oQNnKWXWDvqu",
        "outputId": "23fe3d0f-873f-4559-aeea-abdc7517b7a9"
      },
      "source": [
        "data.info()"
      ],
      "execution_count": 17,
      "outputs": [
        {
          "output_type": "stream",
          "text": [
            "<class 'pandas.core.frame.DataFrame'>\n",
            "Int64Index: 101884 entries, 0 to 175305\n",
            "Data columns (total 43 columns):\n",
            " #   Column             Non-Null Count   Dtype  \n",
            "---  ------             --------------   -----  \n",
            " 0   dur                101884 non-null  float64\n",
            " 1   proto              101884 non-null  int64  \n",
            " 2   state              101884 non-null  int64  \n",
            " 3   spkts              101884 non-null  int64  \n",
            " 4   dpkts              101884 non-null  int64  \n",
            " 5   sbytes             101884 non-null  int64  \n",
            " 6   dbytes             101884 non-null  int64  \n",
            " 7   rate               101884 non-null  float64\n",
            " 8   sttl               101884 non-null  int64  \n",
            " 9   dttl               101884 non-null  int64  \n",
            " 10  sload              101884 non-null  float64\n",
            " 11  dload              101884 non-null  float64\n",
            " 12  sloss              101884 non-null  int64  \n",
            " 13  dloss              101884 non-null  int64  \n",
            " 14  sinpkt             101884 non-null  float64\n",
            " 15  dinpkt             101884 non-null  float64\n",
            " 16  sjit               101884 non-null  float64\n",
            " 17  djit               101884 non-null  float64\n",
            " 18  swin               101884 non-null  int64  \n",
            " 19  stcpb              101884 non-null  int64  \n",
            " 20  dtcpb              101884 non-null  int64  \n",
            " 21  dwin               101884 non-null  int64  \n",
            " 22  tcprtt             101884 non-null  float64\n",
            " 23  synack             101884 non-null  float64\n",
            " 24  ackdat             101884 non-null  float64\n",
            " 25  smean              101884 non-null  int64  \n",
            " 26  dmean              101884 non-null  int64  \n",
            " 27  trans_depth        101884 non-null  int64  \n",
            " 28  response_body_len  101884 non-null  int64  \n",
            " 29  ct_srv_src         101884 non-null  int64  \n",
            " 30  ct_state_ttl       101884 non-null  int64  \n",
            " 31  ct_dst_ltm         101884 non-null  int64  \n",
            " 32  ct_src_dport_ltm   101884 non-null  int64  \n",
            " 33  ct_dst_sport_ltm   101884 non-null  int64  \n",
            " 34  ct_dst_src_ltm     101884 non-null  int64  \n",
            " 35  is_ftp_login       101884 non-null  int64  \n",
            " 36  ct_ftp_cmd         101884 non-null  int64  \n",
            " 37  ct_flw_http_mthd   101884 non-null  int64  \n",
            " 38  ct_src_ltm         101884 non-null  int64  \n",
            " 39  ct_srv_dst         101884 non-null  int64  \n",
            " 40  is_sm_ips_ports    101884 non-null  int64  \n",
            " 41  attack_cat         101884 non-null  int64  \n",
            " 42  label              101884 non-null  int64  \n",
            "dtypes: float64(11), int64(32)\n",
            "memory usage: 39.2 MB\n"
          ],
          "name": "stdout"
        }
      ]
    },
    {
      "cell_type": "code",
      "metadata": {
        "colab": {
          "base_uri": "https://localhost:8080/",
          "height": 435
        },
        "id": "_BG1qhTNHW6s",
        "outputId": "77ef18c3-7aaf-4e4d-e7c0-41ece80c0beb"
      },
      "source": [
        "data.round(decimals=2)\n",
        "data = data.astype(int)\n",
        "data"
      ],
      "execution_count": 18,
      "outputs": [
        {
          "output_type": "execute_result",
          "data": {
            "text/html": [
              "<div>\n",
              "<style scoped>\n",
              "    .dataframe tbody tr th:only-of-type {\n",
              "        vertical-align: middle;\n",
              "    }\n",
              "\n",
              "    .dataframe tbody tr th {\n",
              "        vertical-align: top;\n",
              "    }\n",
              "\n",
              "    .dataframe thead th {\n",
              "        text-align: right;\n",
              "    }\n",
              "</style>\n",
              "<table border=\"1\" class=\"dataframe\">\n",
              "  <thead>\n",
              "    <tr style=\"text-align: right;\">\n",
              "      <th></th>\n",
              "      <th>dur</th>\n",
              "      <th>proto</th>\n",
              "      <th>state</th>\n",
              "      <th>spkts</th>\n",
              "      <th>dpkts</th>\n",
              "      <th>sbytes</th>\n",
              "      <th>dbytes</th>\n",
              "      <th>rate</th>\n",
              "      <th>sttl</th>\n",
              "      <th>dttl</th>\n",
              "      <th>sload</th>\n",
              "      <th>dload</th>\n",
              "      <th>sloss</th>\n",
              "      <th>dloss</th>\n",
              "      <th>sinpkt</th>\n",
              "      <th>dinpkt</th>\n",
              "      <th>sjit</th>\n",
              "      <th>djit</th>\n",
              "      <th>swin</th>\n",
              "      <th>stcpb</th>\n",
              "      <th>dtcpb</th>\n",
              "      <th>dwin</th>\n",
              "      <th>tcprtt</th>\n",
              "      <th>synack</th>\n",
              "      <th>ackdat</th>\n",
              "      <th>smean</th>\n",
              "      <th>dmean</th>\n",
              "      <th>trans_depth</th>\n",
              "      <th>response_body_len</th>\n",
              "      <th>ct_srv_src</th>\n",
              "      <th>ct_state_ttl</th>\n",
              "      <th>ct_dst_ltm</th>\n",
              "      <th>ct_src_dport_ltm</th>\n",
              "      <th>ct_dst_sport_ltm</th>\n",
              "      <th>ct_dst_src_ltm</th>\n",
              "      <th>is_ftp_login</th>\n",
              "      <th>ct_ftp_cmd</th>\n",
              "      <th>ct_flw_http_mthd</th>\n",
              "      <th>ct_src_ltm</th>\n",
              "      <th>ct_srv_dst</th>\n",
              "      <th>is_sm_ips_ports</th>\n",
              "      <th>attack_cat</th>\n",
              "      <th>label</th>\n",
              "    </tr>\n",
              "  </thead>\n",
              "  <tbody>\n",
              "    <tr>\n",
              "      <th>0</th>\n",
              "      <td>0</td>\n",
              "      <td>113</td>\n",
              "      <td>2</td>\n",
              "      <td>6</td>\n",
              "      <td>4</td>\n",
              "      <td>258</td>\n",
              "      <td>172</td>\n",
              "      <td>74</td>\n",
              "      <td>252</td>\n",
              "      <td>254</td>\n",
              "      <td>14158</td>\n",
              "      <td>8495</td>\n",
              "      <td>0</td>\n",
              "      <td>0</td>\n",
              "      <td>24</td>\n",
              "      <td>8</td>\n",
              "      <td>30</td>\n",
              "      <td>11</td>\n",
              "      <td>255</td>\n",
              "      <td>621772692</td>\n",
              "      <td>2202533631</td>\n",
              "      <td>255</td>\n",
              "      <td>0</td>\n",
              "      <td>0</td>\n",
              "      <td>0</td>\n",
              "      <td>43</td>\n",
              "      <td>43</td>\n",
              "      <td>0</td>\n",
              "      <td>0</td>\n",
              "      <td>1</td>\n",
              "      <td>0</td>\n",
              "      <td>1</td>\n",
              "      <td>1</td>\n",
              "      <td>1</td>\n",
              "      <td>1</td>\n",
              "      <td>0</td>\n",
              "      <td>0</td>\n",
              "      <td>0</td>\n",
              "      <td>1</td>\n",
              "      <td>1</td>\n",
              "      <td>0</td>\n",
              "      <td>0</td>\n",
              "      <td>0</td>\n",
              "    </tr>\n",
              "    <tr>\n",
              "      <th>1</th>\n",
              "      <td>0</td>\n",
              "      <td>113</td>\n",
              "      <td>2</td>\n",
              "      <td>14</td>\n",
              "      <td>38</td>\n",
              "      <td>734</td>\n",
              "      <td>42014</td>\n",
              "      <td>78</td>\n",
              "      <td>62</td>\n",
              "      <td>252</td>\n",
              "      <td>8395</td>\n",
              "      <td>503571</td>\n",
              "      <td>2</td>\n",
              "      <td>17</td>\n",
              "      <td>49</td>\n",
              "      <td>15</td>\n",
              "      <td>61</td>\n",
              "      <td>1387</td>\n",
              "      <td>255</td>\n",
              "      <td>1417884146</td>\n",
              "      <td>3077387971</td>\n",
              "      <td>255</td>\n",
              "      <td>0</td>\n",
              "      <td>0</td>\n",
              "      <td>0</td>\n",
              "      <td>52</td>\n",
              "      <td>1106</td>\n",
              "      <td>0</td>\n",
              "      <td>0</td>\n",
              "      <td>43</td>\n",
              "      <td>1</td>\n",
              "      <td>1</td>\n",
              "      <td>1</td>\n",
              "      <td>1</td>\n",
              "      <td>2</td>\n",
              "      <td>0</td>\n",
              "      <td>0</td>\n",
              "      <td>0</td>\n",
              "      <td>1</td>\n",
              "      <td>6</td>\n",
              "      <td>0</td>\n",
              "      <td>0</td>\n",
              "      <td>0</td>\n",
              "    </tr>\n",
              "    <tr>\n",
              "      <th>2</th>\n",
              "      <td>1</td>\n",
              "      <td>113</td>\n",
              "      <td>2</td>\n",
              "      <td>8</td>\n",
              "      <td>16</td>\n",
              "      <td>364</td>\n",
              "      <td>13186</td>\n",
              "      <td>14</td>\n",
              "      <td>62</td>\n",
              "      <td>252</td>\n",
              "      <td>1572</td>\n",
              "      <td>60929</td>\n",
              "      <td>1</td>\n",
              "      <td>6</td>\n",
              "      <td>231</td>\n",
              "      <td>102</td>\n",
              "      <td>17179</td>\n",
              "      <td>11420</td>\n",
              "      <td>255</td>\n",
              "      <td>2116150707</td>\n",
              "      <td>2963114973</td>\n",
              "      <td>255</td>\n",
              "      <td>0</td>\n",
              "      <td>0</td>\n",
              "      <td>0</td>\n",
              "      <td>46</td>\n",
              "      <td>824</td>\n",
              "      <td>0</td>\n",
              "      <td>0</td>\n",
              "      <td>7</td>\n",
              "      <td>1</td>\n",
              "      <td>2</td>\n",
              "      <td>1</td>\n",
              "      <td>1</td>\n",
              "      <td>3</td>\n",
              "      <td>0</td>\n",
              "      <td>0</td>\n",
              "      <td>0</td>\n",
              "      <td>2</td>\n",
              "      <td>6</td>\n",
              "      <td>0</td>\n",
              "      <td>0</td>\n",
              "      <td>0</td>\n",
              "    </tr>\n",
              "    <tr>\n",
              "      <th>3</th>\n",
              "      <td>1</td>\n",
              "      <td>113</td>\n",
              "      <td>2</td>\n",
              "      <td>12</td>\n",
              "      <td>12</td>\n",
              "      <td>628</td>\n",
              "      <td>770</td>\n",
              "      <td>13</td>\n",
              "      <td>62</td>\n",
              "      <td>252</td>\n",
              "      <td>2740</td>\n",
              "      <td>3358</td>\n",
              "      <td>1</td>\n",
              "      <td>3</td>\n",
              "      <td>152</td>\n",
              "      <td>90</td>\n",
              "      <td>259</td>\n",
              "      <td>4991</td>\n",
              "      <td>255</td>\n",
              "      <td>1107119177</td>\n",
              "      <td>1047442890</td>\n",
              "      <td>255</td>\n",
              "      <td>0</td>\n",
              "      <td>0</td>\n",
              "      <td>0</td>\n",
              "      <td>52</td>\n",
              "      <td>64</td>\n",
              "      <td>0</td>\n",
              "      <td>0</td>\n",
              "      <td>1</td>\n",
              "      <td>1</td>\n",
              "      <td>2</td>\n",
              "      <td>1</td>\n",
              "      <td>1</td>\n",
              "      <td>3</td>\n",
              "      <td>1</td>\n",
              "      <td>1</td>\n",
              "      <td>0</td>\n",
              "      <td>2</td>\n",
              "      <td>1</td>\n",
              "      <td>0</td>\n",
              "      <td>0</td>\n",
              "      <td>0</td>\n",
              "    </tr>\n",
              "    <tr>\n",
              "      <th>4</th>\n",
              "      <td>0</td>\n",
              "      <td>113</td>\n",
              "      <td>2</td>\n",
              "      <td>10</td>\n",
              "      <td>6</td>\n",
              "      <td>534</td>\n",
              "      <td>268</td>\n",
              "      <td>33</td>\n",
              "      <td>254</td>\n",
              "      <td>252</td>\n",
              "      <td>8561</td>\n",
              "      <td>3987</td>\n",
              "      <td>2</td>\n",
              "      <td>1</td>\n",
              "      <td>47</td>\n",
              "      <td>75</td>\n",
              "      <td>2415</td>\n",
              "      <td>115</td>\n",
              "      <td>255</td>\n",
              "      <td>2436137549</td>\n",
              "      <td>1977154190</td>\n",
              "      <td>255</td>\n",
              "      <td>0</td>\n",
              "      <td>0</td>\n",
              "      <td>0</td>\n",
              "      <td>53</td>\n",
              "      <td>45</td>\n",
              "      <td>0</td>\n",
              "      <td>0</td>\n",
              "      <td>43</td>\n",
              "      <td>1</td>\n",
              "      <td>2</td>\n",
              "      <td>2</td>\n",
              "      <td>1</td>\n",
              "      <td>40</td>\n",
              "      <td>0</td>\n",
              "      <td>0</td>\n",
              "      <td>0</td>\n",
              "      <td>2</td>\n",
              "      <td>39</td>\n",
              "      <td>0</td>\n",
              "      <td>0</td>\n",
              "      <td>0</td>\n",
              "    </tr>\n",
              "    <tr>\n",
              "      <th>...</th>\n",
              "      <td>...</td>\n",
              "      <td>...</td>\n",
              "      <td>...</td>\n",
              "      <td>...</td>\n",
              "      <td>...</td>\n",
              "      <td>...</td>\n",
              "      <td>...</td>\n",
              "      <td>...</td>\n",
              "      <td>...</td>\n",
              "      <td>...</td>\n",
              "      <td>...</td>\n",
              "      <td>...</td>\n",
              "      <td>...</td>\n",
              "      <td>...</td>\n",
              "      <td>...</td>\n",
              "      <td>...</td>\n",
              "      <td>...</td>\n",
              "      <td>...</td>\n",
              "      <td>...</td>\n",
              "      <td>...</td>\n",
              "      <td>...</td>\n",
              "      <td>...</td>\n",
              "      <td>...</td>\n",
              "      <td>...</td>\n",
              "      <td>...</td>\n",
              "      <td>...</td>\n",
              "      <td>...</td>\n",
              "      <td>...</td>\n",
              "      <td>...</td>\n",
              "      <td>...</td>\n",
              "      <td>...</td>\n",
              "      <td>...</td>\n",
              "      <td>...</td>\n",
              "      <td>...</td>\n",
              "      <td>...</td>\n",
              "      <td>...</td>\n",
              "      <td>...</td>\n",
              "      <td>...</td>\n",
              "      <td>...</td>\n",
              "      <td>...</td>\n",
              "      <td>...</td>\n",
              "      <td>...</td>\n",
              "      <td>...</td>\n",
              "    </tr>\n",
              "    <tr>\n",
              "      <th>175214</th>\n",
              "      <td>0</td>\n",
              "      <td>113</td>\n",
              "      <td>2</td>\n",
              "      <td>22</td>\n",
              "      <td>56</td>\n",
              "      <td>2424</td>\n",
              "      <td>68382</td>\n",
              "      <td>77</td>\n",
              "      <td>62</td>\n",
              "      <td>252</td>\n",
              "      <td>18717</td>\n",
              "      <td>543250</td>\n",
              "      <td>6</td>\n",
              "      <td>26</td>\n",
              "      <td>47</td>\n",
              "      <td>17</td>\n",
              "      <td>2347</td>\n",
              "      <td>1589</td>\n",
              "      <td>255</td>\n",
              "      <td>3903615664</td>\n",
              "      <td>3345025299</td>\n",
              "      <td>255</td>\n",
              "      <td>0</td>\n",
              "      <td>0</td>\n",
              "      <td>0</td>\n",
              "      <td>110</td>\n",
              "      <td>1221</td>\n",
              "      <td>1</td>\n",
              "      <td>109</td>\n",
              "      <td>1</td>\n",
              "      <td>1</td>\n",
              "      <td>1</td>\n",
              "      <td>1</td>\n",
              "      <td>1</td>\n",
              "      <td>1</td>\n",
              "      <td>0</td>\n",
              "      <td>0</td>\n",
              "      <td>1</td>\n",
              "      <td>21</td>\n",
              "      <td>1</td>\n",
              "      <td>0</td>\n",
              "      <td>1</td>\n",
              "      <td>1</td>\n",
              "    </tr>\n",
              "    <tr>\n",
              "      <th>175267</th>\n",
              "      <td>1</td>\n",
              "      <td>113</td>\n",
              "      <td>2</td>\n",
              "      <td>74</td>\n",
              "      <td>30</td>\n",
              "      <td>69997</td>\n",
              "      <td>2132</td>\n",
              "      <td>53</td>\n",
              "      <td>62</td>\n",
              "      <td>252</td>\n",
              "      <td>288572</td>\n",
              "      <td>8613</td>\n",
              "      <td>33</td>\n",
              "      <td>8</td>\n",
              "      <td>26</td>\n",
              "      <td>65</td>\n",
              "      <td>2412</td>\n",
              "      <td>90</td>\n",
              "      <td>255</td>\n",
              "      <td>556303757</td>\n",
              "      <td>246088519</td>\n",
              "      <td>255</td>\n",
              "      <td>0</td>\n",
              "      <td>0</td>\n",
              "      <td>0</td>\n",
              "      <td>946</td>\n",
              "      <td>71</td>\n",
              "      <td>0</td>\n",
              "      <td>0</td>\n",
              "      <td>1</td>\n",
              "      <td>1</td>\n",
              "      <td>1</td>\n",
              "      <td>1</td>\n",
              "      <td>1</td>\n",
              "      <td>1</td>\n",
              "      <td>0</td>\n",
              "      <td>0</td>\n",
              "      <td>0</td>\n",
              "      <td>18</td>\n",
              "      <td>1</td>\n",
              "      <td>0</td>\n",
              "      <td>1</td>\n",
              "      <td>1</td>\n",
              "    </tr>\n",
              "    <tr>\n",
              "      <th>175277</th>\n",
              "      <td>3</td>\n",
              "      <td>113</td>\n",
              "      <td>2</td>\n",
              "      <td>66</td>\n",
              "      <td>340</td>\n",
              "      <td>3086</td>\n",
              "      <td>426483</td>\n",
              "      <td>108</td>\n",
              "      <td>62</td>\n",
              "      <td>252</td>\n",
              "      <td>6539</td>\n",
              "      <td>914689</td>\n",
              "      <td>6</td>\n",
              "      <td>167</td>\n",
              "      <td>57</td>\n",
              "      <td>10</td>\n",
              "      <td>3358</td>\n",
              "      <td>1585</td>\n",
              "      <td>255</td>\n",
              "      <td>3046870123</td>\n",
              "      <td>1723342386</td>\n",
              "      <td>255</td>\n",
              "      <td>0</td>\n",
              "      <td>0</td>\n",
              "      <td>0</td>\n",
              "      <td>47</td>\n",
              "      <td>1254</td>\n",
              "      <td>0</td>\n",
              "      <td>0</td>\n",
              "      <td>1</td>\n",
              "      <td>1</td>\n",
              "      <td>1</td>\n",
              "      <td>1</td>\n",
              "      <td>1</td>\n",
              "      <td>1</td>\n",
              "      <td>0</td>\n",
              "      <td>0</td>\n",
              "      <td>0</td>\n",
              "      <td>2</td>\n",
              "      <td>1</td>\n",
              "      <td>0</td>\n",
              "      <td>1</td>\n",
              "      <td>1</td>\n",
              "    </tr>\n",
              "    <tr>\n",
              "      <th>175299</th>\n",
              "      <td>0</td>\n",
              "      <td>113</td>\n",
              "      <td>2</td>\n",
              "      <td>20</td>\n",
              "      <td>30</td>\n",
              "      <td>942</td>\n",
              "      <td>16684</td>\n",
              "      <td>49</td>\n",
              "      <td>62</td>\n",
              "      <td>252</td>\n",
              "      <td>7185</td>\n",
              "      <td>129476</td>\n",
              "      <td>7</td>\n",
              "      <td>13</td>\n",
              "      <td>52</td>\n",
              "      <td>33</td>\n",
              "      <td>3005</td>\n",
              "      <td>2479</td>\n",
              "      <td>255</td>\n",
              "      <td>5604755</td>\n",
              "      <td>575257391</td>\n",
              "      <td>255</td>\n",
              "      <td>0</td>\n",
              "      <td>0</td>\n",
              "      <td>0</td>\n",
              "      <td>47</td>\n",
              "      <td>556</td>\n",
              "      <td>0</td>\n",
              "      <td>0</td>\n",
              "      <td>1</td>\n",
              "      <td>1</td>\n",
              "      <td>1</td>\n",
              "      <td>1</td>\n",
              "      <td>1</td>\n",
              "      <td>1</td>\n",
              "      <td>0</td>\n",
              "      <td>0</td>\n",
              "      <td>0</td>\n",
              "      <td>7</td>\n",
              "      <td>1</td>\n",
              "      <td>0</td>\n",
              "      <td>1</td>\n",
              "      <td>1</td>\n",
              "    </tr>\n",
              "    <tr>\n",
              "      <th>175305</th>\n",
              "      <td>1</td>\n",
              "      <td>113</td>\n",
              "      <td>2</td>\n",
              "      <td>28</td>\n",
              "      <td>22</td>\n",
              "      <td>12601</td>\n",
              "      <td>1954</td>\n",
              "      <td>31</td>\n",
              "      <td>62</td>\n",
              "      <td>252</td>\n",
              "      <td>62427</td>\n",
              "      <td>9586</td>\n",
              "      <td>11</td>\n",
              "      <td>8</td>\n",
              "      <td>57</td>\n",
              "      <td>73</td>\n",
              "      <td>3661</td>\n",
              "      <td>112</td>\n",
              "      <td>255</td>\n",
              "      <td>1932059121</td>\n",
              "      <td>2472223109</td>\n",
              "      <td>255</td>\n",
              "      <td>0</td>\n",
              "      <td>0</td>\n",
              "      <td>0</td>\n",
              "      <td>450</td>\n",
              "      <td>89</td>\n",
              "      <td>0</td>\n",
              "      <td>0</td>\n",
              "      <td>1</td>\n",
              "      <td>1</td>\n",
              "      <td>2</td>\n",
              "      <td>1</td>\n",
              "      <td>1</td>\n",
              "      <td>2</td>\n",
              "      <td>0</td>\n",
              "      <td>0</td>\n",
              "      <td>0</td>\n",
              "      <td>2</td>\n",
              "      <td>1</td>\n",
              "      <td>0</td>\n",
              "      <td>1</td>\n",
              "      <td>1</td>\n",
              "    </tr>\n",
              "  </tbody>\n",
              "</table>\n",
              "<p>101884 rows × 43 columns</p>\n",
              "</div>"
            ],
            "text/plain": [
              "        dur  proto  state  ...  is_sm_ips_ports  attack_cat  label\n",
              "0         0    113      2  ...                0           0      0\n",
              "1         0    113      2  ...                0           0      0\n",
              "2         1    113      2  ...                0           0      0\n",
              "3         1    113      2  ...                0           0      0\n",
              "4         0    113      2  ...                0           0      0\n",
              "...     ...    ...    ...  ...              ...         ...    ...\n",
              "175214    0    113      2  ...                0           1      1\n",
              "175267    1    113      2  ...                0           1      1\n",
              "175277    3    113      2  ...                0           1      1\n",
              "175299    0    113      2  ...                0           1      1\n",
              "175305    1    113      2  ...                0           1      1\n",
              "\n",
              "[101884 rows x 43 columns]"
            ]
          },
          "metadata": {
            "tags": []
          },
          "execution_count": 18
        }
      ]
    },
    {
      "cell_type": "code",
      "metadata": {
        "colab": {
          "base_uri": "https://localhost:8080/"
        },
        "id": "0kn_199WFORh",
        "outputId": "64e48926-fc66-4dbf-b8b3-180b63db5f7f"
      },
      "source": [
        "data.info()"
      ],
      "execution_count": 19,
      "outputs": [
        {
          "output_type": "stream",
          "text": [
            "<class 'pandas.core.frame.DataFrame'>\n",
            "Int64Index: 101884 entries, 0 to 175305\n",
            "Data columns (total 43 columns):\n",
            " #   Column             Non-Null Count   Dtype\n",
            "---  ------             --------------   -----\n",
            " 0   dur                101884 non-null  int64\n",
            " 1   proto              101884 non-null  int64\n",
            " 2   state              101884 non-null  int64\n",
            " 3   spkts              101884 non-null  int64\n",
            " 4   dpkts              101884 non-null  int64\n",
            " 5   sbytes             101884 non-null  int64\n",
            " 6   dbytes             101884 non-null  int64\n",
            " 7   rate               101884 non-null  int64\n",
            " 8   sttl               101884 non-null  int64\n",
            " 9   dttl               101884 non-null  int64\n",
            " 10  sload              101884 non-null  int64\n",
            " 11  dload              101884 non-null  int64\n",
            " 12  sloss              101884 non-null  int64\n",
            " 13  dloss              101884 non-null  int64\n",
            " 14  sinpkt             101884 non-null  int64\n",
            " 15  dinpkt             101884 non-null  int64\n",
            " 16  sjit               101884 non-null  int64\n",
            " 17  djit               101884 non-null  int64\n",
            " 18  swin               101884 non-null  int64\n",
            " 19  stcpb              101884 non-null  int64\n",
            " 20  dtcpb              101884 non-null  int64\n",
            " 21  dwin               101884 non-null  int64\n",
            " 22  tcprtt             101884 non-null  int64\n",
            " 23  synack             101884 non-null  int64\n",
            " 24  ackdat             101884 non-null  int64\n",
            " 25  smean              101884 non-null  int64\n",
            " 26  dmean              101884 non-null  int64\n",
            " 27  trans_depth        101884 non-null  int64\n",
            " 28  response_body_len  101884 non-null  int64\n",
            " 29  ct_srv_src         101884 non-null  int64\n",
            " 30  ct_state_ttl       101884 non-null  int64\n",
            " 31  ct_dst_ltm         101884 non-null  int64\n",
            " 32  ct_src_dport_ltm   101884 non-null  int64\n",
            " 33  ct_dst_sport_ltm   101884 non-null  int64\n",
            " 34  ct_dst_src_ltm     101884 non-null  int64\n",
            " 35  is_ftp_login       101884 non-null  int64\n",
            " 36  ct_ftp_cmd         101884 non-null  int64\n",
            " 37  ct_flw_http_mthd   101884 non-null  int64\n",
            " 38  ct_src_ltm         101884 non-null  int64\n",
            " 39  ct_srv_dst         101884 non-null  int64\n",
            " 40  is_sm_ips_ports    101884 non-null  int64\n",
            " 41  attack_cat         101884 non-null  int64\n",
            " 42  label              101884 non-null  int64\n",
            "dtypes: int64(43)\n",
            "memory usage: 39.2 MB\n"
          ],
          "name": "stdout"
        }
      ]
    },
    {
      "cell_type": "code",
      "metadata": {
        "colab": {
          "base_uri": "https://localhost:8080/",
          "height": 456
        },
        "id": "tnXRK1TWFCKY",
        "outputId": "91afcf78-2f9d-4456-d420-15e7bfe1fd18"
      },
      "source": [
        "import matplotlib.pyplot as plt\n",
        "data.plot(kind='box', figsize=(30,10))\n",
        "plt.show()"
      ],
      "execution_count": 20,
      "outputs": [
        {
          "output_type": "display_data",
          "data": {
            "image/png": "[encoded data removed]",
            "text/plain": [
              "<Figure size 2160x720 with 1 Axes>"
            ]
          },
          "metadata": {
            "tags": [],
            "needs_background": "light"
          }
        }
      ]
    },
    {
      "cell_type": "code",
      "metadata": {
        "id": "UTAYf5vPGAIq"
      },
      "source": [
        "data=data.drop(['sload'],axis=1)\n",
        "data=data.drop(['dload'],axis=1)"
      ],
      "execution_count": 21,
      "outputs": []
    },
    {
      "cell_type": "code",
      "metadata": {
        "id": "tU3VwVox0ZnH"
      },
      "source": [
        "target = data['label']"
      ],
      "execution_count": 22,
      "outputs": []
    },
    {
      "cell_type": "code",
      "metadata": {
        "colab": {
          "base_uri": "https://localhost:8080/"
        },
        "id": "ArN5hIr8Gpls",
        "outputId": "24d5fde7-229a-4463-98cb-51e712059546"
      },
      "source": [
        "# Find and remove correlated features\n",
        "def correlation(dataset, threshold):\n",
        "    col_corr = set()  # Set of all the names of correlated columns\n",
        "    corr_matrix = dataset.corr()\n",
        "    for i in range(len(corr_matrix.columns)):\n",
        "        for j in range(i):\n",
        "            if abs(corr_matrix.iloc[i, j]) > threshold: # we are interested in absolute coeff value\n",
        "                colname = corr_matrix.columns[i]  # getting the name of column\n",
        "                col_corr.add(colname)\n",
        "    return col_corr\n",
        " \n",
        "corr_features = correlation(data, 0.8)\n",
        "print('correlated features: ', set(corr_features) )"
      ],
      "execution_count": 23,
      "outputs": [
        {
          "output_type": "stream",
          "text": [
            "correlated features:  {'dbytes', 'sbytes', 'ct_srv_dst', 'dwin', 'label', 'sloss', 'dloss', 'is_sm_ips_ports', 'ct_ftp_cmd'}\n"
          ],
          "name": "stdout"
        }
      ]
    },
    {
      "cell_type": "code",
      "metadata": {
        "id": "3HAmRH42JbO-"
      },
      "source": [
        "data.drop(labels=corr_features, axis=1, inplace=True)"
      ],
      "execution_count": 24,
      "outputs": []
    },
    {
      "cell_type": "code",
      "metadata": {
        "id": "c1GE-lnyXNJp"
      },
      "source": [
        "features = data\n",
        "X_Train,X_Test,Y_Train,Y_Test=train_test_split(features,target,test_size = 0.2,random_state=42)"
      ],
      "execution_count": 25,
      "outputs": []
    },
    {
      "cell_type": "code",
      "metadata": {
        "colab": {
          "base_uri": "https://localhost:8080/"
        },
        "id": "7wNQkTd2GduE",
        "outputId": "aa21b451-6e15-4357-cdea-a581be1e2cb4"
      },
      "source": [
        "X = X_Train\n",
        "Y = Y_Train\n",
        "C = Y_Test\n",
        "T = X_Test\n",
        "print(T)\n",
        "print(X)"
      ],
      "execution_count": 26,
      "outputs": [
        {
          "output_type": "stream",
          "text": [
            "       dur  proto  state  ...  ct_flw_http_mthd  ct_src_ltm  attack_cat\n",
            "2339     0    113      2  ...                 0           8           0\n",
            "43641    0    113      2  ...                 0           1           0\n",
            "10538    0    113      2  ...                 0           8           0\n",
            "85617    0    120      3  ...                 0           6           1\n",
            "6662     0    119      0  ...                 0           2           0\n",
            "...    ...    ...    ...  ...               ...         ...         ...\n",
            "2824     0    119      0  ...                 0           2           0\n",
            "51896    0    113      2  ...                 0           1           1\n",
            "20424    0    119      0  ...                 0           3           0\n",
            "63675    0    113      2  ...                 1           3           1\n",
            "80526    1    113      2  ...                 0           2           2\n",
            "\n",
            "[20377 rows x 32 columns]\n",
            "        dur  proto  state  ...  ct_flw_http_mthd  ct_src_ltm  attack_cat\n",
            "119548    0     97      0  ...                 0           1           1\n",
            "105882    0    113      2  ...                 1           1           2\n",
            "18600     0    113      2  ...                 0           4           0\n",
            "15274     0    113      2  ...                 0           2           0\n",
            "39158     0    113      2  ...                 0          10           0\n",
            "...     ...    ...    ...  ...               ...         ...         ...\n",
            "6265      1    113      2  ...                 1           3           0\n",
            "60633     0    119      3  ...                 0           1           2\n",
            "94762     1    113      2  ...                 1           1           1\n",
            "860       0    113      2  ...                 1          12           0\n",
            "15795     0    119      0  ...                 0           4           0\n",
            "\n",
            "[81507 rows x 32 columns]\n"
          ],
          "name": "stdout"
        }
      ]
    },
    {
      "cell_type": "code",
      "metadata": {
        "id": "nM7uzs-6Guev"
      },
      "source": [
        "from sklearn.preprocessing import StandardScaler\n",
        "scaler = StandardScaler()\n",
        "# transform data\n",
        "trainX = scaler.fit_transform(X)\n",
        "# summarize transformed data\n",
        "np.set_printoptions(precision=3)\n",
        "#print(trainX[0:5,:])"
      ],
      "execution_count": 27,
      "outputs": []
    },
    {
      "cell_type": "code",
      "metadata": {
        "id": "NI8y7jmkG2KI"
      },
      "source": [
        "scaler = StandardScaler()\n",
        "# transform data\n",
        "testT = scaler.fit_transform(T)\n",
        "# summarize transformed data\n",
        "np.set_printoptions(precision=3)\n",
        "#print(testT[0:5,:])"
      ],
      "execution_count": 28,
      "outputs": []
    },
    {
      "cell_type": "code",
      "metadata": {
        "id": "bDlBO3PaG9NN"
      },
      "source": [
        "y_train = np.array(Y)\n",
        "y_test = np.array(C)"
      ],
      "execution_count": 29,
      "outputs": []
    },
    {
      "cell_type": "markdown",
      "metadata": {
        "id": "WWv0rBqn1Ult"
      },
      "source": [
        "## **CNN Algorithm**"
      ]
    },
    {
      "cell_type": "code",
      "metadata": {
        "id": "2DP4rzJ81OmR"
      },
      "source": [
        "from __future__ import print_function\n",
        "import numpy as np\n",
        "np.random.seed(1337)  # for reproducibility\n",
        "\n",
        "from keras.preprocessing import sequence\n",
        "from keras.models import Sequential\n",
        "from keras.layers import Dense, Dropout, Activation, Lambda\n",
        "from keras.layers import Embedding\n",
        "from keras.layers import Convolution1D,MaxPooling1D, Flatten\n",
        "from keras.datasets import imdb\n",
        "from keras import backend as K\n",
        "import pandas as pd\n",
        "from keras.utils.np_utils import to_categorical\n",
        "\n",
        "from sklearn.preprocessing import Normalizer\n",
        "from keras.models import Sequential\n",
        "from keras.layers import Convolution1D, Dense, Dropout, Flatten, MaxPooling1D\n",
        "from keras.utils import np_utils\n",
        "import numpy as np\n",
        "import h5py\n",
        "from keras import callbacks\n",
        "from keras.layers import LSTM, GRU, SimpleRNN\n",
        "from keras.callbacks import CSVLogger\n",
        "from keras.callbacks import ModelCheckpoint, EarlyStopping, ReduceLROnPlateau, CSVLogger\n",
        "from keras.layers.convolutional import MaxPooling1D"
      ],
      "execution_count": 30,
      "outputs": []
    },
    {
      "cell_type": "code",
      "metadata": {
        "colab": {
          "base_uri": "https://localhost:8080/"
        },
        "id": "fyev_zUo1eNf",
        "outputId": "99630201-63e9-4a1b-8236-c60f384a228b"
      },
      "source": [
        "lstm_output_size = 128\n",
        "\n",
        "cnn = Sequential()\n",
        "cnn.add(Convolution1D(64, 3, padding=\"same\",activation=\"relu\",input_shape=(32,1)))\n",
        "cnn.add(MaxPooling1D(pool_size=(2)))\n",
        "cnn.add(Flatten())\n",
        "cnn.add(Dense(128, activation=\"relu\"))\n",
        "cnn.add(Dropout(0.1))\n",
        "cnn.add(Dense(1, activation=\"sigmoid\"))\n",
        "print(cnn.summary())"
      ],
      "execution_count": 31,
      "outputs": [
        {
          "output_type": "stream",
          "text": [
            "Model: \"sequential\"\n",
            "_________________________________________________________________\n",
            "Layer (type)                 Output Shape              Param #   \n",
            "=================================================================\n",
            "conv1d (Conv1D)              (None, 32, 64)            256       \n",
            "_________________________________________________________________\n",
            "max_pooling1d (MaxPooling1D) (None, 16, 64)            0         \n",
            "_________________________________________________________________\n",
            "flatten (Flatten)            (None, 1024)              0         \n",
            "_________________________________________________________________\n",
            "dense (Dense)                (None, 128)               131200    \n",
            "_________________________________________________________________\n",
            "dropout (Dropout)            (None, 128)               0         \n",
            "_________________________________________________________________\n",
            "dense_1 (Dense)              (None, 1)                 129       \n",
            "=================================================================\n",
            "Total params: 131,585\n",
            "Trainable params: 131,585\n",
            "Non-trainable params: 0\n",
            "_________________________________________________________________\n",
            "None\n"
          ],
          "name": "stdout"
        }
      ]
    },
    {
      "cell_type": "code",
      "metadata": {
        "colab": {
          "base_uri": "https://localhost:8080/"
        },
        "id": "QiUd3U0I1hML",
        "outputId": "d1ce86f4-4a2c-4284-9b96-e88ce31a34b8"
      },
      "source": [
        "X_train = np.reshape(trainX, (trainX.shape[0], trainX.shape[1],1))\n",
        "X_test = np.reshape(testT, (testT.shape[0], testT.shape[1],1))\n",
        "cnn.compile(loss=\"binary_crossentropy\", optimizer=\"adam\",metrics=['accuracy'])\n",
        "cnn.fit(X_train, y_train,epochs=10)"
      ],
      "execution_count": 32,
      "outputs": [
        {
          "output_type": "stream",
          "text": [
            "Epoch 1/10\n",
            "2548/2548 [==============================] - 26s 4ms/step - loss: 0.0424 - accuracy: 0.9855\n",
            "Epoch 2/10\n",
            "2548/2548 [==============================] - 10s 4ms/step - loss: 0.0034 - accuracy: 0.9998\n",
            "Epoch 3/10\n",
            "2548/2548 [==============================] - 10s 4ms/step - loss: 2.1612e-06 - accuracy: 1.0000\n",
            "Epoch 4/10\n",
            "2548/2548 [==============================] - 10s 4ms/step - loss: 2.9246e-07 - accuracy: 1.0000\n",
            "Epoch 5/10\n",
            "2548/2548 [==============================] - 10s 4ms/step - loss: 1.8788e-07 - accuracy: 1.0000\n",
            "Epoch 6/10\n",
            "2548/2548 [==============================] - 10s 4ms/step - loss: 8.0352e-04 - accuracy: 0.9998\n",
            "Epoch 7/10\n",
            "2548/2548 [==============================] - 10s 4ms/step - loss: 9.8789e-04 - accuracy: 0.9999\n",
            "Epoch 8/10\n",
            "2548/2548 [==============================] - 10s 4ms/step - loss: 2.2703e-07 - accuracy: 1.0000\n",
            "Epoch 9/10\n",
            "2548/2548 [==============================] - 10s 4ms/step - loss: 7.6341e-09 - accuracy: 1.0000\n",
            "Epoch 10/10\n",
            "2548/2548 [==============================] - 10s 4ms/step - loss: 5.1731e-09 - accuracy: 1.0000\n"
          ],
          "name": "stdout"
        },
        {
          "output_type": "execute_result",
          "data": {
            "text/plain": [
              "<keras.callbacks.History at 0x7fcb45abe350>"
            ]
          },
          "metadata": {
            "tags": []
          },
          "execution_count": 32
        }
      ]
    },
    {
      "cell_type": "code",
      "metadata": {
        "colab": {
          "base_uri": "https://localhost:8080/"
        },
        "id": "m-r9VBgK2szg",
        "outputId": "992bfd45-49a1-4e8b-cc3b-f7bb73ee830c"
      },
      "source": [
        "loss, accuracy = cnn.evaluate(X_test, y_test)\n",
        "print(\"\\nLoss: %.2f, Accuracy: %.2f%%\" % (loss, accuracy*100))"
      ],
      "execution_count": 33,
      "outputs": [
        {
          "output_type": "stream",
          "text": [
            "637/637 [==============================] - 1s 1ms/step - loss: 1.2111e-10 - accuracy: 1.0000\n",
            "\n",
            "Loss: 0.00, Accuracy: 100.00%\n"
          ],
          "name": "stdout"
        }
      ]
    },
    {
      "cell_type": "code",
      "metadata": {
        "colab": {
          "base_uri": "https://localhost:8080/"
        },
        "id": "TvfG1dHW2174",
        "outputId": "468f611c-3857-447e-b469-78c7b60d5d9a"
      },
      "source": [
        "from sklearn.metrics import confusion_matrix\n",
        "from sklearn.metrics import accuracy_score, recall_score, precision_score, f1_score\n",
        "y_pred = cnn.predict_classes(X_test)\n",
        "np.savetxt('/content/drive/MyDrive/expected.txt', y_test, fmt='%01d')\n",
        "np.savetxt('/content/drive/MyDrive/predicted.txt', y_pred, fmt='%01d')\n",
        "cnn_accuracy = accuracy_score(y_test, y_pred)\n",
        "cnn_error = (1- cnn_accuracy)*100\n",
        "cnn_recall = recall_score(y_test, y_pred , average=\"binary\")\n",
        "cnn_precision = precision_score(y_test, y_pred , average=\"binary\")\n",
        "cnn_f1 = f1_score(y_test, y_pred, average=\"binary\")\n",
        "\n",
        "print(\"confusion matrix\")\n",
        "print(\"----------------------------------------------\")\n",
        "print(\"accuracy\")\n",
        "print(\"%.6f\" %cnn_accuracy)\n",
        "print(\"racall\")\n",
        "print(\"%.6f\" %cnn_recall)\n",
        "print(\"precision\")\n",
        "print(\"%.6f\" %cnn_precision)\n",
        "print(\"f1score\")\n",
        "print(\"%.6f\" %cnn_f1)\n",
        "cm = confusion_matrix(y_test, y_pred)\n",
        "print(cm)\n",
        "print(\"==============================================\")"
      ],
      "execution_count": 34,
      "outputs": [
        {
          "output_type": "stream",
          "text": [
            "/usr/local/lib/python3.7/dist-packages/keras/engine/sequential.py:450: UserWarning: `model.predict_classes()` is deprecated and will be removed after 2021-01-01. Please use instead:* `np.argmax(model.predict(x), axis=-1)`,   if your model does multi-class classification   (e.g. if it uses a `softmax` last-layer activation).* `(model.predict(x) > 0.5).astype(\"int32\")`,   if your model does binary classification   (e.g. if it uses a `sigmoid` last-layer activation).\n",
            "  warnings.warn('`model.predict_classes()` is deprecated and '\n"
          ],
          "name": "stderr"
        },
        {
          "output_type": "stream",
          "text": [
            "confusion matrix\n",
            "----------------------------------------------\n",
            "accuracy\n",
            "1.000000\n",
            "racall\n",
            "1.000000\n",
            "precision\n",
            "1.000000\n",
            "f1score\n",
            "1.000000\n",
            "[[11205     0]\n",
            " [    0  9172]]\n",
            "==============================================\n"
          ],
          "name": "stdout"
        }
      ]
    },
    {
      "cell_type": "code",
      "metadata": {
        "colab": {
          "base_uri": "https://localhost:8080/"
        },
        "id": "sQaryOQ84KRc",
        "outputId": "df31e595-9763-49a5-f617-69b095cfa3d6"
      },
      "source": [
        "\n",
        "from sklearn.metrics import classification_report\n",
        "print(classification_report(y_test, y_pred, target_names=['Normal','Attacks']))"
      ],
      "execution_count": 35,
      "outputs": [
        {
          "output_type": "stream",
          "text": [
            "              precision    recall  f1-score   support\n",
            "\n",
            "      Normal       1.00      1.00      1.00     11205\n",
            "     Attacks       1.00      1.00      1.00      9172\n",
            "\n",
            "    accuracy                           1.00     20377\n",
            "   macro avg       1.00      1.00      1.00     20377\n",
            "weighted avg       1.00      1.00      1.00     20377\n",
            "\n"
          ],
          "name": "stdout"
        }
      ]
    },
    {
      "cell_type": "markdown",
      "metadata": {
        "id": "rxLasZsc4jGY"
      },
      "source": [
        "## **RNN Algorithm**"
      ]
    },
    {
      "cell_type": "code",
      "metadata": {
        "id": "nKwnpcvm4n1K"
      },
      "source": [
        "from __future__ import print_function\n",
        "from sklearn.model_selection import train_test_split\n",
        "import pandas as pd\n",
        "import numpy as np\n",
        "np.random.seed(1337)  # for reproducibility\n",
        "from tensorflow.keras.preprocessing import sequence\n",
        "from keras.utils import np_utils\n",
        "from tensorflow.keras.models import Sequential\n",
        "from tensorflow.keras.layers import Dense, Dropout, Activation, Embedding\n",
        "from tensorflow.keras.layers import LSTM, SimpleRNN, GRU\n",
        "from tensorflow.keras.datasets import imdb\n",
        "from keras.utils.np_utils import to_categorical\n",
        "from sklearn.metrics import (precision_score, recall_score,\n",
        "                             f1_score, accuracy_score,mean_squared_error,mean_absolute_error)\n",
        "from sklearn import metrics\n",
        "from sklearn.preprocessing import Normalizer\n",
        "import h5py\n",
        "from tensorflow.keras import callbacks\n",
        "from tensorflow.keras.callbacks import ModelCheckpoint, EarlyStopping, ReduceLROnPlateau, CSVLogger"
      ],
      "execution_count": 37,
      "outputs": []
    },
    {
      "cell_type": "code",
      "metadata": {
        "id": "QHOxtxp546NQ"
      },
      "source": [
        "batch_size = 64\n",
        "\n",
        "model = Sequential()\n",
        "model.add(SimpleRNN(8,input_dim=32, return_sequences=True)) \n",
        "model.add(Dropout(0.1))\n",
        "model.add(SimpleRNN(8, return_sequences=False)) \n",
        "model.add(Dropout(0.1))\n",
        "model.add(Dense(1))\n",
        "model.add(Activation('sigmoid'))"
      ],
      "execution_count": 38,
      "outputs": []
    },
    {
      "cell_type": "code",
      "metadata": {
        "colab": {
          "base_uri": "https://localhost:8080/"
        },
        "id": "kEl7ltpX5CeD",
        "outputId": "8f9fe8d4-b95b-4511-c32e-ed1e50f3ea4d"
      },
      "source": [
        "X_train = np.reshape(trainX, (trainX.shape[0],1, trainX.shape[1]))\n",
        "X_test = np.reshape(testT, (testT.shape[0],1, testT.shape[1]))\n",
        "model.compile(loss='binary_crossentropy',optimizer='adam',metrics=['accuracy'])\n",
        "\n",
        "model.fit(X_train, y_train, batch_size=batch_size, epochs=10)"
      ],
      "execution_count": 39,
      "outputs": [
        {
          "output_type": "stream",
          "text": [
            "Epoch 1/10\n",
            "1274/1274 [==============================] - 4s 2ms/step - loss: 0.1007 - accuracy: 0.9700\n",
            "Epoch 2/10\n",
            "1274/1274 [==============================] - 2s 2ms/step - loss: 0.0048 - accuracy: 0.9995\n",
            "Epoch 3/10\n",
            "1274/1274 [==============================] - 2s 2ms/step - loss: 0.0015 - accuracy: 0.9998\n",
            "Epoch 4/10\n",
            "1274/1274 [==============================] - 2s 2ms/step - loss: 9.5414e-04 - accuracy: 0.9999\n",
            "Epoch 5/10\n",
            "1274/1274 [==============================] - 2s 2ms/step - loss: 6.1144e-04 - accuracy: 0.9999\n",
            "Epoch 6/10\n",
            "1274/1274 [==============================] - 2s 2ms/step - loss: 3.1394e-04 - accuracy: 1.0000\n",
            "Epoch 7/10\n",
            "1274/1274 [==============================] - 2s 2ms/step - loss: 1.6011e-04 - accuracy: 1.0000\n",
            "Epoch 8/10\n",
            "1274/1274 [==============================] - 2s 2ms/step - loss: 1.4994e-04 - accuracy: 1.0000\n",
            "Epoch 9/10\n",
            "1274/1274 [==============================] - 2s 2ms/step - loss: 2.6975e-04 - accuracy: 0.9999\n",
            "Epoch 10/10\n",
            "1274/1274 [==============================] - 2s 2ms/step - loss: 1.4287e-04 - accuracy: 1.0000\n"
          ],
          "name": "stdout"
        },
        {
          "output_type": "execute_result",
          "data": {
            "text/plain": [
              "<tensorflow.python.keras.callbacks.History at 0x7fcb4767b150>"
            ]
          },
          "metadata": {
            "tags": []
          },
          "execution_count": 39
        }
      ]
    },
    {
      "cell_type": "code",
      "metadata": {
        "colab": {
          "base_uri": "https://localhost:8080/"
        },
        "id": "XrrBkx5f5TXY",
        "outputId": "5bcbd6fd-d40c-403a-c69f-d6ef28e28653"
      },
      "source": [
        "loss, accuracy = model.evaluate(X_test, y_test)\n",
        "print(\"\\nLoss: %.2f, Accuracy: %.2f%%\" % (loss, accuracy*100))"
      ],
      "execution_count": 40,
      "outputs": [
        {
          "output_type": "stream",
          "text": [
            "637/637 [==============================] - 1s 1ms/step - loss: 3.0436e-06 - accuracy: 1.0000\n",
            "\n",
            "Loss: 0.00, Accuracy: 100.00%\n"
          ],
          "name": "stdout"
        }
      ]
    },
    {
      "cell_type": "code",
      "metadata": {
        "colab": {
          "base_uri": "https://localhost:8080/"
        },
        "id": "VRqyL9J-5nME",
        "outputId": "085be94b-a93c-4531-d532-2460105987b4"
      },
      "source": [
        "y_pred = model.predict_classes(X_test)\n",
        "np.savetxt('/content/drive/MyDrive/expected.txt', y_test, fmt='%01d')\n",
        "np.savetxt('/content/drive/MyDrive/predicted.txt', y_pred, fmt='%01d')\n",
        "rnn_accuracy = accuracy_score(y_test, y_pred)\n",
        "rnn_error = (1- rnn_accuracy)*100\n",
        "rnn_recall = recall_score(y_test, y_pred , average=\"binary\")\n",
        "rnn_precision = precision_score(y_test, y_pred , average=\"binary\")\n",
        "rnn_f1 = f1_score(y_test, y_pred, average=\"binary\")\n",
        "\n",
        "print(\"confusion matrix\")\n",
        "print(\"----------------------------------------------\")\n",
        "print(\"accuracy\")\n",
        "print(\"%.6f\" %rnn_accuracy)\n",
        "print(\"racall\")\n",
        "print(\"%.6f\" %rnn_recall)\n",
        "print(\"precision\")\n",
        "print(\"%.6f\" %rnn_precision)\n",
        "print(\"f1score\")\n",
        "print(\"%.6f\" %rnn_f1)\n",
        "cm = confusion_matrix(y_test, y_pred)\n",
        "print(cm)\n",
        "print(\"==============================================\")"
      ],
      "execution_count": 41,
      "outputs": [
        {
          "output_type": "stream",
          "text": [
            "/usr/local/lib/python3.7/dist-packages/tensorflow/python/keras/engine/sequential.py:455: UserWarning: `model.predict_classes()` is deprecated and will be removed after 2021-01-01. Please use instead:* `np.argmax(model.predict(x), axis=-1)`,   if your model does multi-class classification   (e.g. if it uses a `softmax` last-layer activation).* `(model.predict(x) > 0.5).astype(\"int32\")`,   if your model does binary classification   (e.g. if it uses a `sigmoid` last-layer activation).\n",
            "  warnings.warn('`model.predict_classes()` is deprecated and '\n"
          ],
          "name": "stderr"
        },
        {
          "output_type": "stream",
          "text": [
            "confusion matrix\n",
            "----------------------------------------------\n",
            "accuracy\n",
            "1.000000\n",
            "racall\n",
            "1.000000\n",
            "precision\n",
            "1.000000\n",
            "f1score\n",
            "1.000000\n",
            "[[11205     0]\n",
            " [    0  9172]]\n",
            "==============================================\n"
          ],
          "name": "stdout"
        }
      ]
    },
    {
      "cell_type": "code",
      "metadata": {
        "colab": {
          "base_uri": "https://localhost:8080/"
        },
        "id": "qsWRLgUy6J4D",
        "outputId": "423d4a9d-10bb-4062-f0fc-78d27d6ae42c"
      },
      "source": [
        "from sklearn.metrics import classification_report\n",
        "print(classification_report(y_test, y_pred, target_names=['Normal','Attacks']))"
      ],
      "execution_count": 43,
      "outputs": [
        {
          "output_type": "stream",
          "text": [
            "              precision    recall  f1-score   support\n",
            "\n",
            "      Normal       1.00      1.00      1.00     11205\n",
            "     Attacks       1.00      1.00      1.00      9172\n",
            "\n",
            "    accuracy                           1.00     20377\n",
            "   macro avg       1.00      1.00      1.00     20377\n",
            "weighted avg       1.00      1.00      1.00     20377\n",
            "\n"
          ],
          "name": "stdout"
        }
      ]
    },
    {
      "cell_type": "markdown",
      "metadata": {
        "id": "52FlF82B6SMH"
      },
      "source": [
        "# **SVM Algorithm**"
      ]
    },
    {
      "cell_type": "code",
      "metadata": {
        "colab": {
          "base_uri": "https://localhost:8080/"
        },
        "id": "3P8YYcmA6ZbV",
        "outputId": "2bb8dad8-1ea9-480b-8fcc-2eb1c710c212"
      },
      "source": [
        "from sklearn.svm import SVC\n",
        "model = SVC(kernel='sigmoid',C=0.1,random_state = 1)\n",
        "model.fit(trainX, y_train)"
      ],
      "execution_count": 44,
      "outputs": [
        {
          "output_type": "execute_result",
          "data": {
            "text/plain": [
              "SVC(C=0.1, break_ties=False, cache_size=200, class_weight=None, coef0=0.0,\n",
              "    decision_function_shape='ovr', degree=3, gamma='scale', kernel='sigmoid',\n",
              "    max_iter=-1, probability=False, random_state=1, shrinking=True, tol=0.001,\n",
              "    verbose=False)"
            ]
          },
          "metadata": {
            "tags": []
          },
          "execution_count": 44
        }
      ]
    },
    {
      "cell_type": "code",
      "metadata": {
        "colab": {
          "base_uri": "https://localhost:8080/"
        },
        "id": "_rnNtKHw6m8Q",
        "outputId": "1f5b13c2-5ea4-47a4-8dc0-e2e0a5c901f8"
      },
      "source": [
        "predict = model.predict(testT)\n",
        "np.savetxt('/content/drive/MyDrive/expected.txt', y_test, fmt='%01d')\n",
        "np.savetxt('/content/drive/MyDrive/predicted.txt', predict, fmt='%01d')\n",
        "svm_accuracy = accuracy_score(y_test, predict)\n",
        "svm_error = (1- svm_accuracy)*100\n",
        "svm_recall = recall_score(y_test, predict , average=\"binary\")\n",
        "svm_precision = precision_score(y_test, predict , average=\"binary\")\n",
        "svm_f1 = f1_score(y_test, predict, average=\"binary\")\n",
        "\n",
        "print(\"confusion matrix\")\n",
        "print(\"----------------------------------------------\")\n",
        "print(\"accuracy\")\n",
        "print(\"%.6f\" %svm_accuracy)\n",
        "print(\"racall\")\n",
        "print(\"%.6f\" %svm_recall)\n",
        "print(\"precision\")\n",
        "print(\"%.6f\" %svm_precision)\n",
        "print(\"f1score\")\n",
        "print(\"%.6f\" %svm_f1)\n",
        "cm = confusion_matrix(y_test, predict)\n",
        "print(cm)\n",
        "print(\"==============================================\")"
      ],
      "execution_count": 45,
      "outputs": [
        {
          "output_type": "stream",
          "text": [
            "confusion matrix\n",
            "----------------------------------------------\n",
            "accuracy\n",
            "0.973990\n",
            "racall\n",
            "0.973724\n",
            "precision\n",
            "0.968655\n",
            "f1score\n",
            "0.971183\n",
            "[[10916   289]\n",
            " [  241  8931]]\n",
            "==============================================\n"
          ],
          "name": "stdout"
        }
      ]
    },
    {
      "cell_type": "code",
      "metadata": {
        "colab": {
          "base_uri": "https://localhost:8080/"
        },
        "id": "YJ5qYIGQ-UHc",
        "outputId": "5e41f0c0-f0eb-4c1e-af7e-f6ff05efdce8"
      },
      "source": [
        "from sklearn.metrics import classification_report\n",
        "print(classification_report(y_test, predict, target_names=['Normal','Attacks']))"
      ],
      "execution_count": 46,
      "outputs": [
        {
          "output_type": "stream",
          "text": [
            "              precision    recall  f1-score   support\n",
            "\n",
            "      Normal       0.98      0.97      0.98     11205\n",
            "     Attacks       0.97      0.97      0.97      9172\n",
            "\n",
            "    accuracy                           0.97     20377\n",
            "   macro avg       0.97      0.97      0.97     20377\n",
            "weighted avg       0.97      0.97      0.97     20377\n",
            "\n"
          ],
          "name": "stdout"
        }
      ]
    },
    {
      "cell_type": "markdown",
      "metadata": {
        "id": "Kc11ygSh-cTL"
      },
      "source": [
        "## **Decision Tree Algorithm**"
      ]
    },
    {
      "cell_type": "code",
      "metadata": {
        "colab": {
          "base_uri": "https://localhost:8080/"
        },
        "id": "17P-JxS5-Zi7",
        "outputId": "0b37af1a-8226-44b8-ff73-fbe86d6a8414"
      },
      "source": [
        "from sklearn.tree import DecisionTreeClassifier\n",
        "dtc = DecisionTreeClassifier(criterion='entropy',random_state=0,splitter=\"random\",max_features=5,max_depth=6)\n",
        "dtc.fit(trainX, y_train)"
      ],
      "execution_count": 47,
      "outputs": [
        {
          "output_type": "execute_result",
          "data": {
            "text/plain": [
              "DecisionTreeClassifier(ccp_alpha=0.0, class_weight=None, criterion='entropy',\n",
              "                       max_depth=6, max_features=5, max_leaf_nodes=None,\n",
              "                       min_impurity_decrease=0.0, min_impurity_split=None,\n",
              "                       min_samples_leaf=1, min_samples_split=2,\n",
              "                       min_weight_fraction_leaf=0.0, presort='deprecated',\n",
              "                       random_state=0, splitter='random')"
            ]
          },
          "metadata": {
            "tags": []
          },
          "execution_count": 47
        }
      ]
    },
    {
      "cell_type": "code",
      "metadata": {
        "colab": {
          "base_uri": "https://localhost:8080/"
        },
        "id": "C8w2i0bt-nHu",
        "outputId": "4ed6f88b-faf0-44ac-bc9c-55e141e683a6"
      },
      "source": [
        "predict = dtc.predict(testT)\n",
        "np.savetxt('/content/drive/MyDrive/expected.txt', y_test, fmt='%01d')\n",
        "np.savetxt('/content/drive/MyDrive/predicted.txt', predict, fmt='%01d')\n",
        "dtc_accuracy = accuracy_score(y_test, predict)\n",
        "dtc_error = (1- dtc_accuracy)*100\n",
        "dtc_recall = recall_score(y_test, predict , average=\"binary\")\n",
        "dtc_precision = precision_score(y_test, predict , average=\"binary\")\n",
        "dtc_f1 = f1_score(y_test, predict, average=\"binary\")\n",
        "\n",
        "print(\"confusion matrix\")\n",
        "print(\"----------------------------------------------\")\n",
        "print(\"accuracy\")\n",
        "print(\"%.6f\" %dtc_accuracy)\n",
        "print(\"racall\")\n",
        "print(\"%.6f\" %dtc_recall)\n",
        "print(\"precision\")\n",
        "print(\"%.6f\" %dtc_precision)\n",
        "print(\"f1score\")\n",
        "print(\"%.6f\" %dtc_f1)\n",
        "cm = confusion_matrix(y_test, predict)\n",
        "print(cm)\n",
        "print(\"==============================================\")"
      ],
      "execution_count": 48,
      "outputs": [
        {
          "output_type": "stream",
          "text": [
            "confusion matrix\n",
            "----------------------------------------------\n",
            "accuracy\n",
            "0.955146\n",
            "racall\n",
            "0.964348\n",
            "precision\n",
            "0.937765\n",
            "f1score\n",
            "0.950871\n",
            "[[10618   587]\n",
            " [  327  8845]]\n",
            "==============================================\n"
          ],
          "name": "stdout"
        }
      ]
    },
    {
      "cell_type": "code",
      "metadata": {
        "colab": {
          "base_uri": "https://localhost:8080/"
        },
        "id": "b7-JyCVe_xfA",
        "outputId": "a6e8d7f7-2ddb-4df5-d482-944a877e8350"
      },
      "source": [
        "from sklearn.metrics import classification_report\n",
        "print(classification_report(y_test, predict, target_names=['Normal','Attacks']))"
      ],
      "execution_count": 49,
      "outputs": [
        {
          "output_type": "stream",
          "text": [
            "              precision    recall  f1-score   support\n",
            "\n",
            "      Normal       0.97      0.95      0.96     11205\n",
            "     Attacks       0.94      0.96      0.95      9172\n",
            "\n",
            "    accuracy                           0.96     20377\n",
            "   macro avg       0.95      0.96      0.95     20377\n",
            "weighted avg       0.96      0.96      0.96     20377\n",
            "\n"
          ],
          "name": "stdout"
        }
      ]
    },
    {
      "cell_type": "code",
      "metadata": {
        "colab": {
          "base_uri": "https://localhost:8080/",
          "height": 188
        },
        "id": "4afCq_i6Ach5",
        "outputId": "36903dcb-2641-4439-e997-e81e60566804"
      },
      "source": [
        "report = pd.DataFrame(index=[1,2,3,4])\n",
        "report['Algorithm'] = ['CNN', 'RNN','SVM', 'DTC']\n",
        "report['Accuracy (%)'] = [cnn_accuracy*100, rnn_accuracy*100,svm_accuracy*100,dtc_accuracy*100]\n",
        "report['Error (%)'] = [cnn_error, rnn_error,svm_error,dtc_error]\n",
        "report['Precision (%)'] = [cnn_precision*100,rnn_precision*100,svm_precision*100,dtc_precision*100]\n",
        "report['Recall (%)'] = [cnn_recall*100,rnn_recall*100,svm_recall*100,dtc_recall*100]\n",
        "report['F1 score (%)'] = [cnn_f1*100,rnn_f1*100,svm_f1*100,dtc_f1*100]\n",
        "print(\"============================Binary class Classification of Attacks============================\")\n",
        "report"
      ],
      "execution_count": 53,
      "outputs": [
        {
          "output_type": "stream",
          "text": [
            "============================Binary class Classification of Attacks============================\n"
          ],
          "name": "stdout"
        },
        {
          "output_type": "execute_result",
          "data": {
            "text/html": [
              "<div>\n",
              "<style scoped>\n",
              "    .dataframe tbody tr th:only-of-type {\n",
              "        vertical-align: middle;\n",
              "    }\n",
              "\n",
              "    .dataframe tbody tr th {\n",
              "        vertical-align: top;\n",
              "    }\n",
              "\n",
              "    .dataframe thead th {\n",
              "        text-align: right;\n",
              "    }\n",
              "</style>\n",
              "<table border=\"1\" class=\"dataframe\">\n",
              "  <thead>\n",
              "    <tr style=\"text-align: right;\">\n",
              "      <th></th>\n",
              "      <th>Algorithm</th>\n",
              "      <th>Accuracy (%)</th>\n",
              "      <th>Error (%)</th>\n",
              "      <th>Precision (%)</th>\n",
              "      <th>Recall (%)</th>\n",
              "      <th>F1 score (%)</th>\n",
              "    </tr>\n",
              "  </thead>\n",
              "  <tbody>\n",
              "    <tr>\n",
              "      <th>1</th>\n",
              "      <td>CNN</td>\n",
              "      <td>100.000000</td>\n",
              "      <td>0.000000</td>\n",
              "      <td>100.000000</td>\n",
              "      <td>100.000000</td>\n",
              "      <td>100.000000</td>\n",
              "    </tr>\n",
              "    <tr>\n",
              "      <th>2</th>\n",
              "      <td>RNN</td>\n",
              "      <td>100.000000</td>\n",
              "      <td>0.000000</td>\n",
              "      <td>100.000000</td>\n",
              "      <td>100.000000</td>\n",
              "      <td>100.000000</td>\n",
              "    </tr>\n",
              "    <tr>\n",
              "      <th>3</th>\n",
              "      <td>SVM</td>\n",
              "      <td>97.399028</td>\n",
              "      <td>2.600972</td>\n",
              "      <td>96.865510</td>\n",
              "      <td>97.372438</td>\n",
              "      <td>97.118312</td>\n",
              "    </tr>\n",
              "    <tr>\n",
              "      <th>4</th>\n",
              "      <td>DTC</td>\n",
              "      <td>95.514551</td>\n",
              "      <td>4.485449</td>\n",
              "      <td>93.776506</td>\n",
              "      <td>96.434802</td>\n",
              "      <td>95.087078</td>\n",
              "    </tr>\n",
              "  </tbody>\n",
              "</table>\n",
              "</div>"
            ],
            "text/plain": [
              "  Algorithm  Accuracy (%)  Error (%)  Precision (%)  Recall (%)  F1 score (%)\n",
              "1       CNN    100.000000   0.000000     100.000000  100.000000    100.000000\n",
              "2       RNN    100.000000   0.000000     100.000000  100.000000    100.000000\n",
              "3       SVM     97.399028   2.600972      96.865510   97.372438     97.118312\n",
              "4       DTC     95.514551   4.485449      93.776506   96.434802     95.087078"
            ]
          },
          "metadata": {
            "tags": []
          },
          "execution_count": 53
        }
      ]
    },
    {
      "cell_type": "code",
      "metadata": {
        "colab": {
          "base_uri": "https://localhost:8080/",
          "height": 388
        },
        "id": "HsTHA2ZhAwqX",
        "outputId": "a39e4ef7-1f93-4fae-cf14-155fbbe6b64c"
      },
      "source": [
        "import matplotlib.pyplot as plt\n",
        "report.plot(x=\"Algorithm\", y=[\"Accuracy (%)\", \"Precision (%)\", \"Recall (%)\",\"F1 score (%)\"], kind=\"bar\",figsize=(10,6))\n",
        "plt.xticks(rotation=360)\n",
        "plt.show()"
      ],
      "execution_count": 59,
      "outputs": [
        {
          "output_type": "display_data",
          "data": {
            "image/png": "[encoded data removed]",
            "text/plain": [
              "<Figure size 720x432 with 1 Axes>"
            ]
          },
          "metadata": {
            "tags": [],
            "needs_background": "light"
          }
        }
      ]
    },
    {
      "cell_type": "code",
      "metadata": {
        "colab": {
          "base_uri": "https://localhost:8080/",
          "height": 334
        },
        "id": "ajR5h_r_A4U8",
        "outputId": "fff78c98-e369-4c21-cdf2-bad3fdcc8759"
      },
      "source": [
        "fig, ax = plt.subplots(figsize=(10,5))\n",
        "sns.lineplot(x=\"Algorithm\", y=\"Accuracy (%)\", data=report, ax=ax)\n",
        "plt.show()"
      ],
      "execution_count": 60,
      "outputs": [
        {
          "output_type": "display_data",
          "data": {
            "image/png": "[encoded data removed]",
            "text/plain": [
              "<Figure size 720x360 with 1 Axes>"
            ]
          },
          "metadata": {
            "tags": [],
            "needs_background": "light"
          }
        }
      ]
    },
    {
      "cell_type": "code",
      "metadata": {
        "id": "-582qZOGA-Jm"
      },
      "source": [
        ""
      ],
      "execution_count": null,
      "outputs": []
    }
  ]
}